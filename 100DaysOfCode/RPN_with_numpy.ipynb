{
 "cells": [
  {
   "cell_type": "markdown",
   "id": "b2ec732c-08b2-4627-9b2d-c775e2ad8d38",
   "metadata": {},
   "source": [
    "## The RPN algorithm:\n",
    "The RPN (Reverse-Polish-Notation) algorithm is a way of converting infix expressions into postfix expressions.\n",
    "> (7 + 5) * (2 / 5) - 7\n",
    "> becomes:\n",
    "> 7 5 + 2 5 / * 7 -\n",
    "\n",
    "There are two main properties to consider, such as the type of input (operand vs. operator) and the priority of the operators using BIDMAS.\n"
   ]
  },
  {
   "cell_type": "code",
   "execution_count": 3,
   "id": "eccc2103-6ad5-41da-b137-b52c1a8fde15",
   "metadata": {},
   "outputs": [],
   "source": [
    "import numpy as np"
   ]
  },
  {
   "cell_type": "code",
   "execution_count": 5,
   "id": "beb13471-6a8f-4ee6-af9f-dc033b3a11e5",
   "metadata": {},
   "outputs": [],
   "source": [
    "# first we must define a function to find the priority of our operators\n",
    "def priority(operator):\n",
    "    match operator:\n",
    "        case '^':\n",
    "            return 4\n",
    "        case '/':\n",
    "            return 3\n",
    "        case '*' | '%':\n",
    "            return 2\n",
    "        case '+':\n",
    "            return 1\n",
    "        case '-':\n",
    "            return 0\n",
    "    return -1"
   ]
  },
  {
   "cell_type": "code",
   "execution_count": 109,
   "id": "1eabc2e1-a07b-4e5b-8a21-ac2e524835a7",
   "metadata": {},
   "outputs": [],
   "source": [
    "import queue"
   ]
  },
  {
   "cell_type": "code",
   "execution_count": null,
   "id": "c5132517-181d-471d-8455-066471042a63",
   "metadata": {},
   "outputs": [],
   "source": [
    "# next we will convert from infix to postfix\n",
    "def infix_to_postfix(infix_expression):\n",
    "    op_stack = queue.LifoQueue()\n",
    "    # a safe bet is to make the stack the size of the expression, worst case scenario is (...( )...)\n",
    "    output = \"\"\n",
    "    # create an empty output string\n",
    "\n",
    "    for index in range(len(infix_expression)):\n",
    "        # visit each character in the expression\n",
    "        input_char = infix_expression[index]\n",
    "        print(index)\n",
    "        \n",
    "        if input_char.isdigit():\n",
    "            # operand\n",
    "            output += str(input_char)\n",
    "            # push the operand to the output\n",
    "        \n",
    "        else:\n",
    "            # operators and brackets\n",
    "            if input_char == \"(\":\n",
    "                # start bracket\n",
    "                op_stack.put(input_char)\n",
    "                # push the bracket onto the stack\n",
    "            \n",
    "            elif input_char == \")\":\n",
    "                # end bracket\n",
    "                peek = op_stack.get()\n",
    "                while not op_stack.empty() or peek != \"(\":\n",
    "                    output += str(op_stack.get())\n",
    "                    peek = op_stack.get()\n",
    "                # get rid of openning bracket\n",
    "            \n",
    "            else:\n",
    "                # operator\n",
    "                peek = op_stack.get()\n",
    "                if priority(input_char) >= priority(peek):\n",
    "                    # push operator onto stack\n",
    "                    op_stack.put(peek)\n",
    "                    op_stack.put(input_char)\n",
    "                    continue\n",
    "                    \n",
    "                while priority(input_char) <= priority(peek):\n",
    "                    # priority of operator on stack is higher than current operator\n",
    "                    output += str(peek)\n",
    "                    # push current operator to the output\n",
    "                    peek = op_stack.get()\n",
    "    \n",
    "    return output"
   ]
  },
  {
   "cell_type": "markdown",
   "id": "dd8db675-bb56-4c4a-8aee-fbc56429ee79",
   "metadata": {},
   "source": [
    "## Testing our program\n",
    "First we can create an infix expression, we already made one earlier, to which we know the expected output.\n",
    "We can use this expression by creating a string and inputting it into our infix to postfix function."
   ]
  },
  {
   "cell_type": "code",
   "execution_count": null,
   "id": "940147fd-b465-48d1-92f8-2b2c480e2c54",
   "metadata": {},
   "outputs": [],
   "source": [
    "test_string = \"(7+5)*(2/5)-7\"\n",
    "\n",
    "print(infix_to_postfix(test_string))"
   ]
  },
  {
   "cell_type": "code",
   "execution_count": null,
   "id": "731f5b59-4cc8-4ea7-8f7a-98c735b8c31b",
   "metadata": {},
   "outputs": [],
   "source": []
  }
 ],
 "metadata": {
  "kernelspec": {
   "display_name": "Python [conda env:base] *",
   "language": "python",
   "name": "conda-base-py"
  },
  "language_info": {
   "codemirror_mode": {
    "name": "ipython",
    "version": 3
   },
   "file_extension": ".py",
   "mimetype": "text/x-python",
   "name": "python",
   "nbconvert_exporter": "python",
   "pygments_lexer": "ipython3",
   "version": "3.12.7"
  }
 },
 "nbformat": 4,
 "nbformat_minor": 5
}
