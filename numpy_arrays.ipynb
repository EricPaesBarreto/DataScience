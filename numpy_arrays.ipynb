{
 "cells": [
  {
   "cell_type": "markdown",
   "id": "c8cdc342-12c5-4ee9-b8d5-1f3a7360d2db",
   "metadata": {},
   "source": [
    "# Using arrays in numpy\n",
    "Numpy allows us to use efficient and fast arrays, matrices and apply mathematical functions such as sorting, fourier transforms and linear algebra upon them.\n",
    "\n",
    "The first step is to import numpy into our file:"
   ]
  },
  {
   "cell_type": "code",
   "execution_count": 159,
   "id": "31eb7b6b-e56c-4d2c-8f8e-21a26f54ffd1",
   "metadata": {},
   "outputs": [],
   "source": [
    "import numpy as np"
   ]
  },
  {
   "cell_type": "markdown",
   "id": "98f97d9c-e434-45db-897d-94b3241d419b",
   "metadata": {},
   "source": [
    "### Defining arrays, and datatypes:\n",
    "To define an array using NumPy, we will need to create a variable, let's call it 'array1' using numpy.array().</br>\n",
    "\n",
    "We must also assign the values from declaration, and we can specify the data type using the argument dtype = 'a', where a is our datatype. In the example below, the value 'i' is used to specify the integer datatype:"
   ]
  },
  {
   "cell_type": "code",
   "execution_count": 161,
   "id": "798a7b93-94fc-4e9f-9cbc-5b9fe0b48b5f",
   "metadata": {},
   "outputs": [],
   "source": [
    "import numpy as np\n",
    "array1 = np.array([0,1,2,3,4], dtype='i')"
   ]
  },
  {
   "cell_type": "markdown",
   "id": "aba396c5-8152-459a-82a4-5e88ed827f89",
   "metadata": {},
   "source": [
    "### Methods and functions using arrays:\n",
    "We can print all of the values in our array by using the print() function.</br>\n",
    "\n",
    "To get the datatype of our array we may use the dtype property, note that using type(array) will simply return 'numpy.ndarray'."
   ]
  },
  {
   "cell_type": "code",
   "execution_count": 163,
   "id": "82bd304f-3506-4747-8475-923398748c84",
   "metadata": {},
   "outputs": [],
   "source": [
    "import numpy as np\n",
    "array1 = np.array([0.1,0.2,0.3,0.4,0.5,0.6,0.7,0.8,0.9,1.0], dtype = 'f')"
   ]
  },
  {
   "cell_type": "code",
   "execution_count": 164,
   "id": "f3dfc868-cd9e-43c1-9d45-9ffeb69ecc1b",
   "metadata": {},
   "outputs": [
    {
     "name": "stdout",
     "output_type": "stream",
     "text": [
      "[0.1 0.2 0.3 0.4 0.5 0.6 0.7 0.8 0.9 1. ]\n"
     ]
    }
   ],
   "source": [
    "print(array1)"
   ]
  },
  {
   "cell_type": "code",
   "execution_count": 165,
   "id": "c0539faa-1672-4506-a51e-1e4747eeb44e",
   "metadata": {},
   "outputs": [
    {
     "data": {
      "text/plain": [
       "dtype('float32')"
      ]
     },
     "execution_count": 165,
     "metadata": {},
     "output_type": "execute_result"
    }
   ],
   "source": [
    "array1.dtype"
   ]
  },
  {
   "cell_type": "code",
   "execution_count": 166,
   "id": "aa6f4f88-3d8e-4cc9-b37d-1262facc7fb6",
   "metadata": {},
   "outputs": [
    {
     "data": {
      "text/plain": [
       "numpy.ndarray"
      ]
     },
     "execution_count": 166,
     "metadata": {},
     "output_type": "execute_result"
    }
   ],
   "source": [
    "type(array1)"
   ]
  },
  {
   "cell_type": "markdown",
   "id": "1eb0471b-a21b-493b-b7d8-b6ffd6ef80be",
   "metadata": {},
   "source": [
    "### Multidimensional arrays\n",
    "When defining an array, we can assign its dimensions by treating it as an array of arrays, up to the number of dimensions we have.</br>\n",
    "\n",
    "Using the ndim property to get the dimensionality of the array, we can then use this to access specific layers of the n-dimensional array.</br>\n",
    "\n",
    "Something important to note is that the dimensionality should be consistent across all the layers of the n-dimensional array."
   ]
  },
  {
   "cell_type": "code",
   "execution_count": 168,
   "id": "a7ff3730-46e9-4a3f-952a-c47c47bac36b",
   "metadata": {},
   "outputs": [],
   "source": [
    "import numpy as np\n",
    "array2d = np.array([[1, 2, 3], [4, 5, 6]])\n",
    "array3d = np.array([[[1, 2, 3],[4, 5, 6, ]],[[7, 8, 9],[10, 11, 12]]])"
   ]
  },
  {
   "cell_type": "code",
   "execution_count": 169,
   "id": "4c9245e4-0c3e-4689-8707-1793e3cda9fe",
   "metadata": {},
   "outputs": [
    {
     "data": {
      "text/plain": [
       "2"
      ]
     },
     "execution_count": 169,
     "metadata": {},
     "output_type": "execute_result"
    }
   ],
   "source": [
    "array2d.ndim"
   ]
  },
  {
   "cell_type": "code",
   "execution_count": 170,
   "id": "5d960912-b52c-431b-a01f-700fd97c588d",
   "metadata": {},
   "outputs": [
    {
     "data": {
      "text/plain": [
       "3"
      ]
     },
     "execution_count": 170,
     "metadata": {},
     "output_type": "execute_result"
    }
   ],
   "source": [
    "array3d.ndim"
   ]
  },
  {
   "cell_type": "code",
   "execution_count": 171,
   "id": "5179fcc9-244e-44eb-a94c-2498c4b8d29e",
   "metadata": {},
   "outputs": [
    {
     "name": "stdout",
     "output_type": "stream",
     "text": [
      "[1 2 3]\n"
     ]
    }
   ],
   "source": [
    "print(array2d[0])"
   ]
  },
  {
   "cell_type": "code",
   "execution_count": 172,
   "id": "6dda1446-da51-4ed6-81f2-65434ecaff3b",
   "metadata": {},
   "outputs": [
    {
     "name": "stdout",
     "output_type": "stream",
     "text": [
      "[10 11 12]\n"
     ]
    }
   ],
   "source": [
    "print(array3d[1, 1])"
   ]
  },
  {
   "cell_type": "code",
   "execution_count": 173,
   "id": "2fce2931-50c0-44a3-a8da-339b85944fef",
   "metadata": {},
   "outputs": [
    {
     "name": "stdout",
     "output_type": "stream",
     "text": [
      "1\n"
     ]
    }
   ],
   "source": [
    "print(array3d[0,0,0])"
   ]
  },
  {
   "cell_type": "code",
   "execution_count": 174,
   "id": "1f5339a1-ea9b-49e1-a98b-6da753cf3041",
   "metadata": {},
   "outputs": [
    {
     "data": {
      "text/plain": [
       "numpy.ndarray"
      ]
     },
     "execution_count": 174,
     "metadata": {},
     "output_type": "execute_result"
    }
   ],
   "source": [
    "type(array2d)"
   ]
  },
  {
   "cell_type": "code",
   "execution_count": 175,
   "id": "9083b0f6-7899-4355-84fe-dac8d24a9e6b",
   "metadata": {},
   "outputs": [
    {
     "data": {
      "text/plain": [
       "dtype('int32')"
      ]
     },
     "execution_count": 175,
     "metadata": {},
     "output_type": "execute_result"
    }
   ],
   "source": [
    "array3d.dtype"
   ]
  },
  {
   "cell_type": "code",
   "execution_count": 176,
   "id": "1f451cc8-1cca-4888-8d99-dcf42e3e5739",
   "metadata": {},
   "outputs": [
    {
     "data": {
      "text/plain": [
       "numpy.int32"
      ]
     },
     "execution_count": 176,
     "metadata": {},
     "output_type": "execute_result"
    }
   ],
   "source": [
    "type(array3d[0,0,0])"
   ]
  },
  {
   "cell_type": "markdown",
   "id": "133a18c7-d2f8-4c7a-9573-82e03d98f63f",
   "metadata": {},
   "source": [
    "#### Note:\n",
    "Something interesting to note, is that an array with an array defined inside, no matter the number of items within the array, will be a 1-dimensional array.</br>\n",
    "\n",
    "An array, however, defined with a single value within it, will be a zero-dimensional array."
   ]
  },
  {
   "cell_type": "code",
   "execution_count": 178,
   "id": "28d13de9-f83b-40a6-a928-a310dc02cbc0",
   "metadata": {},
   "outputs": [],
   "source": [
    "import numpy as np\n",
    "array1d = np.array([1])\n",
    "array0d = np.array(1)\n",
    "arrayEmpty = np.array([])"
   ]
  },
  {
   "cell_type": "code",
   "execution_count": 179,
   "id": "beb5aa42-81aa-43ca-a11d-cf79dfeb9daa",
   "metadata": {},
   "outputs": [
    {
     "data": {
      "text/plain": [
       "1"
      ]
     },
     "execution_count": 179,
     "metadata": {},
     "output_type": "execute_result"
    }
   ],
   "source": [
    "array1d.ndim"
   ]
  },
  {
   "cell_type": "code",
   "execution_count": 180,
   "id": "ed205d65-3524-4190-b23e-f0f9ae939a90",
   "metadata": {},
   "outputs": [
    {
     "data": {
      "text/plain": [
       "0"
      ]
     },
     "execution_count": 180,
     "metadata": {},
     "output_type": "execute_result"
    }
   ],
   "source": [
    "array0d.ndim"
   ]
  },
  {
   "cell_type": "code",
   "execution_count": 181,
   "id": "b35c8cd9-713a-47c2-803b-2f295b724364",
   "metadata": {},
   "outputs": [
    {
     "data": {
      "text/plain": [
       "1"
      ]
     },
     "execution_count": 181,
     "metadata": {},
     "output_type": "execute_result"
    }
   ],
   "source": [
    "arrayEmpty.ndim"
   ]
  },
  {
   "cell_type": "markdown",
   "id": "753a02a5-bdfe-45bc-be72-588a0a5fe9ce",
   "metadata": {},
   "source": [
    "## Additional functions and properties\n",
    "We can utilize 'size' to get the total number of elements in the array, and 'nbytes' to get the number of bytes the structure is taking up in memory.</br>\n",
    "\n",
    "If we want to see the 'shape' of the array, that is, how many elements per layer there are in the array, we can use the 'shape' property.</br>\n",
    "\n",
    "For example, a 3-dimensional array, with two 2-dimensional arrays inside, which each contain two arrays with 3 elements each will have a 'shape' of: 2, 2, 3.</br>\n",
    "\n",
    "We can also specify the specific dimension whose shape we wish to probe by using shape[dimension]."
   ]
  },
  {
   "cell_type": "code",
   "execution_count": 183,
   "id": "efff34bd-a34b-417c-b48a-d6415aab703f",
   "metadata": {},
   "outputs": [],
   "source": [
    "import numpy as np\n",
    "array3d = np.array([[[1, 2, 3],[4, 5, 6, ]],[[7, 8, 9],[10, 11, 12]]])"
   ]
  },
  {
   "cell_type": "code",
   "execution_count": 184,
   "id": "314cc9af-c587-4985-b766-87027efdcd5a",
   "metadata": {},
   "outputs": [
    {
     "data": {
      "text/plain": [
       "12"
      ]
     },
     "execution_count": 184,
     "metadata": {},
     "output_type": "execute_result"
    }
   ],
   "source": [
    "array3d.size"
   ]
  },
  {
   "cell_type": "code",
   "execution_count": 185,
   "id": "04767810-196e-448c-829d-d4bf9779c93b",
   "metadata": {},
   "outputs": [
    {
     "data": {
      "text/plain": [
       "48"
      ]
     },
     "execution_count": 185,
     "metadata": {},
     "output_type": "execute_result"
    }
   ],
   "source": [
    "array3d.nbytes"
   ]
  },
  {
   "cell_type": "code",
   "execution_count": 186,
   "id": "d8093453-ae40-44b6-803b-1dd25f6f326b",
   "metadata": {},
   "outputs": [
    {
     "data": {
      "text/plain": [
       "(2, 2, 3)"
      ]
     },
     "execution_count": 186,
     "metadata": {},
     "output_type": "execute_result"
    }
   ],
   "source": [
    "array3d.shape"
   ]
  },
  {
   "cell_type": "code",
   "execution_count": 187,
   "id": "5761d8b5-d367-492b-a057-f63dd43c93df",
   "metadata": {},
   "outputs": [
    {
     "data": {
      "text/plain": [
       "3"
      ]
     },
     "execution_count": 187,
     "metadata": {},
     "output_type": "execute_result"
    }
   ],
   "source": [
    "array3d.shape[2]"
   ]
  },
  {
   "cell_type": "markdown",
   "id": "536e3261-9309-48b3-b206-66db592c168f",
   "metadata": {},
   "source": [
    "### Array Definition methods and function\n",
    "Numpy provides many methods to create specific types of arrays quickly:\n",
    "1. numpy.zeros(n) → will create an array of n-size where each value is a zero.</br>\n",
    "\n",
    "2. numpy.arange(n, m, i) → will create an array of [m-n]-size where each value inside increments by i (default: 1) from n (default: 0) to [m-1].</br>\n",
    "\n",
    "3. numpy.random.permutation(array) → will randomly shuffle the elements in the given array. Uses the numpy.random package.</br>\n",
    "\n",
    "4. numpy.reshape(a, b, c..n) → will partition the array into a 'shape' which fits the parameters passed into the function, e.g: turning a one-dimensional array into a two-dimensional array. It is important to note that the original array must be subdivisible into the new parameters.</br>\n",
    "\n",
    "5. numpy.random.rand(n) → will create an n-sized array with random number values ranging from 0-1. It is important to note that you may also pass in a 'shape' as an argument for this function.</br>\n",
    "\n",
    "7. numpy.random.randn(n) → will create an n-sized array with special random number values, these values are generated using 'normal' or 'gausian' random numbers, whose distribution form a bell-shape. It is important to note that you may also pass in a 'shape' as an argument for this function."
   ]
  },
  {
   "cell_type": "markdown",
   "id": "cb8246f6-1be6-481a-aaba-297aa3cf7dc6",
   "metadata": {},
   "source": [
    "#### Zeros"
   ]
  },
  {
   "cell_type": "code",
   "execution_count": 190,
   "id": "2c524a4c-f6ef-4e16-81aa-8cfc40ffc0a4",
   "metadata": {},
   "outputs": [],
   "source": [
    "import numpy as np\n",
    "array1 = np.zeros(10)"
   ]
  },
  {
   "cell_type": "code",
   "execution_count": 191,
   "id": "bdb2f254-5d26-4e9a-8dbd-933a73e5d3ba",
   "metadata": {},
   "outputs": [
    {
     "name": "stdout",
     "output_type": "stream",
     "text": [
      "[0. 0. 0. 0. 0. 0. 0. 0. 0. 0.]\n"
     ]
    }
   ],
   "source": [
    "print(array1)"
   ]
  },
  {
   "cell_type": "markdown",
   "id": "4975d23d-42c2-4eea-ae6b-edff1805f382",
   "metadata": {},
   "source": [
    "#### Arange"
   ]
  },
  {
   "cell_type": "code",
   "execution_count": 193,
   "id": "0b843194-fd8f-4ad2-8c73-ffb6375709c5",
   "metadata": {},
   "outputs": [],
   "source": [
    "import numpy as np\n",
    "array1 = np.arange(10)"
   ]
  },
  {
   "cell_type": "code",
   "execution_count": 194,
   "id": "bff1d216-5b7c-4e6b-8397-13d54f08bf0d",
   "metadata": {},
   "outputs": [
    {
     "name": "stdout",
     "output_type": "stream",
     "text": [
      "[0 1 2 3 4 5 6 7 8 9]\n"
     ]
    }
   ],
   "source": [
    "print(array1)"
   ]
  },
  {
   "cell_type": "code",
   "execution_count": 195,
   "id": "0f596c2f-f52e-4c15-a093-7c975c41a21f",
   "metadata": {},
   "outputs": [
    {
     "name": "stdout",
     "output_type": "stream",
     "text": [
      "[0 3 6]\n"
     ]
    }
   ],
   "source": [
    "array2 = np.arange(0,7,3)\n",
    "print(array2)"
   ]
  },
  {
   "cell_type": "code",
   "execution_count": 196,
   "id": "f0c5bb51-aa9e-4cbb-bf74-8c10ea6a3244",
   "metadata": {},
   "outputs": [
    {
     "name": "stdout",
     "output_type": "stream",
     "text": [
      "[0, 3, 6]\n"
     ]
    }
   ],
   "source": [
    "#Similar result to the following function, which uses range(), an iterable [object which returns next item in range], to produce a list.\n",
    "print(list(range(0, 7, 3)))"
   ]
  },
  {
   "cell_type": "markdown",
   "id": "206b6891-e6bb-4b90-b182-abb8406292a9",
   "metadata": {},
   "source": [
    "#### Random.Permutation"
   ]
  },
  {
   "cell_type": "code",
   "execution_count": 198,
   "id": "27033873-f77c-4c67-92cd-dec0ad7e4266",
   "metadata": {},
   "outputs": [],
   "source": [
    "import numpy as np\n",
    "array1 = np.arange(10)"
   ]
  },
  {
   "cell_type": "code",
   "execution_count": 199,
   "id": "c6ea2e09-3496-4ad7-9ed3-b90557db8d2e",
   "metadata": {},
   "outputs": [
    {
     "name": "stdout",
     "output_type": "stream",
     "text": [
      "[0 1 2 3 4 5 6 7 8 9]\n"
     ]
    }
   ],
   "source": [
    "print(array1)"
   ]
  },
  {
   "cell_type": "code",
   "execution_count": 200,
   "id": "cf1c0be7-a656-4ba7-9c05-70fe02c910f4",
   "metadata": {},
   "outputs": [
    {
     "name": "stdout",
     "output_type": "stream",
     "text": [
      "[6 8 5 9 7 0 1 2 4 3]\n"
     ]
    }
   ],
   "source": [
    "array2 = np.random.permutation(array1)\n",
    "print(array2)"
   ]
  },
  {
   "cell_type": "markdown",
   "id": "3321e1b8-ddf8-41d3-bf5d-37781a879ac5",
   "metadata": {},
   "source": [
    "#### Reshape"
   ]
  },
  {
   "cell_type": "code",
   "execution_count": 202,
   "id": "133afe45-facb-4724-87dc-977ff816ec34",
   "metadata": {},
   "outputs": [],
   "source": [
    "import numpy as np\n",
    "array1 = np.arange(1,21)"
   ]
  },
  {
   "cell_type": "code",
   "execution_count": 203,
   "id": "a425f12b-45f4-449a-b768-a78c6a63417c",
   "metadata": {},
   "outputs": [
    {
     "name": "stdout",
     "output_type": "stream",
     "text": [
      "[ 1  2  3  4  5  6  7  8  9 10 11 12 13 14 15 16 17 18 19 20]\n"
     ]
    }
   ],
   "source": [
    "print(array1)"
   ]
  },
  {
   "cell_type": "code",
   "execution_count": 204,
   "id": "05dd2f86-c1b7-4655-9d36-47de75f46417",
   "metadata": {},
   "outputs": [],
   "source": [
    "array2 = array1.reshape(4,5)"
   ]
  },
  {
   "cell_type": "code",
   "execution_count": 205,
   "id": "a67232fa-3f01-41ad-9117-f7f87f1a9e2e",
   "metadata": {},
   "outputs": [
    {
     "data": {
      "text/plain": [
       "2"
      ]
     },
     "execution_count": 205,
     "metadata": {},
     "output_type": "execute_result"
    }
   ],
   "source": [
    "array2.ndim"
   ]
  },
  {
   "cell_type": "code",
   "execution_count": 206,
   "id": "2c2732bf-e685-4f46-8bd0-04504cf2dfd4",
   "metadata": {},
   "outputs": [
    {
     "data": {
      "text/plain": [
       "(4, 5)"
      ]
     },
     "execution_count": 206,
     "metadata": {},
     "output_type": "execute_result"
    }
   ],
   "source": [
    "array2.shape"
   ]
  },
  {
   "cell_type": "code",
   "execution_count": 207,
   "id": "bde9fdda-34b1-4d2f-9141-3d37ea517f22",
   "metadata": {},
   "outputs": [
    {
     "name": "stdout",
     "output_type": "stream",
     "text": [
      "[[ 1  2  3  4  5]\n",
      " [ 6  7  8  9 10]\n",
      " [11 12 13 14 15]\n",
      " [16 17 18 19 20]]\n"
     ]
    }
   ],
   "source": [
    "print(array2)"
   ]
  },
  {
   "cell_type": "code",
   "execution_count": 208,
   "id": "444fc5cb-6fda-4466-815a-baef54923e4b",
   "metadata": {},
   "outputs": [
    {
     "name": "stdout",
     "output_type": "stream",
     "text": [
      "[[ 0  1  2  3  4  5  6  7  8  9 10 11 12 13 14 15 16 17 18 19 20 21 22 23\n",
      "  24]\n",
      " [25 26 27 28 29 30 31 32 33 34 35 36 37 38 39 40 41 42 43 44 45 46 47 48\n",
      "  49]\n",
      " [50 51 52 53 54 55 56 57 58 59 60 61 62 63 64 65 66 67 68 69 70 71 72 73\n",
      "  74]\n",
      " [75 76 77 78 79 80 81 82 83 84 85 86 87 88 89 90 91 92 93 94 95 96 97 98\n",
      "  99]]\n"
     ]
    }
   ],
   "source": [
    "print(np.arange(100).reshape(4,25))"
   ]
  },
  {
   "cell_type": "markdown",
   "id": "c9a476a2-4a21-45ed-a2e2-375b916f485f",
   "metadata": {},
   "source": [
    "#### Random.rand"
   ]
  },
  {
   "cell_type": "code",
   "execution_count": 210,
   "id": "fbc656f2-b99c-473e-aaca-979a0ceba5fa",
   "metadata": {},
   "outputs": [],
   "source": [
    "import numpy as np\n",
    "array1 = np.random.rand(10)"
   ]
  },
  {
   "cell_type": "code",
   "execution_count": 211,
   "id": "765b4c0b-dffd-4991-b55b-0517b21225f0",
   "metadata": {},
   "outputs": [
    {
     "name": "stdout",
     "output_type": "stream",
     "text": [
      "[0.01816391 0.94536676 0.04911791 0.37794312 0.9948447  0.43506645\n",
      " 0.84479225 0.31480174 0.36573862 0.85326164]\n"
     ]
    }
   ],
   "source": [
    "print(array1)"
   ]
  },
  {
   "cell_type": "code",
   "execution_count": 212,
   "id": "3b9acc85-6133-4c16-893a-423ecfadb295",
   "metadata": {},
   "outputs": [
    {
     "name": "stdout",
     "output_type": "stream",
     "text": [
      "[[0.09580678 0.50209815 0.83873521 0.2470591  0.24524449]\n",
      " [0.18271069 0.08313266 0.55027284 0.85299744 0.22548216]]\n"
     ]
    }
   ],
   "source": [
    "array2 = np.random.rand(2, 5)\n",
    "print(array2)"
   ]
  },
  {
   "cell_type": "code",
   "execution_count": 213,
   "id": "5f61a1d3-331c-4330-8bf5-89733cb1fa64",
   "metadata": {},
   "outputs": [
    {
     "data": {
      "text/plain": [
       "(array([17., 10.,  5.,  8., 13., 13.,  8., 14., 13.,  9., 12., 10., 10.,\n",
       "         5., 12., 15., 10.,  9.,  9., 14., 20.,  6.,  9.,  9.,  9., 15.,\n",
       "         7., 11., 10.,  8., 11., 12., 10., 11., 18.,  5., 10., 10.,  8.,\n",
       "        16., 19.,  5.,  9., 11.,  5.,  6.,  9.,  5.,  9.,  7., 10.,  9.,\n",
       "        14.,  9.,  6., 15.,  9.,  7.,  9., 15., 13., 14.,  9., 13.,  4.,\n",
       "        13.,  9., 10., 15.,  7.,  7.,  8.,  9., 10.,  5.,  9., 18.,  9.,\n",
       "        14.,  7.,  8.,  5., 10.,  8.,  8.,  6.,  7., 11., 13.,  8.,  6.,\n",
       "        10.,  6., 13., 17.,  9., 11.,  6.,  5., 11.]),\n",
       " array([0.00103549, 0.01102307, 0.02101065, 0.03099822, 0.0409858 ,\n",
       "        0.05097338, 0.06096096, 0.07094854, 0.08093612, 0.0909237 ,\n",
       "        0.10091128, 0.11089886, 0.12088644, 0.13087402, 0.1408616 ,\n",
       "        0.15084918, 0.16083676, 0.17082434, 0.18081192, 0.1907995 ,\n",
       "        0.20078708, 0.21077466, 0.22076224, 0.23074982, 0.2407374 ,\n",
       "        0.25072497, 0.26071255, 0.27070013, 0.28068771, 0.29067529,\n",
       "        0.30066287, 0.31065045, 0.32063803, 0.33062561, 0.34061319,\n",
       "        0.35060077, 0.36058835, 0.37057593, 0.38056351, 0.39055109,\n",
       "        0.40053867, 0.41052625, 0.42051383, 0.43050141, 0.44048899,\n",
       "        0.45047657, 0.46046415, 0.47045172, 0.4804393 , 0.49042688,\n",
       "        0.50041446, 0.51040204, 0.52038962, 0.5303772 , 0.54036478,\n",
       "        0.55035236, 0.56033994, 0.57032752, 0.5803151 , 0.59030268,\n",
       "        0.60029026, 0.61027784, 0.62026542, 0.630253  , 0.64024058,\n",
       "        0.65022816, 0.66021574, 0.67020332, 0.6801909 , 0.69017847,\n",
       "        0.70016605, 0.71015363, 0.72014121, 0.73012879, 0.74011637,\n",
       "        0.75010395, 0.76009153, 0.77007911, 0.78006669, 0.79005427,\n",
       "        0.80004185, 0.81002943, 0.82001701, 0.83000459, 0.83999217,\n",
       "        0.84997975, 0.85996733, 0.86995491, 0.87994249, 0.88993007,\n",
       "        0.89991764, 0.90990522, 0.9198928 , 0.92988038, 0.93986796,\n",
       "        0.94985554, 0.95984312, 0.9698307 , 0.97981828, 0.98980586,\n",
       "        0.99979344]),\n",
       " <BarContainer object of 100 artists>)"
      ]
     },
     "execution_count": 213,
     "metadata": {},
     "output_type": "execute_result"
    },
    {
     "data": {
      "image/png": "[encoded data removed]",
      "text/plain": [
       "<Figure size 640x480 with 1 Axes>"
      ]
     },
     "metadata": {},
     "output_type": "display_data"
    }
   ],
   "source": [
    "import matplotlib.pyplot as plt\n",
    "plt.hist(np.random.rand(1000), bins=100)"
   ]
  },
  {
   "cell_type": "markdown",
   "id": "bdb5cfc7-1163-46f7-919c-03fcc67208d9",
   "metadata": {},
   "source": [
    "#### Random.Randn"
   ]
  },
  {
   "cell_type": "code",
   "execution_count": 215,
   "id": "860897a7-b459-441f-9276-7b94fda7dd9b",
   "metadata": {},
   "outputs": [],
   "source": [
    "import numpy as np\n",
    "array1 = np.random.randn(10)"
   ]
  },
  {
   "cell_type": "code",
   "execution_count": 216,
   "id": "890a44c3-bd1b-4dee-b0c5-ead612385b1d",
   "metadata": {},
   "outputs": [
    {
     "name": "stdout",
     "output_type": "stream",
     "text": [
      "[-0.80544721  0.63629482 -0.65545797 -2.14420671 -1.43954126  0.8933259\n",
      "  0.24569614 -0.89239775  2.11056633 -0.7034617 ]\n"
     ]
    }
   ],
   "source": [
    "print(array1)"
   ]
  },
  {
   "cell_type": "code",
   "execution_count": 217,
   "id": "aa963f9f-df29-4a00-b3f8-ce12a5b77ae1",
   "metadata": {},
   "outputs": [
    {
     "name": "stdout",
     "output_type": "stream",
     "text": [
      "[[ 0.71446711  0.97611423 -0.30715297  1.36780387 -0.13087793]\n",
      " [ 0.12363522  0.47445774 -0.3835405   0.3710498  -0.31443175]]\n"
     ]
    }
   ],
   "source": [
    "array2 = np.random.randn(2, 5)\n",
    "print(array2)"
   ]
  },
  {
   "cell_type": "code",
   "execution_count": 218,
   "id": "01d2cf18-eed4-419f-9fdb-4177a3fea38b",
   "metadata": {},
   "outputs": [
    {
     "data": {
      "text/plain": [
       "(array([ 1.,  2.,  0.,  0.,  0.,  1.,  1.,  0.,  0.,  2.,  3.,  0.,  1.,\n",
       "         4.,  2.,  4.,  4.,  4.,  7.,  5.,  5.,  4.,  8.,  5.,  8., 11.,\n",
       "         9.,  6.,  8.,  4., 16., 14., 15., 18.,  9., 20., 13., 20., 23.,\n",
       "        21., 17., 17., 30., 23., 24., 28., 24., 30., 24., 21., 26., 20.,\n",
       "        30., 21., 26., 22., 19., 27., 18., 13., 16., 24., 25., 12., 23.,\n",
       "        15., 12., 13.,  8.,  9., 11., 11., 13.,  8., 12.,  8.,  3.,  9.,\n",
       "         5.,  4.,  5.,  1.,  3.,  1.,  3.,  0.,  0.,  2.,  2.,  0.,  0.,\n",
       "         1.,  1.,  0.,  0.,  0.,  0.,  0.,  1.,  1.]),\n",
       " array([-3.16969028, -3.10620007, -3.04270985, -2.97921963, -2.91572941,\n",
       "        -2.85223919, -2.78874897, -2.72525875, -2.66176854, -2.59827832,\n",
       "        -2.5347881 , -2.47129788, -2.40780766, -2.34431744, -2.28082723,\n",
       "        -2.21733701, -2.15384679, -2.09035657, -2.02686635, -1.96337613,\n",
       "        -1.89988592, -1.8363957 , -1.77290548, -1.70941526, -1.64592504,\n",
       "        -1.58243482, -1.5189446 , -1.45545439, -1.39196417, -1.32847395,\n",
       "        -1.26498373, -1.20149351, -1.13800329, -1.07451308, -1.01102286,\n",
       "        -0.94753264, -0.88404242, -0.8205522 , -0.75706198, -0.69357177,\n",
       "        -0.63008155, -0.56659133, -0.50310111, -0.43961089, -0.37612067,\n",
       "        -0.31263045, -0.24914024, -0.18565002, -0.1221598 , -0.05866958,\n",
       "         0.00482064,  0.06831086,  0.13180107,  0.19529129,  0.25878151,\n",
       "         0.32227173,  0.38576195,  0.44925217,  0.51274238,  0.5762326 ,\n",
       "         0.63972282,  0.70321304,  0.76670326,  0.83019348,  0.8936837 ,\n",
       "         0.95717391,  1.02066413,  1.08415435,  1.14764457,  1.21113479,\n",
       "         1.27462501,  1.33811522,  1.40160544,  1.46509566,  1.52858588,\n",
       "         1.5920761 ,  1.65556632,  1.71905653,  1.78254675,  1.84603697,\n",
       "         1.90952719,  1.97301741,  2.03650763,  2.09999784,  2.16348806,\n",
       "         2.22697828,  2.2904685 ,  2.35395872,  2.41744894,  2.48093916,\n",
       "         2.54442937,  2.60791959,  2.67140981,  2.73490003,  2.79839025,\n",
       "         2.86188047,  2.92537068,  2.9888609 ,  3.05235112,  3.11584134,\n",
       "         3.17933156]),\n",
       " <BarContainer object of 100 artists>)"
      ]
     },
     "execution_count": 218,
     "metadata": {},
     "output_type": "execute_result"
    },
    {
     "data": {
      "image/png": "[encoded data removed]",
      "text/plain": [
       "<Figure size 640x480 with 1 Axes>"
      ]
     },
     "metadata": {},
     "output_type": "display_data"
    }
   ],
   "source": [
    "import matplotlib.pyplot as plt\n",
    "plt.hist(np.random.randn(1000), bins=100)"
   ]
  },
  {
   "cell_type": "markdown",
   "id": "11770980-18c5-4d86-a2ab-86333197e067",
   "metadata": {},
   "source": [
    "### Array slicing\n",
    "* array[n:m] → every element from n up to, but not including m\n",
    "* array[:m] → every element up to, and not including, m\n",
    "* array[n:] → every element from n till the end of the array\n",
    "* array[::-1] → every element from the end of the array to the beginning (reversed)\n",
    "* array[::n] → every n-th element in the array from beginning to end"
   ]
  },
  {
   "cell_type": "code",
   "execution_count": null,
   "id": "4dbbc16d-7e01-41d1-8547-11f128e9bcb3",
   "metadata": {},
   "outputs": [],
   "source": []
  }
 ],
 "metadata": {
  "kernelspec": {
   "display_name": "Python 3 (ipykernel)",
   "language": "python",
   "name": "python3"
  },
  "language_info": {
   "codemirror_mode": {
    "name": "ipython",
    "version": 3
   },
   "file_extension": ".py",
   "mimetype": "text/x-python",
   "name": "python",
   "nbconvert_exporter": "python",
   "pygments_lexer": "ipython3",
   "version": "3.12.7"
  }
 },
 "nbformat": 4,
 "nbformat_minor": 5
}
