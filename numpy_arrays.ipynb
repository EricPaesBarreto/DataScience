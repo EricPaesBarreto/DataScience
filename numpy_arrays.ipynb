{
 "cells": [
  {
   "cell_type": "markdown",
   "id": "c8cdc342-12c5-4ee9-b8d5-1f3a7360d2db",
   "metadata": {},
   "source": [
    "# Using arrays in Numpy\n",
    "Numpy allows us to use efficient and fast arrays, matrices and apply mathematical functions such as sorting, fourier transforms and linear algebra upon them.\n",
    "\n",
    "The first step is to import Numpy into our file:"
   ]
  },
  {
   "cell_type": "code",
   "execution_count": 2,
   "id": "31eb7b6b-e56c-4d2c-8f8e-21a26f54ffd1",
   "metadata": {},
   "outputs": [],
   "source": [
    "import numpy as np"
   ]
  },
  {
   "cell_type": "markdown",
   "id": "98f97d9c-e434-45db-897d-94b3241d419b",
   "metadata": {},
   "source": [
    "### Defining arrays, and datatypes:\n",
    "To define an array using Numpy, we will need to create a variable, let's call it 'array1' using numpy.array().</br>\n",
    "\n",
    "We must also assign the values from declaration, and we can specify the data type using the argument dtype = 'a', where a is our datatype. In the example below, the value 'i' is used to specify the integer datatype:"
   ]
  },
  {
   "cell_type": "code",
   "execution_count": 4,
   "id": "798a7b93-94fc-4e9f-9cbc-5b9fe0b48b5f",
   "metadata": {},
   "outputs": [],
   "source": [
    "import numpy as np\n",
    "array1 = np.array([0,1,2,3,4], dtype='i')"
   ]
  },
  {
   "cell_type": "markdown",
   "id": "aba396c5-8152-459a-82a4-5e88ed827f89",
   "metadata": {},
   "source": [
    "### Methods and functions using arrays:\n",
    "We can print all of the values in our array by using the print() function.</br>\n",
    "\n",
    "To get the datatype of our array we may use the dtype property, note that using type(array) will simply return 'numpy.ndarray'."
   ]
  },
  {
   "cell_type": "code",
   "execution_count": 6,
   "id": "82bd304f-3506-4747-8475-923398748c84",
   "metadata": {},
   "outputs": [],
   "source": [
    "import numpy as np\n",
    "array1 = np.array([0.1,0.2,0.3,0.4,0.5,0.6,0.7,0.8,0.9,1.0], dtype = 'f')"
   ]
  },
  {
   "cell_type": "code",
   "execution_count": 7,
   "id": "f3dfc868-cd9e-43c1-9d45-9ffeb69ecc1b",
   "metadata": {},
   "outputs": [
    {
     "name": "stdout",
     "output_type": "stream",
     "text": [
      "[0.1 0.2 0.3 0.4 0.5 0.6 0.7 0.8 0.9 1. ]\n"
     ]
    }
   ],
   "source": [
    "print(array1)"
   ]
  },
  {
   "cell_type": "code",
   "execution_count": 8,
   "id": "c0539faa-1672-4506-a51e-1e4747eeb44e",
   "metadata": {},
   "outputs": [
    {
     "data": {
      "text/plain": [
       "dtype('float32')"
      ]
     },
     "execution_count": 8,
     "metadata": {},
     "output_type": "execute_result"
    }
   ],
   "source": [
    "array1.dtype"
   ]
  },
  {
   "cell_type": "code",
   "execution_count": 9,
   "id": "aa6f4f88-3d8e-4cc9-b37d-1262facc7fb6",
   "metadata": {},
   "outputs": [
    {
     "data": {
      "text/plain": [
       "numpy.ndarray"
      ]
     },
     "execution_count": 9,
     "metadata": {},
     "output_type": "execute_result"
    }
   ],
   "source": [
    "type(array1)"
   ]
  },
  {
   "cell_type": "markdown",
   "id": "1eb0471b-a21b-493b-b7d8-b6ffd6ef80be",
   "metadata": {},
   "source": [
    "### Multidimensional arrays\n",
    "When defining an array, we can assign its dimensions by treating it as an array of arrays, up to the number of dimensions we have.</br>\n",
    "\n",
    "Using the ndim property to get the dimensionality of the array, we can then use this to access specific layers of the n-dimensional array.</br>\n",
    "\n",
    "Something important to note is that the dimensionality should be consistent across all the layers of the n-dimensional array."
   ]
  },
  {
   "cell_type": "code",
   "execution_count": 11,
   "id": "a7ff3730-46e9-4a3f-952a-c47c47bac36b",
   "metadata": {},
   "outputs": [],
   "source": [
    "import numpy as np\n",
    "array2d = np.array([[1, 2, 3], [4, 5, 6]])\n",
    "array3d = np.array([[[1, 2, 3],[4, 5, 6, ]],[[7, 8, 9],[10, 11, 12]]])"
   ]
  },
  {
   "cell_type": "code",
   "execution_count": 12,
   "id": "4c9245e4-0c3e-4689-8707-1793e3cda9fe",
   "metadata": {},
   "outputs": [
    {
     "data": {
      "text/plain": [
       "2"
      ]
     },
     "execution_count": 12,
     "metadata": {},
     "output_type": "execute_result"
    }
   ],
   "source": [
    "array2d.ndim"
   ]
  },
  {
   "cell_type": "code",
   "execution_count": 13,
   "id": "5d960912-b52c-431b-a01f-700fd97c588d",
   "metadata": {},
   "outputs": [
    {
     "data": {
      "text/plain": [
       "3"
      ]
     },
     "execution_count": 13,
     "metadata": {},
     "output_type": "execute_result"
    }
   ],
   "source": [
    "array3d.ndim"
   ]
  },
  {
   "cell_type": "code",
   "execution_count": 14,
   "id": "5179fcc9-244e-44eb-a94c-2498c4b8d29e",
   "metadata": {},
   "outputs": [
    {
     "name": "stdout",
     "output_type": "stream",
     "text": [
      "[1 2 3]\n"
     ]
    }
   ],
   "source": [
    "print(array2d[0])"
   ]
  },
  {
   "cell_type": "code",
   "execution_count": 15,
   "id": "6dda1446-da51-4ed6-81f2-65434ecaff3b",
   "metadata": {},
   "outputs": [
    {
     "name": "stdout",
     "output_type": "stream",
     "text": [
      "[10 11 12]\n"
     ]
    }
   ],
   "source": [
    "print(array3d[1, 1])"
   ]
  },
  {
   "cell_type": "code",
   "execution_count": 16,
   "id": "2fce2931-50c0-44a3-a8da-339b85944fef",
   "metadata": {},
   "outputs": [
    {
     "name": "stdout",
     "output_type": "stream",
     "text": [
      "1\n"
     ]
    }
   ],
   "source": [
    "print(array3d[0,0,0])"
   ]
  },
  {
   "cell_type": "code",
   "execution_count": 17,
   "id": "1f5339a1-ea9b-49e1-a98b-6da753cf3041",
   "metadata": {},
   "outputs": [
    {
     "data": {
      "text/plain": [
       "numpy.ndarray"
      ]
     },
     "execution_count": 17,
     "metadata": {},
     "output_type": "execute_result"
    }
   ],
   "source": [
    "type(array2d)"
   ]
  },
  {
   "cell_type": "code",
   "execution_count": 18,
   "id": "9083b0f6-7899-4355-84fe-dac8d24a9e6b",
   "metadata": {},
   "outputs": [
    {
     "data": {
      "text/plain": [
       "dtype('int32')"
      ]
     },
     "execution_count": 18,
     "metadata": {},
     "output_type": "execute_result"
    }
   ],
   "source": [
    "array3d.dtype"
   ]
  },
  {
   "cell_type": "code",
   "execution_count": 19,
   "id": "1f451cc8-1cca-4888-8d99-dcf42e3e5739",
   "metadata": {},
   "outputs": [
    {
     "data": {
      "text/plain": [
       "numpy.int32"
      ]
     },
     "execution_count": 19,
     "metadata": {},
     "output_type": "execute_result"
    }
   ],
   "source": [
    "type(array3d[0,0,0])"
   ]
  },
  {
   "cell_type": "markdown",
   "id": "133a18c7-d2f8-4c7a-9573-82e03d98f63f",
   "metadata": {},
   "source": [
    "#### Note:\n",
    "Something interesting to note, is that an array with an array defined inside, no matter the number of items within the array, will be a 1-dimensional array.</br>\n",
    "\n",
    "An array, however, defined with a single value within it, will be a zero-dimensional array."
   ]
  },
  {
   "cell_type": "code",
   "execution_count": 21,
   "id": "28d13de9-f83b-40a6-a928-a310dc02cbc0",
   "metadata": {},
   "outputs": [],
   "source": [
    "import numpy as np\n",
    "array1d = np.array([1])\n",
    "array0d = np.array(1)\n",
    "arrayEmpty = np.array([])"
   ]
  },
  {
   "cell_type": "code",
   "execution_count": 22,
   "id": "beb5aa42-81aa-43ca-a11d-cf79dfeb9daa",
   "metadata": {},
   "outputs": [
    {
     "data": {
      "text/plain": [
       "1"
      ]
     },
     "execution_count": 22,
     "metadata": {},
     "output_type": "execute_result"
    }
   ],
   "source": [
    "array1d.ndim"
   ]
  },
  {
   "cell_type": "code",
   "execution_count": 23,
   "id": "ed205d65-3524-4190-b23e-f0f9ae939a90",
   "metadata": {},
   "outputs": [
    {
     "data": {
      "text/plain": [
       "0"
      ]
     },
     "execution_count": 23,
     "metadata": {},
     "output_type": "execute_result"
    }
   ],
   "source": [
    "array0d.ndim"
   ]
  },
  {
   "cell_type": "code",
   "execution_count": 24,
   "id": "b35c8cd9-713a-47c2-803b-2f295b724364",
   "metadata": {},
   "outputs": [
    {
     "data": {
      "text/plain": [
       "1"
      ]
     },
     "execution_count": 24,
     "metadata": {},
     "output_type": "execute_result"
    }
   ],
   "source": [
    "arrayEmpty.ndim"
   ]
  },
  {
   "cell_type": "markdown",
   "id": "753a02a5-bdfe-45bc-be72-588a0a5fe9ce",
   "metadata": {},
   "source": [
    "## Additional functions and properties\n",
    "We can utilize 'size' to get the total number of elements in the array, and 'nbytes' to get the number of bytes the structure is taking up in memory.</br>\n",
    "\n",
    "If we want to see the 'shape' of the array, that is, how many elements per layer there are in the array, we can use the 'shape' property.</br>\n",
    "\n",
    "For example, a 3-dimensional array, with two 2-dimensional arrays inside, which each contain two arrays with 3 elements each will have a 'shape' of: 2, 2, 3.</br>\n",
    "\n",
    "We can also specify the specific dimension whose shape we wish to probe by using shape[dimension]."
   ]
  },
  {
   "cell_type": "code",
   "execution_count": 26,
   "id": "efff34bd-a34b-417c-b48a-d6415aab703f",
   "metadata": {},
   "outputs": [],
   "source": [
    "import numpy as np\n",
    "array3d = np.array([[[1, 2, 3],[4, 5, 6, ]],[[7, 8, 9],[10, 11, 12]]])"
   ]
  },
  {
   "cell_type": "code",
   "execution_count": 27,
   "id": "314cc9af-c587-4985-b766-87027efdcd5a",
   "metadata": {},
   "outputs": [
    {
     "data": {
      "text/plain": [
       "12"
      ]
     },
     "execution_count": 27,
     "metadata": {},
     "output_type": "execute_result"
    }
   ],
   "source": [
    "array3d.size"
   ]
  },
  {
   "cell_type": "code",
   "execution_count": 28,
   "id": "04767810-196e-448c-829d-d4bf9779c93b",
   "metadata": {},
   "outputs": [
    {
     "data": {
      "text/plain": [
       "48"
      ]
     },
     "execution_count": 28,
     "metadata": {},
     "output_type": "execute_result"
    }
   ],
   "source": [
    "array3d.nbytes"
   ]
  },
  {
   "cell_type": "code",
   "execution_count": 29,
   "id": "d8093453-ae40-44b6-803b-1dd25f6f326b",
   "metadata": {},
   "outputs": [
    {
     "data": {
      "text/plain": [
       "(2, 2, 3)"
      ]
     },
     "execution_count": 29,
     "metadata": {},
     "output_type": "execute_result"
    }
   ],
   "source": [
    "array3d.shape"
   ]
  },
  {
   "cell_type": "code",
   "execution_count": 30,
   "id": "5761d8b5-d367-492b-a057-f63dd43c93df",
   "metadata": {},
   "outputs": [
    {
     "data": {
      "text/plain": [
       "3"
      ]
     },
     "execution_count": 30,
     "metadata": {},
     "output_type": "execute_result"
    }
   ],
   "source": [
    "array3d.shape[2]"
   ]
  },
  {
   "cell_type": "markdown",
   "id": "536e3261-9309-48b3-b206-66db592c168f",
   "metadata": {},
   "source": [
    "### Array Definition methods and function\n",
    "Numpy provides many methods to create specific types of arrays quickly:\n",
    "1. numpy.zeros(n) → will create an array of n-size where each value is a zero.</br>\n",
    "\n",
    "2. numpy.arange(n, m, i) → will create an array of [m-n]-size where each value inside increments by i (default: 1) from n (default: 0) to [m-1].</br>\n",
    "\n",
    "3. numpy.random.permutation(array) → will randomly shuffle the elements in the given array. Uses the numpy.random package.</br>\n",
    "\n",
    "4. numpy.reshape(a, b, c..n) → will partition the array into a 'shape' which fits the parameters passed into the function, e.g: turning a one-dimensional array into a two-dimensional array. It is important to note that the original array must be subdivisible into the new parameters.</br>\n",
    "\n",
    "5. numpy.random.rand(n) → will create an n-sized array with random number values ranging from 0-1. It is important to note that you may also pass in a 'shape' as an argument for this function.</br>\n",
    "\n",
    "7. numpy.random.randn(n) → will create an n-sized array with special random number values, these values are generated using 'normal' or 'gausian' random numbers, whose distribution form a bell-shape. It is important to note that you may also pass in a 'shape' as an argument for this function."
   ]
  },
  {
   "cell_type": "markdown",
   "id": "cb8246f6-1be6-481a-aaba-297aa3cf7dc6",
   "metadata": {},
   "source": [
    "#### Zeros"
   ]
  },
  {
   "cell_type": "code",
   "execution_count": 33,
   "id": "2c524a4c-f6ef-4e16-81aa-8cfc40ffc0a4",
   "metadata": {},
   "outputs": [],
   "source": [
    "import numpy as np\n",
    "array1 = np.zeros(10)"
   ]
  },
  {
   "cell_type": "code",
   "execution_count": 34,
   "id": "bdb2f254-5d26-4e9a-8dbd-933a73e5d3ba",
   "metadata": {},
   "outputs": [
    {
     "name": "stdout",
     "output_type": "stream",
     "text": [
      "[0. 0. 0. 0. 0. 0. 0. 0. 0. 0.]\n"
     ]
    }
   ],
   "source": [
    "print(array1)"
   ]
  },
  {
   "cell_type": "markdown",
   "id": "4975d23d-42c2-4eea-ae6b-edff1805f382",
   "metadata": {},
   "source": [
    "#### Arange"
   ]
  },
  {
   "cell_type": "code",
   "execution_count": 36,
   "id": "0b843194-fd8f-4ad2-8c73-ffb6375709c5",
   "metadata": {},
   "outputs": [],
   "source": [
    "import numpy as np\n",
    "array1 = np.arange(10)"
   ]
  },
  {
   "cell_type": "code",
   "execution_count": 37,
   "id": "bff1d216-5b7c-4e6b-8397-13d54f08bf0d",
   "metadata": {},
   "outputs": [
    {
     "name": "stdout",
     "output_type": "stream",
     "text": [
      "[0 1 2 3 4 5 6 7 8 9]\n"
     ]
    }
   ],
   "source": [
    "print(array1)"
   ]
  },
  {
   "cell_type": "code",
   "execution_count": 38,
   "id": "0f596c2f-f52e-4c15-a093-7c975c41a21f",
   "metadata": {},
   "outputs": [
    {
     "name": "stdout",
     "output_type": "stream",
     "text": [
      "[0 3 6]\n"
     ]
    }
   ],
   "source": [
    "array2 = np.arange(0,7,3)\n",
    "print(array2)"
   ]
  },
  {
   "cell_type": "code",
   "execution_count": 39,
   "id": "f0c5bb51-aa9e-4cbb-bf74-8c10ea6a3244",
   "metadata": {},
   "outputs": [
    {
     "name": "stdout",
     "output_type": "stream",
     "text": [
      "[0, 3, 6]\n"
     ]
    }
   ],
   "source": [
    "#Similar result to the following function, which uses range(), an iterable [object which returns next item in range], to produce a list.\n",
    "print(list(range(0, 7, 3)))"
   ]
  },
  {
   "cell_type": "markdown",
   "id": "206b6891-e6bb-4b90-b182-abb8406292a9",
   "metadata": {},
   "source": [
    "#### Random.Permutation"
   ]
  },
  {
   "cell_type": "code",
   "execution_count": 41,
   "id": "27033873-f77c-4c67-92cd-dec0ad7e4266",
   "metadata": {},
   "outputs": [],
   "source": [
    "import numpy as np\n",
    "array1 = np.arange(10)"
   ]
  },
  {
   "cell_type": "code",
   "execution_count": 42,
   "id": "c6ea2e09-3496-4ad7-9ed3-b90557db8d2e",
   "metadata": {},
   "outputs": [
    {
     "name": "stdout",
     "output_type": "stream",
     "text": [
      "[0 1 2 3 4 5 6 7 8 9]\n"
     ]
    }
   ],
   "source": [
    "print(array1)"
   ]
  },
  {
   "cell_type": "code",
   "execution_count": 43,
   "id": "cf1c0be7-a656-4ba7-9c05-70fe02c910f4",
   "metadata": {},
   "outputs": [
    {
     "name": "stdout",
     "output_type": "stream",
     "text": [
      "[1 6 9 8 5 0 4 3 7 2]\n"
     ]
    }
   ],
   "source": [
    "array2 = np.random.permutation(array1)\n",
    "print(array2)"
   ]
  },
  {
   "cell_type": "markdown",
   "id": "3321e1b8-ddf8-41d3-bf5d-37781a879ac5",
   "metadata": {},
   "source": [
    "#### Reshape"
   ]
  },
  {
   "cell_type": "code",
   "execution_count": 45,
   "id": "133afe45-facb-4724-87dc-977ff816ec34",
   "metadata": {},
   "outputs": [],
   "source": [
    "import numpy as np\n",
    "array1 = np.arange(1,21)"
   ]
  },
  {
   "cell_type": "code",
   "execution_count": 46,
   "id": "a425f12b-45f4-449a-b768-a78c6a63417c",
   "metadata": {},
   "outputs": [
    {
     "name": "stdout",
     "output_type": "stream",
     "text": [
      "[ 1  2  3  4  5  6  7  8  9 10 11 12 13 14 15 16 17 18 19 20]\n"
     ]
    }
   ],
   "source": [
    "print(array1)"
   ]
  },
  {
   "cell_type": "code",
   "execution_count": 47,
   "id": "05dd2f86-c1b7-4655-9d36-47de75f46417",
   "metadata": {},
   "outputs": [],
   "source": [
    "array2 = array1.reshape(4,5)"
   ]
  },
  {
   "cell_type": "code",
   "execution_count": 48,
   "id": "a67232fa-3f01-41ad-9117-f7f87f1a9e2e",
   "metadata": {},
   "outputs": [
    {
     "data": {
      "text/plain": [
       "2"
      ]
     },
     "execution_count": 48,
     "metadata": {},
     "output_type": "execute_result"
    }
   ],
   "source": [
    "array2.ndim"
   ]
  },
  {
   "cell_type": "code",
   "execution_count": 49,
   "id": "2c2732bf-e685-4f46-8bd0-04504cf2dfd4",
   "metadata": {},
   "outputs": [
    {
     "data": {
      "text/plain": [
       "(4, 5)"
      ]
     },
     "execution_count": 49,
     "metadata": {},
     "output_type": "execute_result"
    }
   ],
   "source": [
    "array2.shape"
   ]
  },
  {
   "cell_type": "code",
   "execution_count": 50,
   "id": "bde9fdda-34b1-4d2f-9141-3d37ea517f22",
   "metadata": {},
   "outputs": [
    {
     "name": "stdout",
     "output_type": "stream",
     "text": [
      "[[ 1  2  3  4  5]\n",
      " [ 6  7  8  9 10]\n",
      " [11 12 13 14 15]\n",
      " [16 17 18 19 20]]\n"
     ]
    }
   ],
   "source": [
    "print(array2)"
   ]
  },
  {
   "cell_type": "code",
   "execution_count": 51,
   "id": "444fc5cb-6fda-4466-815a-baef54923e4b",
   "metadata": {},
   "outputs": [
    {
     "name": "stdout",
     "output_type": "stream",
     "text": [
      "[[ 0  1  2  3  4  5  6  7  8  9 10 11 12 13 14 15 16 17 18 19 20 21 22 23\n",
      "  24]\n",
      " [25 26 27 28 29 30 31 32 33 34 35 36 37 38 39 40 41 42 43 44 45 46 47 48\n",
      "  49]\n",
      " [50 51 52 53 54 55 56 57 58 59 60 61 62 63 64 65 66 67 68 69 70 71 72 73\n",
      "  74]\n",
      " [75 76 77 78 79 80 81 82 83 84 85 86 87 88 89 90 91 92 93 94 95 96 97 98\n",
      "  99]]\n"
     ]
    }
   ],
   "source": [
    "print(np.arange(100).reshape(4,25))"
   ]
  },
  {
   "cell_type": "markdown",
   "id": "c9a476a2-4a21-45ed-a2e2-375b916f485f",
   "metadata": {},
   "source": [
    "#### Random.rand"
   ]
  },
  {
   "cell_type": "code",
   "execution_count": 53,
   "id": "fbc656f2-b99c-473e-aaca-979a0ceba5fa",
   "metadata": {},
   "outputs": [],
   "source": [
    "import numpy as np\n",
    "array1 = np.random.rand(10)"
   ]
  },
  {
   "cell_type": "code",
   "execution_count": 54,
   "id": "765b4c0b-dffd-4991-b55b-0517b21225f0",
   "metadata": {},
   "outputs": [
    {
     "name": "stdout",
     "output_type": "stream",
     "text": [
      "[0.43951714 0.59651238 0.52526346 0.57083265 0.88252148 0.07979138\n",
      " 0.67243279 0.22671238 0.91966961 0.99449142]\n"
     ]
    }
   ],
   "source": [
    "print(array1)"
   ]
  },
  {
   "cell_type": "code",
   "execution_count": 55,
   "id": "3b9acc85-6133-4c16-893a-423ecfadb295",
   "metadata": {},
   "outputs": [
    {
     "name": "stdout",
     "output_type": "stream",
     "text": [
      "[[0.7427913  0.47486102 0.61392824 0.94563383 0.82076797]\n",
      " [0.77572794 0.46441933 0.48369693 0.15957982 0.96534709]]\n"
     ]
    }
   ],
   "source": [
    "array2 = np.random.rand(2, 5)\n",
    "print(array2)"
   ]
  },
  {
   "cell_type": "code",
   "execution_count": 56,
   "id": "5f61a1d3-331c-4330-8bf5-89733cb1fa64",
   "metadata": {},
   "outputs": [
    {
     "data": {
      "text/plain": [
       "(array([10.,  3., 11.,  7., 14., 10., 13., 11., 10., 16.,  5.,  5.,  7.,\n",
       "        10.,  9., 10.,  8.,  7., 11., 10.,  7., 11.,  8., 10., 11., 11.,\n",
       "        16., 10.,  7.,  7., 12., 15., 12.,  9., 14.,  7., 18., 10., 13.,\n",
       "         5., 11., 11., 12., 11., 18., 11.,  8., 11.,  9., 10.,  7.,  7.,\n",
       "        13.,  9., 11., 11., 12., 11., 15., 10., 12.,  9., 17.,  8.,  7.,\n",
       "         7., 12.,  8., 14., 10.,  7.,  6.,  3.,  9.,  5.,  9., 15.,  6.,\n",
       "        10., 11., 12., 11.,  7., 15., 10., 13.,  7.,  8.,  8., 10.,  7.,\n",
       "         4., 11.,  8.,  9., 12., 16.,  8., 12.,  9.]),\n",
       " array([9.59305423e-06, 9.99967115e-03, 1.99897492e-02, 2.99798273e-02,\n",
       "        3.99699054e-02, 4.99599835e-02, 5.99500616e-02, 6.99401397e-02,\n",
       "        7.99302178e-02, 8.99202959e-02, 9.99103740e-02, 1.09900452e-01,\n",
       "        1.19890530e-01, 1.29880608e-01, 1.39870686e-01, 1.49860764e-01,\n",
       "        1.59850843e-01, 1.69840921e-01, 1.79830999e-01, 1.89821077e-01,\n",
       "        1.99811155e-01, 2.09801233e-01, 2.19791311e-01, 2.29781389e-01,\n",
       "        2.39771467e-01, 2.49761545e-01, 2.59751624e-01, 2.69741702e-01,\n",
       "        2.79731780e-01, 2.89721858e-01, 2.99711936e-01, 3.09702014e-01,\n",
       "        3.19692092e-01, 3.29682170e-01, 3.39672248e-01, 3.49662326e-01,\n",
       "        3.59652404e-01, 3.69642483e-01, 3.79632561e-01, 3.89622639e-01,\n",
       "        3.99612717e-01, 4.09602795e-01, 4.19592873e-01, 4.29582951e-01,\n",
       "        4.39573029e-01, 4.49563107e-01, 4.59553185e-01, 4.69543264e-01,\n",
       "        4.79533342e-01, 4.89523420e-01, 4.99513498e-01, 5.09503576e-01,\n",
       "        5.19493654e-01, 5.29483732e-01, 5.39473810e-01, 5.49463888e-01,\n",
       "        5.59453966e-01, 5.69444044e-01, 5.79434123e-01, 5.89424201e-01,\n",
       "        5.99414279e-01, 6.09404357e-01, 6.19394435e-01, 6.29384513e-01,\n",
       "        6.39374591e-01, 6.49364669e-01, 6.59354747e-01, 6.69344825e-01,\n",
       "        6.79334903e-01, 6.89324982e-01, 6.99315060e-01, 7.09305138e-01,\n",
       "        7.19295216e-01, 7.29285294e-01, 7.39275372e-01, 7.49265450e-01,\n",
       "        7.59255528e-01, 7.69245606e-01, 7.79235684e-01, 7.89225763e-01,\n",
       "        7.99215841e-01, 8.09205919e-01, 8.19195997e-01, 8.29186075e-01,\n",
       "        8.39176153e-01, 8.49166231e-01, 8.59156309e-01, 8.69146387e-01,\n",
       "        8.79136465e-01, 8.89126543e-01, 8.99116622e-01, 9.09106700e-01,\n",
       "        9.19096778e-01, 9.29086856e-01, 9.39076934e-01, 9.49067012e-01,\n",
       "        9.59057090e-01, 9.69047168e-01, 9.79037246e-01, 9.89027324e-01,\n",
       "        9.99017403e-01]),\n",
       " <BarContainer object of 100 artists>)"
      ]
     },
     "execution_count": 56,
     "metadata": {},
     "output_type": "execute_result"
    },
    {
     "data": {
      "image/png": "[encoded data removed]",
      "text/plain": [
       "<Figure size 640x480 with 1 Axes>"
      ]
     },
     "metadata": {},
     "output_type": "display_data"
    }
   ],
   "source": [
    "import matplotlib.pyplot as plt\n",
    "plt.hist(np.random.rand(1000), bins=100)"
   ]
  },
  {
   "cell_type": "markdown",
   "id": "bdb5cfc7-1163-46f7-919c-03fcc67208d9",
   "metadata": {},
   "source": [
    "#### Random.Randn"
   ]
  },
  {
   "cell_type": "code",
   "execution_count": 58,
   "id": "860897a7-b459-441f-9276-7b94fda7dd9b",
   "metadata": {},
   "outputs": [],
   "source": [
    "import numpy as np\n",
    "array1 = np.random.randn(10)"
   ]
  },
  {
   "cell_type": "code",
   "execution_count": 59,
   "id": "890a44c3-bd1b-4dee-b0c5-ead612385b1d",
   "metadata": {},
   "outputs": [
    {
     "name": "stdout",
     "output_type": "stream",
     "text": [
      "[ 1.13440757  1.19450828  1.65879628  0.35328109  0.52647109  1.47511989\n",
      " -0.49355072 -0.57455242 -1.11681938  0.26188064]\n"
     ]
    }
   ],
   "source": [
    "print(array1)"
   ]
  },
  {
   "cell_type": "code",
   "execution_count": 60,
   "id": "aa963f9f-df29-4a00-b3f8-ce12a5b77ae1",
   "metadata": {},
   "outputs": [
    {
     "name": "stdout",
     "output_type": "stream",
     "text": [
      "[[-0.55163277 -1.52360457  0.05227817  1.21245544  0.92455992]\n",
      " [ 0.16728625 -0.75167876  0.3895269  -1.25990104 -2.58519926]]\n"
     ]
    }
   ],
   "source": [
    "array2 = np.random.randn(2, 5)\n",
    "print(array2)"
   ]
  },
  {
   "cell_type": "code",
   "execution_count": 61,
   "id": "01d2cf18-eed4-419f-9fdb-4177a3fea38b",
   "metadata": {},
   "outputs": [
    {
     "data": {
      "text/plain": [
       "(array([ 1.,  0.,  0.,  0.,  0.,  1.,  0.,  0.,  1.,  0.,  0.,  1.,  2.,\n",
       "         2.,  0.,  2.,  1.,  1.,  4.,  2.,  1.,  3.,  3.,  4.,  9.,  8.,\n",
       "         7.,  7.,  9.,  9.,  8., 10., 12., 17.,  9., 13., 14., 11., 13.,\n",
       "        20., 18., 20., 19., 24., 27., 26., 24., 14., 27., 19., 28., 26.,\n",
       "        24., 25., 21., 25., 22., 25., 25., 13., 26., 29., 17., 19., 28.,\n",
       "        19., 18., 15., 22., 14., 11., 20., 12., 10.,  8.,  5., 11.,  5.,\n",
       "        11.,  4.,  2.,  5.,  5.,  2.,  4.,  2.,  4.,  2.,  1.,  1.,  2.,\n",
       "         2.,  1.,  2.,  0.,  1.,  2.,  0.,  0.,  1.]),\n",
       " array([-3.49731821, -3.43221754, -3.36711687, -3.3020162 , -3.23691553,\n",
       "        -3.17181486, -3.10671419, -3.04161352, -2.97651285, -2.91141219,\n",
       "        -2.84631152, -2.78121085, -2.71611018, -2.65100951, -2.58590884,\n",
       "        -2.52080817, -2.4557075 , -2.39060683, -2.32550616, -2.26040549,\n",
       "        -2.19530482, -2.13020415, -2.06510348, -2.00000281, -1.93490214,\n",
       "        -1.86980147, -1.8047008 , -1.73960014, -1.67449947, -1.6093988 ,\n",
       "        -1.54429813, -1.47919746, -1.41409679, -1.34899612, -1.28389545,\n",
       "        -1.21879478, -1.15369411, -1.08859344, -1.02349277, -0.9583921 ,\n",
       "        -0.89329143, -0.82819076, -0.76309009, -0.69798942, -0.63288875,\n",
       "        -0.56778808, -0.50268742, -0.43758675, -0.37248608, -0.30738541,\n",
       "        -0.24228474, -0.17718407, -0.1120834 , -0.04698273,  0.01811794,\n",
       "         0.08321861,  0.14831928,  0.21341995,  0.27852062,  0.34362129,\n",
       "         0.40872196,  0.47382263,  0.5389233 ,  0.60402397,  0.66912464,\n",
       "         0.7342253 ,  0.79932597,  0.86442664,  0.92952731,  0.99462798,\n",
       "         1.05972865,  1.12482932,  1.18992999,  1.25503066,  1.32013133,\n",
       "         1.385232  ,  1.45033267,  1.51543334,  1.58053401,  1.64563468,\n",
       "         1.71073535,  1.77583602,  1.84093669,  1.90603736,  1.97113802,\n",
       "         2.03623869,  2.10133936,  2.16644003,  2.2315407 ,  2.29664137,\n",
       "         2.36174204,  2.42684271,  2.49194338,  2.55704405,  2.62214472,\n",
       "         2.68724539,  2.75234606,  2.81744673,  2.8825474 ,  2.94764807,\n",
       "         3.01274874]),\n",
       " <BarContainer object of 100 artists>)"
      ]
     },
     "execution_count": 61,
     "metadata": {},
     "output_type": "execute_result"
    },
    {
     "data": {
      "image/png": "[encoded data removed]",
      "text/plain": [
       "<Figure size 640x480 with 1 Axes>"
      ]
     },
     "metadata": {},
     "output_type": "display_data"
    }
   ],
   "source": [
    "import matplotlib.pyplot as plt\n",
    "plt.hist(np.random.randn(1000), bins=100)"
   ]
  },
  {
   "cell_type": "markdown",
   "id": "11770980-18c5-4d86-a2ab-86333197e067",
   "metadata": {},
   "source": [
    "### Array slicing\n",
    "* array[n:m] → every element from n up to, but not including m\n",
    "* array[:m] → every element up to, and not including, m\n",
    "* array[n:] → every element from n till the end of the array\n",
    "* array[::-1] → every element from the end of the array to the beginning (reversed)\n",
    "* array[::n] → every n-th element in the array from beginning to end"
   ]
  },
  {
   "cell_type": "markdown",
   "id": "73451e57-6065-427d-a042-3785f92c849f",
   "metadata": {},
   "source": [
    "#### Descrepency: slicing view vs copy\n",
    "In Numpy, array slicing provides a reference to the memory of the array by default (viewing), to stop this behaviour from happening, we can call the 'copy' function.</br>\n",
    "\n",
    "Some specific indexing operations are actually copy operations and don't require us to use the 'copy' function. An example of this is fetching specific indicies of the array using the syntax array[a,b,c..,z]"
   ]
  },
  {
   "cell_type": "code",
   "execution_count": 64,
   "id": "e88d953a-8946-4177-b348-86c8302ec646",
   "metadata": {},
   "outputs": [],
   "source": [
    "import numpy as np\n",
    "array1 = np.arange(10)\n",
    "array2 = array1[3:8]"
   ]
  },
  {
   "cell_type": "code",
   "execution_count": 65,
   "id": "6835c5f0-7b77-4c07-aabe-99bab0f48efb",
   "metadata": {},
   "outputs": [
    {
     "name": "stdout",
     "output_type": "stream",
     "text": [
      "[3 4 5 6 7]\n"
     ]
    }
   ],
   "source": [
    "print(array2)"
   ]
  },
  {
   "cell_type": "code",
   "execution_count": 66,
   "id": "bc0a91cb-7db4-42bb-b585-74b8b58164b6",
   "metadata": {},
   "outputs": [
    {
     "name": "stdout",
     "output_type": "stream",
     "text": [
      "[17  4  5  6  7]\n"
     ]
    }
   ],
   "source": [
    "array2[0] = 17\n",
    "print(array2)"
   ]
  },
  {
   "cell_type": "code",
   "execution_count": 67,
   "id": "70cf2baa-43b6-458d-8de0-57d843fc8897",
   "metadata": {},
   "outputs": [
    {
     "name": "stdout",
     "output_type": "stream",
     "text": [
      "[ 0  1  2 17  4  5  6  7  8  9]\n"
     ]
    }
   ],
   "source": [
    "print(array1)"
   ]
  },
  {
   "cell_type": "code",
   "execution_count": 68,
   "id": "3df883dc-4fd4-4eca-b7f2-0bebe56c9d18",
   "metadata": {},
   "outputs": [
    {
     "name": "stdout",
     "output_type": "stream",
     "text": [
      "[17  4  5  6  7]\n"
     ]
    }
   ],
   "source": [
    "array3 = array1[3:8].copy()\n",
    "print(array3)"
   ]
  },
  {
   "cell_type": "code",
   "execution_count": 69,
   "id": "7e29d5d6-fe76-4efa-95b0-985819e80a00",
   "metadata": {},
   "outputs": [
    {
     "name": "stdout",
     "output_type": "stream",
     "text": [
      "[3 4 5 6 7]\n"
     ]
    }
   ],
   "source": [
    "array3[0] = 3\n",
    "print(array3)"
   ]
  },
  {
   "cell_type": "code",
   "execution_count": 70,
   "id": "05d20cd9-d575-4cb6-bf48-c4e2491c7b00",
   "metadata": {},
   "outputs": [
    {
     "name": "stdout",
     "output_type": "stream",
     "text": [
      "[ 0  1  2 17  4  5  6  7  8  9]\n"
     ]
    }
   ],
   "source": [
    "print(array1)"
   ]
  },
  {
   "cell_type": "markdown",
   "id": "08f1b43b-6d88-4672-8600-1f83c2f14c32",
   "metadata": {},
   "source": [
    "#### Slicing"
   ]
  },
  {
   "cell_type": "code",
   "execution_count": 72,
   "id": "467e3317-1e64-4939-8574-909c00d055d2",
   "metadata": {},
   "outputs": [],
   "source": [
    "import numpy as np\n",
    "array1 = np.arange(1,11)\n",
    "array2 = np.arange(11,21)\n",
    "array3 = np.arange(21, 31)"
   ]
  },
  {
   "cell_type": "code",
   "execution_count": 73,
   "id": "9f944862-d355-45f5-b2f3-497dfb8ef570",
   "metadata": {},
   "outputs": [
    {
     "data": {
      "text/plain": [
       "array([1, 3, 5])"
      ]
     },
     "execution_count": 73,
     "metadata": {},
     "output_type": "execute_result"
    }
   ],
   "source": [
    "array1[[0,2,4]]"
   ]
  },
  {
   "cell_type": "code",
   "execution_count": 74,
   "id": "19da3030-44bf-4a2a-8497-ab25f0ca9089",
   "metadata": {},
   "outputs": [
    {
     "data": {
      "text/plain": [
       "array([1, 3, 5, 7, 9])"
      ]
     },
     "execution_count": 74,
     "metadata": {},
     "output_type": "execute_result"
    }
   ],
   "source": [
    "array1[::2]"
   ]
  },
  {
   "cell_type": "code",
   "execution_count": 75,
   "id": "49c3df6b-cea4-4527-9dc3-260f6c4293d3",
   "metadata": {},
   "outputs": [
    {
     "data": {
      "text/plain": [
       "array([ 1,  4,  7, 10])"
      ]
     },
     "execution_count": 75,
     "metadata": {},
     "output_type": "execute_result"
    }
   ],
   "source": [
    "array1[::3]"
   ]
  },
  {
   "cell_type": "code",
   "execution_count": 76,
   "id": "8e4de1b7-d6cd-4ae7-a326-9e90c1f2a8c0",
   "metadata": {},
   "outputs": [
    {
     "data": {
      "text/plain": [
       "array([20, 19, 18, 17, 16, 15, 14, 13, 12, 11])"
      ]
     },
     "execution_count": 76,
     "metadata": {},
     "output_type": "execute_result"
    }
   ],
   "source": [
    "array2[::-1]"
   ]
  },
  {
   "cell_type": "code",
   "execution_count": 77,
   "id": "79deaef1-5859-4366-b852-7d1d3244bea0",
   "metadata": {},
   "outputs": [
    {
     "data": {
      "text/plain": [
       "array([21, 22, 23])"
      ]
     },
     "execution_count": 77,
     "metadata": {},
     "output_type": "execute_result"
    }
   ],
   "source": [
    "array3[:3]"
   ]
  },
  {
   "cell_type": "code",
   "execution_count": 78,
   "id": "32516226-b53a-47d8-b344-f65443b59be7",
   "metadata": {},
   "outputs": [
    {
     "data": {
      "text/plain": [
       "array([24, 25, 26, 27, 28, 29, 30])"
      ]
     },
     "execution_count": 78,
     "metadata": {},
     "output_type": "execute_result"
    }
   ],
   "source": [
    "array3[3:]"
   ]
  },
  {
   "cell_type": "code",
   "execution_count": 79,
   "id": "f3365975-2a91-4675-8973-a9fb833b82a7",
   "metadata": {},
   "outputs": [
    {
     "data": {
      "text/plain": [
       "array([20, 18, 16, 14, 12])"
      ]
     },
     "execution_count": 79,
     "metadata": {},
     "output_type": "execute_result"
    }
   ],
   "source": [
    "array2[::-2]"
   ]
  },
  {
   "cell_type": "markdown",
   "id": "e2dae84d-b14f-4122-bb99-a5251546d29d",
   "metadata": {},
   "source": [
    "#### Multi-dimensional array slicing"
   ]
  },
  {
   "cell_type": "code",
   "execution_count": 81,
   "id": "937a7ef3-96a0-4fd1-bf9e-70cf72a41f11",
   "metadata": {},
   "outputs": [
    {
     "data": {
      "text/plain": [
       "array([[ 0,  1,  2,  3,  4,  5,  6,  7,  8,  9],\n",
       "       [10, 11, 12, 13, 14, 15, 16, 17, 18, 19],\n",
       "       [20, 21, 22, 23, 24, 25, 26, 27, 28, 29],\n",
       "       [30, 31, 32, 33, 34, 35, 36, 37, 38, 39]])"
      ]
     },
     "execution_count": 81,
     "metadata": {},
     "output_type": "execute_result"
    }
   ],
   "source": [
    "import numpy as np\n",
    "array1 = np.arange(40).reshape(4, 10)\n",
    "array1"
   ]
  },
  {
   "cell_type": "code",
   "execution_count": 82,
   "id": "0b359f87-3981-4f11-b76b-6de8a34ebbb9",
   "metadata": {},
   "outputs": [
    {
     "data": {
      "text/plain": [
       "array([10, 11, 12, 13, 14, 15, 16, 17, 18, 19])"
      ]
     },
     "execution_count": 82,
     "metadata": {},
     "output_type": "execute_result"
    }
   ],
   "source": [
    "array1[1,:]"
   ]
  },
  {
   "cell_type": "code",
   "execution_count": 83,
   "id": "ef6b0151-a0c5-41b9-9b26-210153b26c0e",
   "metadata": {},
   "outputs": [
    {
     "data": {
      "text/plain": [
       "array([[10, 11, 12, 13, 14, 15],\n",
       "       [20, 21, 22, 23, 24, 25]])"
      ]
     },
     "execution_count": 83,
     "metadata": {},
     "output_type": "execute_result"
    }
   ],
   "source": [
    "array1[1:3, :6]"
   ]
  },
  {
   "cell_type": "markdown",
   "id": "4b6d8a80-d4a9-43c1-b00d-f72277a3c412",
   "metadata": {},
   "source": [
    "#### Challenge: find the index of an item in an array without the index function"
   ]
  },
  {
   "cell_type": "code",
   "execution_count": 85,
   "id": "c63141ef-4acf-4902-9334-b4dc6ea9f878",
   "metadata": {},
   "outputs": [
    {
     "data": {
      "text/plain": [
       "array([  1,   2,   3,   4,   5,   6,   7,   8,   9,  10,  11,  12,  13,\n",
       "        14,  15,  16,  17,  18,  19,  20,  21,  22,  23,  24,  25,  26,\n",
       "        27,  28,  29,  30,  31,  32,  33,  34,  35,  36,  37,  38,  39,\n",
       "        40,  41,  42,  43,  44,  45,  46,  47,  48,  49,  50,  51,  52,\n",
       "        53,  54,  55,  56,  57,  58,  59,  60,  61,  62,  63,  64,  65,\n",
       "        66,  67,  68,  69,  70,  71,  72,  73,  74,  75,  76,  77,  78,\n",
       "        79,  80,  81,  82,  83,  84,  85,  86,  87,  88,  89,  90,  91,\n",
       "        92,  93,  94,  95,  96,  97,  -1,  99, 100])"
      ]
     },
     "execution_count": 85,
     "metadata": {},
     "output_type": "execute_result"
    }
   ],
   "source": [
    "import numpy as np\n",
    "challenge = np.arange(1, 101)\n",
    "rng = np.random.default_rng(1234)#seed (will always give the same result)\n",
    "\n",
    "challenge[rng.integers(low = 1, high = 100, size = 1)] = -1\n",
    "# replace random position in array with a value that doesn't exist in the array\n",
    "# challange: find a way to locate challange[i] where i is the index of the new value\n",
    "\n",
    "challenge"
   ]
  },
  {
   "cell_type": "code",
   "execution_count": 86,
   "id": "c9c1a18d-0036-4218-b296-bd6f196fbb51",
   "metadata": {},
   "outputs": [
    {
     "data": {
      "text/plain": [
       "array([-1])"
      ]
     },
     "execution_count": 86,
     "metadata": {},
     "output_type": "execute_result"
    }
   ],
   "source": [
    "array2 = challenge[((challenge == -1) == True)]\n",
    "array2\n",
    "# not sure how to complete this challenge, solution found below:"
   ]
  },
  {
   "cell_type": "markdown",
   "id": "5c59f09d-5806-49cd-a0b1-18eb2b661c3a",
   "metadata": {},
   "source": [
    "### Finding index of item in arrays\n",
    "In Numpy, we can access the index of any item in the array by using the numpy.argwhere(condition) function.\n",
    "It will return the position in the array such that the item fulfills the condition."
   ]
  },
  {
   "cell_type": "code",
   "execution_count": 88,
   "id": "df53b603-2232-4aad-9b40-9d9ff2fd62ca",
   "metadata": {},
   "outputs": [],
   "source": [
    "import numpy as np\n",
    "array1 = np.arange(0, 100)\n",
    "array1[45] = -1\n",
    "index = np.argwhere(array1 == -1)"
   ]
  },
  {
   "cell_type": "code",
   "execution_count": 89,
   "id": "b01b6d3c-8413-465b-b25a-3b2bcb24525c",
   "metadata": {},
   "outputs": [
    {
     "data": {
      "text/plain": [
       "array([[45]], dtype=int64)"
      ]
     },
     "execution_count": 89,
     "metadata": {},
     "output_type": "execute_result"
    }
   ],
   "source": [
    "index"
   ]
  },
  {
   "cell_type": "code",
   "execution_count": 90,
   "id": "f15b59e9-689a-4216-b693-eceefc7c6cf3",
   "metadata": {},
   "outputs": [
    {
     "data": {
      "text/plain": [
       "45"
      ]
     },
     "execution_count": 90,
     "metadata": {},
     "output_type": "execute_result"
    }
   ],
   "source": [
    "# to get the value as an integer\n",
    "int_index = index[0,0]\n",
    "# int_index = index[0][0] also works\n",
    "int_index"
   ]
  },
  {
   "cell_type": "markdown",
   "id": "61611a85-9ff6-401e-b54d-e16c7f27abcb",
   "metadata": {},
   "source": [
    "### Sorting arrays using built in functions\n",
    "Numpy provides us with the ability to sort arrays on a specified axis (columns, rows, etc...) using the built in function sort(axis=n).\n",
    "In this case, 0 would be the first dimensional axis (columns), 1 would be the second dimensional axis (rows) and any higher number would corrispond with a higher dimensional axis."
   ]
  },
  {
   "cell_type": "code",
   "execution_count": 92,
   "id": "f2341076-1842-4bdc-9cca-75c88367c352",
   "metadata": {},
   "outputs": [],
   "source": [
    "import numpy as np\n",
    "array1 = np.random.permutation(np.arange(10))\n",
    "array2 = np.random.permutation((np.arange(20))).reshape(2, 2, 5)\n",
    "array3 = np.random.permutation((np.arange(90))).reshape(3, 3, 10)"
   ]
  },
  {
   "cell_type": "markdown",
   "id": "b076b218-6c13-42a1-91eb-04ce55b187e0",
   "metadata": {},
   "source": [
    "array1"
   ]
  },
  {
   "cell_type": "code",
   "execution_count": 94,
   "id": "5283127d-76a5-4be5-896d-2ab68c21c76b",
   "metadata": {},
   "outputs": [
    {
     "data": {
      "text/plain": [
       "array([[[ 4, 18,  0, 19, 11],\n",
       "        [ 1,  5, 17, 14,  7]],\n",
       "\n",
       "       [[10,  3,  2,  9, 12],\n",
       "        [ 8, 16, 13,  6, 15]]])"
      ]
     },
     "execution_count": 94,
     "metadata": {},
     "output_type": "execute_result"
    }
   ],
   "source": [
    "array2"
   ]
  },
  {
   "cell_type": "code",
   "execution_count": 95,
   "id": "05a42f57-8129-4147-881c-11b0e88fd802",
   "metadata": {},
   "outputs": [
    {
     "data": {
      "text/plain": [
       "array([[[74, 70, 77, 78, 40, 82, 71, 31, 86, 58],\n",
       "        [10,  7,  6, 75, 63, 68, 36, 21, 59, 47],\n",
       "        [26, 56, 85, 89, 64, 66, 42, 23, 84, 50]],\n",
       "\n",
       "       [[20, 30, 79, 44, 39,  0, 16, 48, 17,  1],\n",
       "        [14,  2, 25, 46, 35, 52, 15, 57, 53, 12],\n",
       "        [60, 73, 38, 72,  5, 24, 67, 13,  9, 43]],\n",
       "\n",
       "       [[55, 29, 45, 34, 41, 27, 87, 54, 32, 33],\n",
       "        [11, 18, 51,  4,  3, 19, 83, 76, 22, 37],\n",
       "        [62,  8, 49, 69, 65, 28, 81, 80, 88, 61]]])"
      ]
     },
     "execution_count": 95,
     "metadata": {},
     "output_type": "execute_result"
    }
   ],
   "source": [
    "array3"
   ]
  },
  {
   "cell_type": "code",
   "execution_count": 96,
   "id": "e11a68f9-6fe8-496d-8c10-8d58c5cc67a7",
   "metadata": {},
   "outputs": [
    {
     "data": {
      "text/plain": [
       "array([0, 1, 2, 3, 4, 5, 6, 7, 8, 9])"
      ]
     },
     "execution_count": 96,
     "metadata": {},
     "output_type": "execute_result"
    }
   ],
   "source": [
    "array1.sort(axis = 0)\n",
    "array1"
   ]
  },
  {
   "cell_type": "code",
   "execution_count": 97,
   "id": "03b6ee0e-46b9-4367-a651-5de612b81ffe",
   "metadata": {},
   "outputs": [
    {
     "data": {
      "text/plain": [
       "array([[[ 4,  3,  0,  9, 11],\n",
       "        [ 1,  5, 13,  6,  7]],\n",
       "\n",
       "       [[10, 18,  2, 19, 12],\n",
       "        [ 8, 16, 17, 14, 15]]])"
      ]
     },
     "execution_count": 97,
     "metadata": {},
     "output_type": "execute_result"
    }
   ],
   "source": [
    "array2.sort(axis = 0)\n",
    "array2"
   ]
  },
  {
   "cell_type": "markdown",
   "id": "a46570c8-44ac-4851-82a5-62e980d926b9",
   "metadata": {},
   "source": [
    "#### Sorting arrays with strings\n",
    "In Numpy, string arrays are sorted in alphabetical order."
   ]
  },
  {
   "cell_type": "code",
   "execution_count": 99,
   "id": "3a0a9375-9fa9-474f-bb52-48080ae2dd57",
   "metadata": {},
   "outputs": [
    {
     "data": {
      "text/plain": [
       "['Constantinople',\n",
       " 'Hong kong',\n",
       " 'Islamibad',\n",
       " 'Istanbul',\n",
       " 'London',\n",
       " 'New Amsterdam',\n",
       " 'New york',\n",
       " 'Paris']"
      ]
     },
     "execution_count": 99,
     "metadata": {},
     "output_type": "execute_result"
    }
   ],
   "source": [
    "import numpy as np\n",
    "cities = ['London', 'Paris', 'Hong kong', 'Istanbul', 'Constantinople', 'New Amsterdam', 'New york', 'Islamibad']\n",
    "cities.sort()\n",
    "cities"
   ]
  },
  {
   "cell_type": "code",
   "execution_count": 100,
   "id": "edaaef35-2114-4771-a5de-e19f4851467d",
   "metadata": {},
   "outputs": [
    {
     "data": {
      "text/plain": [
       "['Paris',\n",
       " 'New york',\n",
       " 'New Amsterdam',\n",
       " 'London',\n",
       " 'Istanbul',\n",
       " 'Islamibad',\n",
       " 'Hong kong',\n",
       " 'Constantinople']"
      ]
     },
     "execution_count": 100,
     "metadata": {},
     "output_type": "execute_result"
    }
   ],
   "source": [
    "cities[::-1]"
   ]
  },
  {
   "cell_type": "code",
   "execution_count": 101,
   "id": "e95c47c4-6f0e-465a-9228-b268ca5365a0",
   "metadata": {},
   "outputs": [
    {
     "data": {
      "text/plain": [
       "array(['Apple', 'Banana', 'Dragon fruit', 'Grape', 'Mango', 'Orange'],\n",
       "      dtype='<U12')"
      ]
     },
     "execution_count": 101,
     "metadata": {},
     "output_type": "execute_result"
    }
   ],
   "source": [
    "fruits = ['Dragon fruit', 'Apple', 'Orange', 'Banana', 'Grape', 'Mango']\n",
    "sorted_fruits = np.sort(fruits)\n",
    "sorted_fruits"
   ]
  },
  {
   "cell_type": "markdown",
   "id": "f2f2e631-d157-4b55-8fa6-de6afc57a1fc",
   "metadata": {},
   "source": [
    "### Applying operations to arrays\n",
    "We can apply certain operations to arrays, allowing us to manipulate existing arrays or derive new ones.\n",
    "For example, we can create a 'boolean mask' of an array, that is, an array of all of the values in another array which fulfil a certain criteria.</br>\n",
    "'Masking', as opposed to 'slicing', actually creates a copy of the array values as opposed to referencing it. The syntax of this operation looks like this: array = (condition of array).</br>\n",
    "\n",
    "We can utilise this functionality to create a new array with only the values which fulfil the conditions. For this to function correctly, we can use the array[condition of array] syntax.</br>\n",
    "\n",
    "#### Broadcasting\n",
    "Numpy allows for an operation called 'broadcasting' which allows us to do the equivelent of applying an operation between two arrays, if one of the arrays was made up of only one value (i.e adding a number to every item in an array).\n",
    "This can be done by simply applying an operator to an array alongside an operand.</br>\n",
    "Broadcasting is not possible in all configurations, while broadcasting different shapes to an array is possiblem, they must be compatible, similarly to how the reshape function may only work in some configurations."
   ]
  },
  {
   "cell_type": "code",
   "execution_count": 103,
   "id": "9508ab7c-e475-4424-bf8b-7c0d4b77a80e",
   "metadata": {},
   "outputs": [
    {
     "data": {
      "text/plain": [
       "array([ True, False,  True, False,  True, False,  True, False,  True,\n",
       "       False])"
      ]
     },
     "execution_count": 103,
     "metadata": {},
     "output_type": "execute_result"
    }
   ],
   "source": [
    "import numpy as np\n",
    "array1 = np.arange(10)\n",
    "array2 = (array1 % 2 == 0)\n",
    "array2"
   ]
  },
  {
   "cell_type": "code",
   "execution_count": 104,
   "id": "0afd8cf0-5ac1-4a84-80e8-39f25f4925d3",
   "metadata": {},
   "outputs": [
    {
     "data": {
      "text/plain": [
       "array([0, 2, 4, 6, 8])"
      ]
     },
     "execution_count": 104,
     "metadata": {},
     "output_type": "execute_result"
    }
   ],
   "source": [
    "array3 = array1[array1 % 2 == 0]\n",
    "array3"
   ]
  },
  {
   "cell_type": "code",
   "execution_count": 105,
   "id": "df3d4294-9fdb-4da9-8e36-330ad88293e3",
   "metadata": {},
   "outputs": [
    {
     "data": {
      "text/plain": [
       "array([-1,  2,  4,  6,  8])"
      ]
     },
     "execution_count": 105,
     "metadata": {},
     "output_type": "execute_result"
    }
   ],
   "source": [
    "# checking for viewing vs copying\n",
    "array3[0] = -1\n",
    "array3"
   ]
  },
  {
   "cell_type": "code",
   "execution_count": 106,
   "id": "93838edc-916e-4c30-8d3e-2f5092f66933",
   "metadata": {},
   "outputs": [
    {
     "data": {
      "text/plain": [
       "array([0, 1, 2, 3, 4, 5, 6, 7, 8, 9])"
      ]
     },
     "execution_count": 106,
     "metadata": {},
     "output_type": "execute_result"
    }
   ],
   "source": [
    "array1"
   ]
  },
  {
   "cell_type": "code",
   "execution_count": 107,
   "id": "011735b8-0885-4ef1-bf64-89b638bed0fa",
   "metadata": {},
   "outputs": [
    {
     "data": {
      "text/plain": [
       "array([3, 4, 5, 6, 7])"
      ]
     },
     "execution_count": 107,
     "metadata": {},
     "output_type": "execute_result"
    }
   ],
   "source": [
    "array4 = array1[(array1 > 2) & (array1 < 8)]\n",
    "array4"
   ]
  },
  {
   "cell_type": "markdown",
   "id": "b157f4ec-0741-4453-ae35-023e0f80ea86",
   "metadata": {},
   "source": [
    "#### Discrepency: array vs. single-object selection\n",
    "When using selection statements, such as the one above, you might have noticed we used the '&' syntax rather than the 'and' syntax. This is because this newer syntax, '&', is actually used for selection statements dealing with arrays, and the 'and' syntax is used for single-object selection.</>\n",
    "\n",
    "##### List with different array selection operations:\n",
    "| Array | Single-object |\n",
    "| --- | --- |\n",
    "| & | and |\n",
    "| \\| | or |\n",
    "| ~ | not |"
   ]
  },
  {
   "cell_type": "code",
   "execution_count": 109,
   "id": "83a2f9e2-e8e0-41fb-94b7-66b30af5ed23",
   "metadata": {},
   "outputs": [],
   "source": [
    "import numpy as np\n",
    "array1 = np.arange(1, 21) # values from 1 - 20 (inclusive)\n",
    "array2 = array1[((array1 % 3 == 0) | (array1 % 5 == 0)) & ~(array1 == 0)] # divisible by 3 or 5 and not equal to 0"
   ]
  },
  {
   "cell_type": "code",
   "execution_count": 110,
   "id": "e6b083d7-e8d4-4e90-b4d7-41d712117b5a",
   "metadata": {},
   "outputs": [
    {
     "data": {
      "text/plain": [
       "array([ 3,  5,  6,  9, 10, 12, 15, 18, 20])"
      ]
     },
     "execution_count": 110,
     "metadata": {},
     "output_type": "execute_result"
    }
   ],
   "source": [
    "array2"
   ]
  },
  {
   "cell_type": "markdown",
   "id": "61bc11e7-5205-47d5-bd4c-6e050b429224",
   "metadata": {},
   "source": [
    "#### Broadcasting"
   ]
  },
  {
   "cell_type": "code",
   "execution_count": 112,
   "id": "cdde3ddd-a61f-405e-96d0-fa4320278ff0",
   "metadata": {},
   "outputs": [
    {
     "data": {
      "text/plain": [
       "array([ 6,  7,  8,  9, 10, 11, 12, 13, 14, 15, 16, 17, 18, 19, 20, 21, 22,\n",
       "       23, 24, 25])"
      ]
     },
     "execution_count": 112,
     "metadata": {},
     "output_type": "execute_result"
    }
   ],
   "source": [
    "import numpy as np\n",
    "array1 = np.arange(1, 21)\n",
    "array2 = array1 + 5\n",
    "array2"
   ]
  },
  {
   "cell_type": "code",
   "execution_count": 113,
   "id": "4f34b641-bc48-4dfe-b094-e7343f168091",
   "metadata": {},
   "outputs": [],
   "source": [
    "array3 = array1.reshape(2, 10)"
   ]
  },
  {
   "cell_type": "code",
   "execution_count": 114,
   "id": "3eade8d8-3c5c-4dc1-a79e-7a6c0e4f56f3",
   "metadata": {},
   "outputs": [
    {
     "data": {
      "text/plain": [
       "array([[ 2,  4,  6,  8, 10, 12, 14, 16, 18, 20],\n",
       "       [11, 12, 13, 14, 15, 16, 17, 18, 19, 20]])"
      ]
     },
     "execution_count": 114,
     "metadata": {},
     "output_type": "execute_result"
    }
   ],
   "source": [
    "operand1 = [[2], [1]]\n",
    "matrix1 = array3 * operand1\n",
    "matrix1"
   ]
  },
  {
   "cell_type": "code",
   "execution_count": 115,
   "id": "24cf14cf-653c-4261-8afe-65be08d8cb50",
   "metadata": {},
   "outputs": [
    {
     "data": {
      "text/plain": [
       "array([[11, 12, 13, 14, 15, 16, 17, 18, 19, 20],\n",
       "       [ 1,  2,  3,  4,  5,  6,  7,  8,  9, 10]])"
      ]
     },
     "execution_count": 115,
     "metadata": {},
     "output_type": "execute_result"
    }
   ],
   "source": [
    "operand2 = [[10], [-10]]\n",
    "matrix2 = array3 + operand2\n",
    "matrix2"
   ]
  },
  {
   "cell_type": "code",
   "execution_count": 116,
   "id": "f5f39980-38ab-4b9e-9be1-ce9c210ce55c",
   "metadata": {},
   "outputs": [
    {
     "data": {
      "text/plain": [
       "array([[  1.,   2.,   3.,   4.,   5.,   6.,   7.,   8.,   9.,  10.],\n",
       "       [  2.,   4.,   6.,   8.,  10.,  12.,  14.,  16.,  18.,  20.],\n",
       "       [  3.,   6.,   9.,  12.,  15.,  18.,  21.,  24.,  27.,  30.],\n",
       "       [  4.,   8.,  12.,  16.,  20.,  24.,  28.,  32.,  36.,  40.],\n",
       "       [  5.,  10.,  15.,  20.,  25.,  30.,  35.,  40.,  45.,  50.],\n",
       "       [  6.,  12.,  18.,  24.,  30.,  36.,  42.,  48.,  54.,  60.],\n",
       "       [  7.,  14.,  21.,  28.,  35.,  42.,  49.,  56.,  63.,  70.],\n",
       "       [  8.,  16.,  24.,  32.,  40.,  48.,  56.,  64.,  72.,  80.],\n",
       "       [  9.,  18.,  27.,  36.,  45.,  54.,  63.,  72.,  81.,  90.],\n",
       "       [ 10.,  20.,  30.,  40.,  50.,  60.,  70.,  80.,  90., 100.]])"
      ]
     },
     "execution_count": 116,
     "metadata": {},
     "output_type": "execute_result"
    }
   ],
   "source": [
    "# create a multiplication table of size 10\n",
    "matrix3 = np.ones(100).reshape(10,10) * array1[0:10]\n",
    "matrix4 = matrix3 * array1[0:10].reshape(10, 1)\n",
    "matrix4"
   ]
  },
  {
   "cell_type": "markdown",
   "id": "3b1155b0-eaa3-410d-8cc9-8813fbef35bb",
   "metadata": {},
   "source": [
    "### Concatenation of arrays in numpy\n",
    "Using the numpy.hstack() (horizontal) and numpy.vstack() (vertical) functions, we can concatenate arrays, including multi-dimensional arrays together.</br>\n",
    "\n",
    "It is important that there is a seperate, more general, numpy.concat(axis=n) function in which you can specify the axis upon which the concatenation takes place."
   ]
  },
  {
   "cell_type": "code",
   "execution_count": 118,
   "id": "face503c-f78b-4884-80d0-062ac5b8da2a",
   "metadata": {},
   "outputs": [
    {
     "data": {
      "text/plain": [
       "array([[6., 4., 8.],\n",
       "       [1., 5., 9.]])"
      ]
     },
     "execution_count": 118,
     "metadata": {},
     "output_type": "execute_result"
    }
   ],
   "source": [
    "array1 = np.round(10*np.random.rand(2,3))\n",
    "array1"
   ]
  },
  {
   "cell_type": "code",
   "execution_count": 119,
   "id": "2a87d473-2ba2-4c35-ba77-c07890a6bfdc",
   "metadata": {},
   "outputs": [
    {
     "data": {
      "text/plain": [
       "array([[7., 8.],\n",
       "       [4., 1.]])"
      ]
     },
     "execution_count": 119,
     "metadata": {},
     "output_type": "execute_result"
    }
   ],
   "source": [
    "array2 = np.round(10*np.random.rand(2,2))\n",
    "array2"
   ]
  },
  {
   "cell_type": "code",
   "execution_count": 120,
   "id": "9c080a21-5659-47d1-aea1-6ef66db6739c",
   "metadata": {},
   "outputs": [
    {
     "data": {
      "text/plain": [
       "array([[6., 4., 8., 7., 8.],\n",
       "       [1., 5., 9., 4., 1.]])"
      ]
     },
     "execution_count": 120,
     "metadata": {},
     "output_type": "execute_result"
    }
   ],
   "source": [
    "matrix1 = np.hstack((array1, array2))\n",
    "matrix1"
   ]
  },
  {
   "cell_type": "raw",
   "id": "19c7e59c-c159-429c-a6ae-64adbac015ef",
   "metadata": {},
   "source": [
    "array3 = np.arange(10)\n",
    "array4 = np.arange(10,20)\n",
    "matrix2 = np.vstack((array3, array4))\n",
    "matrix2"
   ]
  }
 ],
 "metadata": {
  "kernelspec": {
   "display_name": "Python 3 (ipykernel)",
   "language": "python",
   "name": "python3"
  },
  "language_info": {
   "codemirror_mode": {
    "name": "ipython",
    "version": 3
   },
   "file_extension": ".py",
   "mimetype": "text/x-python",
   "name": "python",
   "nbconvert_exporter": "python",
   "pygments_lexer": "ipython3",
   "version": "3.12.7"
  }
 },
 "nbformat": 4,
 "nbformat_minor": 5
}
