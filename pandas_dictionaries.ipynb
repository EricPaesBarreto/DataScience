{
 "cells": [
  {
   "cell_type": "markdown",
   "id": "55b845f1-0f06-4fc0-b2d2-4fe6de5f4d23",
   "metadata": {},
   "source": [
    "### Creating dictionaries : series\n",
    "Pandas allows us to create dictionarys with key-value pairs using the pandas.Series object.\n",
    "This datatype is a single-dimensional dictionary built using numpy's ndarrays."
   ]
  },
  {
   "cell_type": "code",
   "execution_count": 55,
   "id": "6fb9a811-ee60-4e86-8513-f2cbd151956e",
   "metadata": {},
   "outputs": [
    {
     "data": {
      "text/plain": [
       "a    19\n",
       "b    80\n",
       "b    14\n",
       "c    16\n",
       "dtype: int64"
      ]
     },
     "execution_count": 55,
     "metadata": {},
     "output_type": "execute_result"
    }
   ],
   "source": [
    "import pandas as pd\n",
    "series1 = pd.Series([19, 80, 14, 16], ['a', 'b', 'b', 'c'])\n",
    "series1"
   ]
  },
  {
   "cell_type": "code",
   "execution_count": 61,
   "id": "348267cd-b77c-4f7c-be9f-2e67d8a0b09a",
   "metadata": {},
   "outputs": [
    {
     "data": {
      "text/plain": [
       "a    1\n",
       "b    2\n",
       "c    3\n",
       "dtype: int32"
      ]
     },
     "execution_count": 61,
     "metadata": {},
     "output_type": "execute_result"
    }
   ],
   "source": [
    "# defining using an array with keys\n",
    "import numpy as np\n",
    "array1 = np.array([1,2,3])\n",
    "series2 = pd.Series(array1, ['a','b','c'])\n",
    "series2"
   ]
  },
  {
   "cell_type": "code",
   "execution_count": 65,
   "id": "f15023e0-f1e8-4076-b795-14948671cb26",
   "metadata": {},
   "outputs": [
    {
     "data": {
      "text/plain": [
       "a    1\n",
       "b    2\n",
       "c    3\n",
       "dtype: int64"
      ]
     },
     "execution_count": 65,
     "metadata": {},
     "output_type": "execute_result"
    }
   ],
   "source": [
    "# defining a series using a dictionary\n",
    "dict1 = {'a':1,'b':2,'c':3}\n",
    "series3 = pd.Series(dict1)\n",
    "series3"
   ]
  },
  {
   "cell_type": "code",
   "execution_count": 67,
   "id": "9f3adcf4-8c4d-4054-af43-a7db78a849f9",
   "metadata": {},
   "outputs": [
    {
     "data": {
      "text/plain": [
       "bubblegum       1.99\n",
       "strawberry      0.69\n",
       "butterscotch    2.50\n",
       "magnum          2.99\n",
       "apple_pie       0.99\n",
       "dtype: float64"
      ]
     },
     "execution_count": 67,
     "metadata": {},
     "output_type": "execute_result"
    }
   ],
   "source": [
    "ice_cream_prices = pd.Series([1.99, 0.69, 2.5, 2.99, 0.99], ['bubblegum', 'strawberry', 'butterscotch', 'magnum', 'apple_pie'])\n",
    "ice_cream_prices"
   ]
  },
  {
   "cell_type": "markdown",
   "id": "c07ecd59-02e4-43a2-8753-3113fd72e203",
   "metadata": {},
   "source": [
    "### Series slicing\n",
    "Pandas actually allows us to slice series, though it is important to note that the order in which they are sliced is purely determinted by the positions in which the data items are defined.</br>\n",
    "\n",
    "Another important fact is that slicing, using series, is inclusive."
   ]
  },
  {
   "cell_type": "code",
   "execution_count": 82,
   "id": "cedb0b23-06ec-4c52-9673-9a4b7d789847",
   "metadata": {},
   "outputs": [
    {
     "data": {
      "text/plain": [
       "strawberry      0.69\n",
       "apple_pie       0.99\n",
       "bubblegum       1.99\n",
       "butterscotch    2.50\n",
       "magnum          2.99\n",
       "dtype: float64"
      ]
     },
     "execution_count": 82,
     "metadata": {},
     "output_type": "execute_result"
    }
   ],
   "source": [
    "ice_cream_prices['strawberry':'magnum']"
   ]
  },
  {
   "cell_type": "code",
   "execution_count": 84,
   "id": "d33a0557-9a5e-4dd3-a72f-b80d514c19cb",
   "metadata": {},
   "outputs": [
    {
     "name": "stdout",
     "output_type": "stream",
     "text": [
      "magnum          2.99\n",
      "butterscotch    2.50\n",
      "bubblegum       1.99\n",
      "apple_pie       0.99\n",
      "strawberry      0.69\n",
      "dtype: float64\n"
     ]
    }
   ],
   "source": [
    "print(ice_cream_prices[::-1])"
   ]
  },
  {
   "cell_type": "code",
   "execution_count": 86,
   "id": "4a9d1eaa-27bc-4a47-985e-9117ecdd45d9",
   "metadata": {},
   "outputs": [
    {
     "data": {
      "text/plain": [
       "butterscotch    2.50\n",
       "magnum          2.99\n",
       "dtype: float64"
      ]
     },
     "execution_count": 86,
     "metadata": {},
     "output_type": "execute_result"
    }
   ],
   "source": [
    "ice_cream_prices['butterscotch':]"
   ]
  },
  {
   "cell_type": "markdown",
   "id": "38061ae1-e9b6-4cb3-9d9c-b3e64d6869ae",
   "metadata": {},
   "source": [
    "### Sorting series\n",
    "We can sort a series depending on the axis, key/value, and in a specific direction using the sort_index/sort_values() functions."
   ]
  },
  {
   "cell_type": "code",
   "execution_count": 89,
   "id": "e6f5b5b4-06e6-474f-8049-ce48e4314916",
   "metadata": {},
   "outputs": [
    {
     "data": {
      "text/plain": [
       "strawberry      0.69\n",
       "apple_pie       0.99\n",
       "bubblegum       1.99\n",
       "butterscotch    2.50\n",
       "magnum          2.99\n",
       "dtype: float64"
      ]
     },
     "execution_count": 89,
     "metadata": {},
     "output_type": "execute_result"
    }
   ],
   "source": [
    "# sort the series based on the prices of the ice creams\n",
    "ice_cream_prices = ice_cream_prices.sort_values()\n",
    "ice_cream_prices"
   ]
  },
  {
   "cell_type": "markdown",
   "id": "a5c71b78-c5e8-4e62-b5a1-328481bace44",
   "metadata": {},
   "source": [
    "### Dataframes for multidimensional dictionaries\n",
    "Dataframes allow us to extend the functionality of the series in pandas. It allows us to use the same keys with multiple value pairs."
   ]
  },
  {
   "cell_type": "code",
   "execution_count": 108,
   "id": "e0438dbd-4630-4e79-ab3a-be4ce7db141d",
   "metadata": {},
   "outputs": [
    {
     "data": {
      "text/html": [
       "<div>\n",
       "<style scoped>\n",
       "    .dataframe tbody tr th:only-of-type {\n",
       "        vertical-align: middle;\n",
       "    }\n",
       "\n",
       "    .dataframe tbody tr th {\n",
       "        vertical-align: top;\n",
       "    }\n",
       "\n",
       "    .dataframe thead th {\n",
       "        text-align: right;\n",
       "    }\n",
       "</style>\n",
       "<table border=\"1\" class=\"dataframe\">\n",
       "  <thead>\n",
       "    <tr style=\"text-align: right;\">\n",
       "      <th></th>\n",
       "      <th>Marks</th>\n",
       "      <th>Grades</th>\n",
       "    </tr>\n",
       "  </thead>\n",
       "  <tbody>\n",
       "    <tr>\n",
       "      <th>A</th>\n",
       "      <td>85</td>\n",
       "      <td>4.0</td>\n",
       "    </tr>\n",
       "    <tr>\n",
       "      <th>B</th>\n",
       "      <td>75</td>\n",
       "      <td>3.5</td>\n",
       "    </tr>\n",
       "    <tr>\n",
       "      <th>C</th>\n",
       "      <td>65</td>\n",
       "      <td>3.0</td>\n",
       "    </tr>\n",
       "    <tr>\n",
       "      <th>D</th>\n",
       "      <td>55</td>\n",
       "      <td>2.5</td>\n",
       "    </tr>\n",
       "  </tbody>\n",
       "</table>\n",
       "</div>"
      ],
      "text/plain": [
       "   Marks  Grades\n",
       "A     85     4.0\n",
       "B     75     3.5\n",
       "C     65     3.0\n",
       "D     55     2.5"
      ]
     },
     "execution_count": 108,
     "metadata": {},
     "output_type": "execute_result"
    }
   ],
   "source": [
    "import pandas as pd\n",
    "grades = pd.Series([4.0, 3.5, 3.0, 2.5],['A','B','C','D'])\n",
    "marks = pd.Series([85, 75, 65, 55], ['A','B','C','D'])\n",
    "dataframe1 = pd.DataFrame({'Marks':marks, 'Grades':grades})\n",
    "dataframe1"
   ]
  },
  {
   "cell_type": "code",
   "execution_count": null,
   "id": "9fd07a5c-c5ce-493e-9615-e8e5a9dd310d",
   "metadata": {},
   "outputs": [],
   "source": []
  }
 ],
 "metadata": {
  "kernelspec": {
   "display_name": "Python 3 (ipykernel)",
   "language": "python",
   "name": "python3"
  },
  "language_info": {
   "codemirror_mode": {
    "name": "ipython",
    "version": 3
   },
   "file_extension": ".py",
   "mimetype": "text/x-python",
   "name": "python",
   "nbconvert_exporter": "python",
   "pygments_lexer": "ipython3",
   "version": "3.12.7"
  }
 },
 "nbformat": 4,
 "nbformat_minor": 5
}
