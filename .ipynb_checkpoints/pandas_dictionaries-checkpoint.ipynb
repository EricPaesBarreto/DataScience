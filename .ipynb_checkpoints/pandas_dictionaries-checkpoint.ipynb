{
 "cells": [
  {
   "cell_type": "markdown",
   "id": "55b845f1-0f06-4fc0-b2d2-4fe6de5f4d23",
   "metadata": {},
   "source": [
    "### Creating dictionaries\n",
    "Pandas allows us to create dictionarys with key-value pairs using the pandas.Series object.\n",
    "This datatype is a single-dimensional dictionary built using numpy's ndarrays."
   ]
  },
  {
   "cell_type": "code",
   "execution_count": 8,
   "id": "852c4e91-e857-4820-92aa-801c9e332935",
   "metadata": {},
   "outputs": [
    {
     "data": {
      "text/plain": [
       "a    19\n",
       "b    80\n",
       "b    14\n",
       "c    16\n",
       "dtype: int64"
      ]
     },
     "execution_count": 8,
     "metadata": {},
     "output_type": "execute_result"
    }
   ],
   "source": [
    "import pandas as pd\n",
    "array1 = pd.Series([19, 80, 14, 16], ['a', 'b', 'b', 'c'])\n",
    "array1"
   ]
  },
  {
   "cell_type": "code",
   "execution_count": 10,
   "id": "f15023e0-f1e8-4076-b795-14948671cb26",
   "metadata": {},
   "outputs": [
    {
     "ename": "SyntaxError",
     "evalue": "invalid syntax (2118579174.py, line 2)",
     "output_type": "error",
     "traceback": [
      "\u001b[1;36m  Cell \u001b[1;32mIn[10], line 2\u001b[1;36m\u001b[0m\n\u001b[1;33m    array2 = pd.series(['a':1,'b':2,'c':3])\u001b[0m\n\u001b[1;37m                           ^\u001b[0m\n\u001b[1;31mSyntaxError\u001b[0m\u001b[1;31m:\u001b[0m invalid syntax\n"
     ]
    }
   ],
   "source": [
    "# another way of defining a series:\n",
    "dict1 = {'a':1,'b':2,'c':3}\n",
    "array2 = pd.series(dict1, ['a','b','c'])\n",
    "array2"
   ]
  },
  {
   "cell_type": "code",
   "execution_count": null,
   "id": "9f3adcf4-8c4d-4054-af43-a7db78a849f9",
   "metadata": {},
   "outputs": [],
   "source": []
  }
 ],
 "metadata": {
  "kernelspec": {
   "display_name": "Python 3 (ipykernel)",
   "language": "python",
   "name": "python3"
  },
  "language_info": {
   "codemirror_mode": {
    "name": "ipython",
    "version": 3
   },
   "file_extension": ".py",
   "mimetype": "text/x-python",
   "name": "python",
   "nbconvert_exporter": "python",
   "pygments_lexer": "ipython3",
   "version": "3.12.7"
  }
 },
 "nbformat": 4,
 "nbformat_minor": 5
}
