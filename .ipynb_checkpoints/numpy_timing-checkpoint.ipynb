{
 "cells": [
  {
   "cell_type": "markdown",
   "id": "afccc4a0-715d-42b0-a060-85bd2e8cc260",
   "metadata": {},
   "source": [
    "### Numpy speed/timing function\n",
    "Numpy allows us to test the speed of different functions we may write in our code.</br>\n",
    "\n",
    "We can do this using the syntax [%timeit function(parameters)]</br>\n",
    "\n",
    "Using this we can actually test just how fast Numpy really is over built-in python functions, and even our own implementations."
   ]
  },
  {
   "cell_type": "code",
   "execution_count": 49,
   "id": "3f08dd13-50cd-4010-8e1e-beb66c8a0cc6",
   "metadata": {},
   "outputs": [],
   "source": [
    "import numpy as np\n",
    "array1 = np.arange(1000)"
   ]
  },
  {
   "cell_type": "code",
   "execution_count": 50,
   "id": "afaad031-70bb-4a59-8e22-260d5765b895",
   "metadata": {},
   "outputs": [
    {
     "name": "stdout",
     "output_type": "stream",
     "text": [
      "33.9 μs ± 4.51 μs per loop (mean ± std. dev. of 7 runs, 10,000 loops each)\n"
     ]
    }
   ],
   "source": [
    "%timeit np.sum(array1)"
   ]
  },
  {
   "cell_type": "code",
   "execution_count": 51,
   "id": "bcd67ae2-29a7-4741-aca1-a47c2d04949e",
   "metadata": {},
   "outputs": [
    {
     "name": "stderr",
     "output_type": "stream",
     "text": [
      "<magic-timeit>:1: RuntimeWarning: overflow encountered in scalar add\n"
     ]
    },
    {
     "name": "stdout",
     "output_type": "stream",
     "text": [
      "9.28 ms ± 646 μs per loop (mean ± std. dev. of 7 runs, 100 loops each)\n"
     ]
    }
   ],
   "source": [
    "%timeit sum(array1) # default python summation function"
   ]
  },
  {
   "cell_type": "markdown",
   "id": "cb5da1a0-1da4-4ce0-b13e-0fdfdb4d30ac",
   "metadata": {},
   "source": [
    "#### Custom implementation\n",
    "You might think that we can create our own implementaion which works faster, we can test this with the code below."
   ]
  },
  {
   "cell_type": "code",
   "execution_count": 53,
   "id": "66456812-0720-4051-895d-e9b4e09ed3f9",
   "metadata": {},
   "outputs": [],
   "source": [
    "def my_sum(array):\n",
    "    sum = 0\n",
    "    for index in range(len(array)):\n",
    "        sum += array[index]\n",
    "    return sum"
   ]
  },
  {
   "cell_type": "code",
   "execution_count": null,
   "id": "eb29c241-87e1-4058-acc0-55b38ecec11b",
   "metadata": {},
   "outputs": [],
   "source": [
    "%timeit my_sum(array1)"
   ]
  },
  {
   "cell_type": "markdown",
   "id": "573c1b59-245b-48c4-91ca-a49dd40f7f21",
   "metadata": {},
   "source": [
    "#### Conclusion\n",
    "Often times, our implementation turns out to be even slower than the built-in python functions.\n",
    "This highlights the importance of utilising universal functions provided by Numpy rather than built-in or self-implemented functions whenever possible."
   ]
  }
 ],
 "metadata": {
  "kernelspec": {
   "display_name": "Python 3 (ipykernel)",
   "language": "python",
   "name": "python3"
  },
  "language_info": {
   "codemirror_mode": {
    "name": "ipython",
    "version": 3
   },
   "file_extension": ".py",
   "mimetype": "text/x-python",
   "name": "python",
   "nbconvert_exporter": "python",
   "pygments_lexer": "ipython3",
   "version": "3.12.7"
  }
 },
 "nbformat": 4,
 "nbformat_minor": 5
}
