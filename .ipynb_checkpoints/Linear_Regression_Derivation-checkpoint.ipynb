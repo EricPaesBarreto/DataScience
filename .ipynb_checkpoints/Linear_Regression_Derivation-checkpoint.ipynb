{
 "cells": [
  {
   "cell_type": "markdown",
   "id": "169dc5bd-ecb7-4996-aa78-f0418894f5a0",
   "metadata": {},
   "source": [
    "## Linear regression formula\n",
    "The linear regression formula is a method of producing a line of best fit to a pre-established dataset which is used to predict the value of a dependant variable (y) given an independant variable (x).\n",
    "### The problem\n",
    "* Assume we have a set of different data points. $[ x_i, y_i ]$</br>\n",
    "* Assume there exists a function given by the formula $y=mx+c$, where m is the gradient or slope, and c is the y-intercept, constant or offset.</br>\n",
    "* Assume there is a total square distance between all data points and the function given by the formula $\\bar{d}=\\Sigma^{n}_{i=1}[y_i-mx_i-c]^2$, where $\\bar{d}$ would be the total distance of all the points from the line squared (sum of squares).</br>In this sense we can treat $\\bar{d}$ as a function of $x$ and $y$ which could also be represented as: $\\bar{d}(x,y)$\n",
    "\n",
    "What we want to find is find a line which is as close to every data point as possible, in other words, a function in which the sum of square differences $\\bar{d}$ is the smallest possible. \n",
    "\n",
    ">In machine learning the gradient can also be referred to as a weight and the constant can be referred to as a bias. Assuming we are given no data whatsoever about the object we're modelling, we can still predict the average dependant variable for the entire dataset, this is what the constant represents."
   ]
  },
  {
   "cell_type": "markdown",
   "id": "d69bb014-7641-4aa3-b0aa-5d23c1dc30cd",
   "metadata": {},
   "source": [
    "### Visually representing our problem\n",
    "We can view our problem using a simple graph:"
   ]
  },
  {
   "cell_type": "code",
   "execution_count": 190,
   "id": "3eb45f21-f0eb-4ace-be79-3e5f901e1a30",
   "metadata": {},
   "outputs": [],
   "source": [
    "import numpy as np\n",
    "import matplotlib.pyplot as plt"
   ]
  },
  {
   "cell_type": "code",
   "execution_count": 4,
   "id": "1480fa7d-fe2e-4a04-a26f-bc527ce77780",
   "metadata": {},
   "outputs": [],
   "source": [
    "# define data points\n",
    "x_i = np.array([-1,0,3,5,6,9])\n",
    "y_i = np.array([-1,2,1,2,4,4])"
   ]
  },
  {
   "cell_type": "code",
   "execution_count": 5,
   "id": "fa3e0e87-5edb-4ca0-94ce-aeb4a4ac63f1",
   "metadata": {},
   "outputs": [],
   "source": [
    "# define a function (values don't matter)\n",
    "a = 0.5 * x_i + 0.18"
   ]
  },
  {
   "cell_type": "code",
   "execution_count": 6,
   "id": "6469ff24-e3de-4f22-b781-4c9adef1cd4b",
   "metadata": {},
   "outputs": [
    {
     "data": {
      "image/png": "[encoded data removed]",
      "text/plain": [
       "<Figure size 640x480 with 1 Axes>"
      ]
     },
     "metadata": {},
     "output_type": "display_data"
    }
   ],
   "source": [
    "# create a graph\n",
    "fig, graph = plt.subplots()\n",
    "\n",
    "# plot a scatter graph with the data points\n",
    "graph.scatter(x_i,y_i)\n",
    "\n",
    "# plot difference\n",
    "import matplotlib.collections as col\n",
    "\n",
    "distances = []\n",
    "for i in range(len(x_i)):\n",
    "    # for each x coordinate in the dataset create a new array\n",
    "    points = [(x_i[i], y_i[i]), (x_i[i], a[i])]\n",
    "    # in the array, store the point in the dataset and the equivelant point in the imaginary function\n",
    "    distances.append(points)\n",
    "\n",
    "linecoll = col.LineCollection(distances)\n",
    "\n",
    "graph.add_collection(linecoll)\n",
    "\n",
    "# plot our function\n",
    "graph.plot(x_i, a, 'red')\n",
    "\n",
    "# dislpay the graph\n",
    "plt.show()"
   ]
  },
  {
   "cell_type": "markdown",
   "id": "55fd32d8-661d-4411-bb7d-8ebd2452512d",
   "metadata": {
    "jp-MarkdownHeadingCollapsed": true
   },
   "source": [
    "### Interpreting the graph\n",
    "As can be seen, our imaginary red line (drawn inbetween the points for simplicity) can be plotted against our points. </br>\n",
    "We can then draw vertical lines betweeen our points $[x_i,y_i]$ and our red line $y=mx+c$, if we measure the length of each blue line and sum them together, we will obtain the value $d$, sum of all distances.\n",
    "\n",
    ">It is important to note that the line shown is only represented as is for visual purposes, you could theoretically draw any line on the graph, any distance away from the points, with any gradient, and it would be a correct representation of our imaginary line.\n",
    "\n",
    "If we want to measure the sum of all distances, $d$, we should subtract the value of the line from our data points, since we don't want these to cancel out during our summation, we should square the values they produce, which represents the mathematical relationship between the values while negating the sign.</br>\n",
    "This method is known as the 'sum of least squares' method and we'll represent the 'sum of squares' using the $\\bar{d}$ symbol.\n",
    "\n",
    ">The reason we do this is that it provides a valid method of tracking the methematically-relative distance between points and the line without cancelling out the summation. An example could be with the values (representing distance from each point to the imaginary line) $[3, -2, 5, -7, 2, -1]$ as $3 + 2 + 5 = 10$, and $(-1) -2 - 7 = (-10)$, these values would cancel out and give us a final value of 0. ($ 10 - 10 = 0$)\n",
    ">\n",
    "Let's use smaller example sets to show how the sum of squares (SOS) method functions and compare it against regular summation (REG):</br>\n",
    "\n",
    "1.\n",
    "$[-1,5,2]$ </br>\n",
    "REG $ = 2 + 5 -1 = 6 $, SOS $ = 25 + 4 + 1 = 30 $ </br>\n",
    "\n",
    "2.\n",
    "$[5,-2,-3]$ </br>\n",
    "REG $ = 5 - 3 -2 = 0 $, SOS $ = 25 + 9 + 4 = 38 $ </br>\n",
    "\n",
    "3.\n",
    "$[ -2, -3, -1]$ </br>\n",
    "REG $ = (-3) -2 -1 = (-6) $, SOS $ = 9 + 4 + 1 = 14 $\n",
    "\n",
    "##### Interpreting these results\n",
    "The ideal scenario is that the total sum of the absolute value of each of the distances, that is to say non-negative distances, is as low as possible.\n",
    "let's get these values for each of the sets above:\n",
    "1. $ 1 + 5 + 2 = 8 $\n",
    "2. $ 5 + 2 + 3 = 10 $\n",
    "3. $ 2 + 3 + 1 = 6 $\n",
    "\n",
    "As we can see the third set has the smallest true total distance, $d$, and the second set has the highest. </br>\n",
    "When we compare these results to the values using the sum of squares method, we can see that those values represent the same relationship as the true total distance. </br>\n",
    "The regular summation has the issue that values might cancel out, which means that some distances may be misinterpreted as lower or higher than they truly are in relation to eachother."
   ]
  },
  {
   "cell_type": "markdown",
   "id": "25ef7b66-c5e4-42bd-9e81-eeed9d54d9c6",
   "metadata": {},
   "source": [
    "### Opimalization, and calculus\n",
    "We want to find the values $m$ and $c$ for our function $y=mx+c$ for which the sum of squares of distances $\\bar{d}$ is the lowest it can be.</br>\n",
    "Using calculus, we can construct a function which describes the rate of change of this sum $\\bar{d}$ as the values $m$ and $c$ change.</br>\n",
    "\n",
    "These functions can be represented by the following derivatives:</br>\n",
    "> How $\\bar{d}$ changes in relation to the gradient: $\\frac{\\partial \\bar{d}}{\\partial m}$ </br>\n",
    "> How $\\bar{d}$ changes in relation to the constant: $\\frac{\\partial \\bar{d}}{\\partial c}$"
   ]
  },
  {
   "cell_type": "markdown",
   "id": "80c8f3aa-f808-48ab-9780-eb38a9cc3197",
   "metadata": {},
   "source": [
    "#### Finding the result\n",
    "We're looking for a point that the distances are as low as they can be, that is, the rate of change with respect to $m$ and $c$ is equal to zero, and the second rate derivative is a positive number.\n",
    "\n",
    "Here are the derivatives we need to find\n",
    "$$\\frac{\\partial \\bar{d}}{\\partial m}[\\Sigma^{n}_{i=1}[y_i-mx_i-c]^2]=0$$\n",
    "$$\\frac{\\partial \\bar{d}}{\\partial c}[\\Sigma^{n}_{i=1}[y_i-mx_i-c]^2]=0$$\n",
    "\n",
    "We can expand out the brackets:\n",
    "$$ \\Sigma^{n}_{i=1}[y_i-mx_i-c]^2 = \\Sigma^{n}_{i=1}[y_i-mx_i-c]\\cdot[y_i-mx_i-c] $$\n",
    "$$ = \\Sigma^{n}_{i=1}[y^2+m^2x^2+c^2-2ymx-2yc+2mxc] $$\n",
    "$$ = \\Sigma^{n}_{i=1}y^2+\\Sigma^{n}_{i=1}m^2x^2+\\Sigma^{n}_{i=1}c^2-\\Sigma^{n}_{i=1}2ymx-\\Sigma^{n}_{i=1}2yc+\\Sigma^{n}_{i=1}2mxc $$\n",
    "\n",
    "##### Laws of summation\n",
    "At this point it is important now to note some laws of dealing with summation and sigma notation:</br>\n",
    "\n",
    "$ \\Sigma^{n}_{i=1}c \\equiv c + c + c + ... + c $</br>\n",
    "\n",
    "$ \\therefore \\Sigma^{n}_{i=1}c = n\\cdot c$, where $n$ is the number of elements in the set given by the summation</br>\n",
    "\n",
    "$ \\Sigma^{n}_{i=1} n\\cdot c \\equiv cx_1 + cx_2 + cx_3+...+cx_{i-1}+cx_i$</br>\n",
    "\n",
    "$ \\therefore \\Sigma^{n}_{i=1}x\\cdot c = c\\cdot\\Sigma^{n}_{i=1} x$</br>\n",
    "\n",
    "##### Applying the laws\n",
    "We can now apply these laws to our expansion, yielding:\n",
    "$$ \\Sigma^{n}_{i=1}y^2+m^2\\cdot\\Sigma^{n}_{i=1}x^2+n\\cdot c^2-2m\\cdot\\Sigma^{n}_{i=1}yx-c\\cdot\\Sigma^{n}_{i=1}2y+mc\\cdot\\Sigma^{n}_{i=1}2x $$\n",
    "\n",
    "##### Attaining partial derivatives\n",
    "Now we can try and attain our partial derivatives, when doing this it's important to note that any part of the expression which does not relate with the variable we're differentiating with respect to will be treated as a constant. When differentiating this means we can ignore these parts as they would equate to zero in the final result. Knowing this we can actually simplify our derivative functions as shown below:\n",
    "$$\\frac{\\partial \\bar{d}}{\\partial m} [\\Sigma^{n}_{i=1}y^2+m^2\\cdot\\Sigma^{n}_{i=1}x^2+n\\cdot c^2-2m\\cdot\\Sigma^{n}_{i=1}yx-c\\cdot\\Sigma^{n}_{i=1}2y+mc\\cdot\\Sigma^{n}_{i=1}2x]$$ $$ = \\frac{\\partial \\bar{d}}{\\partial m} [m^2\\cdot\\Sigma^{n}_{i=1}x^2-2m\\cdot\\Sigma^{n}_{i=1}yx+2mc\\cdot\\Sigma^{n}_{i=1}x] $$</br>\n",
    "\n",
    "$$\\frac{\\partial \\bar{d}}{\\partial c} [\\Sigma^{n}_{i=1}y^2+m^2\\cdot\\Sigma^{n}_{i=1}x^2+n\\cdot c^2-2m\\cdot\\Sigma^{n}_{i=1}yx-c\\cdot\\Sigma^{n}_{i=1}2y+mc\\cdot\\Sigma^{n}_{i=1}2x]$$ $$ = \\frac{\\partial \\bar{d}}{\\partial m} [2mc\\cdot\\Sigma^{n}_{i=1}x-2c\\cdot\\Sigma^{n}_{i=1}y+n\\cdot c^2] $$</br>\n",
    "\n",
    "##### Differentiating with respect to c\n",
    "$$ \\frac{\\partial \\bar{d}}{\\partial m} = [2m\\cdot\\Sigma^{n}_{i=1}x-2\\cdot\\Sigma^{n}_{i=1}y+2n\\cdot c] $$</br>\n",
    "##### Differentiating with respect to m\n",
    "$$ \\frac{\\partial \\bar{d}}{\\partial m} = [2m\\cdot\\Sigma^{n}_{i=1}x^2-2\\cdot\\Sigma^{n}_{i=1}yx+2c\\cdot \\Sigma^{n}_{i=1}x] $$</br>\n",
    "\n",
    "Now we should equate the derivatives to zero, as we're looking for a minimum point, we will check whether this point is a minimum, maximum or saddle point later in the process. </br>We can see that we now have a set of two equations, our goal was to find the values of $m$ and $c$ for which the sum of least squares was the lowest. We now have the rate of change of the sum of least squares with respect to both of those variables. We can now solve for $m$ and $c$ seperately.</br>\n",
    "The first, and easiest, step is to divide both equations by 2, since one side of both equations contains a zero, this will simplify our equation a little by removing this constant.\n",
    "\n",
    "$$ 2[m\\cdot\\Sigma^{n}_{i=1}x-\\Sigma^{n}_{i=1}y+n\\cdot c] = 0 $$</br>\n",
    "$$ 2[m\\cdot\\Sigma^{n}_{i=1}x^2-\\Sigma^{n}_{i=1}yx+c\\cdot \\Sigma^{n}_{i=1}x] = 0 $$</br>\n",
    "\n",
    "##### Solving for c\n",
    "$$ m\\cdot\\Sigma^{n}_{i=1}x-\\Sigma^{n}_{i=1}y+n\\cdot c = 0 $$</br> \n",
    "1. $+\\Sigma^{n}_{i=1}y$,$-m\\cdot\\Sigma^{n}_{i=1}x $\n",
    "$$ n\\cdot c = \\Sigma^{n}_{i=1}y-m\\cdot\\Sigma^{n}_{i=1}x $$</br>\n",
    "2. $/n$\n",
    "$$ c = \\frac{\\Sigma^{n}_{i=1}y-m\\cdot\\Sigma^{n}_{i=1}x}{n} $$</br>\n",
    "##### Solving for m\n",
    "$$ m\\cdot\\Sigma^{n}_{i=1}x^2-\\Sigma^{n}_{i=1}yx+c\\cdot \\Sigma^{n}_{i=1}x = 0 $$</br>\n",
    "1. Substitute into c\n",
    "$$ m\\cdot\\Sigma^{n}_{i=1}x^2-\\Sigma^{n}_{i=1}yx+[\\frac{\\Sigma^{n}_{i=1}y-m\\cdot\\Sigma^{n}_{i=1}x}{n}]\\cdot \\Sigma^{n}_{i=1}x = 0 $$</br>\n",
    "2. Rearrange: $+\\Sigma^{n}_{i=1}yx$, $-\\frac{\\Sigma^{n}_{i=1}y\\cdot \\Sigma^{n}_{i=1}x}{n}$, split the quotient\n",
    "$$ m\\cdot\\Sigma^{n}_{i=1}x^2-\\frac{m\\cdot\\Sigma^{n}_{i=1}x\\cdot \\Sigma^{n}_{i=1}x}{n} = \\Sigma^{n}_{i=1}yx -\\frac{\\Sigma^{n}_{i=1}y\\cdot \\Sigma^{n}_{i=1}x}{n} $$</br>\n",
    "3. Factorize, place $\\Sigma^{n}_{i=1}yx$ into quotient via common denominator\n",
    "$$ m[\\Sigma^{n}_{i=1}x^2-\\frac{\\Sigma^{n}_{i=1}x\\cdot \\Sigma^{n}_{i=1}x}{n}] = \\frac{n\\cdot\\Sigma^{n}_{i=1}yx}{n} - \\frac{\\Sigma^{n}_{i=1}y\\cdot \\Sigma^{n}_{i=1}x}{n} $$</br>\n",
    "4. Divide\n",
    "$$ m = \\frac{n\\cdot\\Sigma^{n}_{i=1}yx - \\Sigma^{n}_{i=1}y\\cdot \\Sigma^{n}_{i=1}x}{n}\\cdot \n",
    "\\frac{1}{{\\Sigma^{n}_{i=1}x^2-\\frac{\\Sigma^{n}_{i=1}x\\cdot \\Sigma^{n}_{i=1}x}{n}}} $$</br>\n",
    "5. Simplify                                                                     \n",
    "$$ m = \\frac{n\\cdot\\Sigma^{n}_{i=1}yx - \\Sigma^{n}_{i=1}y\\cdot \\Sigma^{n}_{i=1}x} \n",
    "{n\\cdot\\Sigma^{n}_{i=1}x^2 + [\\Sigma^{n}_{i=1}x]^2}$$</br>\n",
    "##### Solving for c, again\n",
    "$$ c = \\frac{\\Sigma^{n}_{i=1}y - \\left[\\frac{n\\cdot\\Sigma^{n}_{i=1}yx - \\Sigma^{n}_{i=1}y\\cdot \\Sigma^{n}_{i=1}x}{n\\cdot\\Sigma^{n}_{i=1}x^2 - \\left[\\Sigma^{n}_{i=1}x\\right]^2}\\right]\\cdot\\Sigma^{n}_{i=1}x}{n}$$\n",
    "1. Simplify\n",
    "$$ c = \\frac{\\Sigma^{n}_{i=1}y\\cdot\\left[n\\cdot\\Sigma^{n}_{i=1}x^2 - \\left[\\Sigma^{n}_{i=1}x\\right]^2\\right] - \\left[n\\cdot\\Sigma^{n}_{i=1}yx - \\Sigma^{n}_{i=1}y\\cdot \\Sigma^{n}_{i=1}x\\right]\\cdot\\Sigma^{n}_{i=1}x}{n\\cdot\\left[n\\cdot\\Sigma^{n}_{i=1}x^2 - \\left[\\Sigma^{n}_{i=1}x\\right]^2\\right]}$$\n",
    "2. Expand, rearrange\n",
    "$$ c = \\frac{n\\cdot\\Sigma^{n}_{i=1}y\\cdot\\Sigma^{n}_{i=1}x^2 - \\Sigma^{n}_{i=1}y\\cdot\\left[\\Sigma^{n}_{i=1}x\\right]^2 - n\\cdot\\Sigma^{n}_{i=1}yx\\cdot\\Sigma^{n}_{i=1}x + \\Sigma^{n}_{i=1}y\\cdot\\left[\\Sigma^{n}_{i=1}x\\right]^2}{n\\cdot\\left[n\\cdot\\Sigma^{n}_{i=1}x^2 - \\left[\\Sigma^{n}_{i=1}x\\right]^2\\right]}$$\n",
    "3. Simplify\n",
    "$$ c = \\frac{n\\cdot\\Sigma^{n}_{i=1}y\\cdot\\Sigma^{n}_{i=1}x^2 - n\\cdot\\Sigma^{n}_{i=1}yx\\cdot\\Sigma^{n}_{i=1}x}{n\\cdot\\left[n\\cdot\\Sigma^{n}_{i=1}x^2 - \\left[\\Sigma^{n}_{i=1}x\\right]^2\\right]}$$\n",
    "4. Factor $n$ out of the numerator\n",
    "$$ c = \\frac{\\Sigma^{n}_{i=1}y\\cdot\\Sigma^{n}_{i=1}x^2 - \\Sigma^{n}_{i=1}yx\\cdot\\Sigma^{n}_{i=1}x}{n\\cdot\\Sigma^{n}_{i=1}x^2 - \\left[\\Sigma^{n}_{i=1}x\\right]^2}$$"
   ]
  },
  {
   "cell_type": "code",
   "execution_count": null,
   "id": "1bffe066-891a-490a-863b-03eff699ef86",
   "metadata": {},
   "outputs": [],
   "source": []
  }
 ],
 "metadata": {
  "kernelspec": {
   "display_name": "Python [conda env:base] *",
   "language": "python",
   "name": "conda-base-py"
  },
  "language_info": {
   "codemirror_mode": {
    "name": "ipython",
    "version": 3
   },
   "file_extension": ".py",
   "mimetype": "text/x-python",
   "name": "python",
   "nbconvert_exporter": "python",
   "pygments_lexer": "ipython3",
   "version": "3.12.7"
  }
 },
 "nbformat": 4,
 "nbformat_minor": 5
}
