{
 "cells": [
  {
   "cell_type": "markdown",
   "id": "c8cdc342-12c5-4ee9-b8d5-1f3a7360d2db",
   "metadata": {},
   "source": [
    "# Using arrays in Numpy\n",
    "Numpy allows us to use efficient and fast arrays, matrices and apply mathematical functions such as sorting, fourier transforms and linear algebra upon them.\n",
    "\n",
    "The first step is to import Numpy into our file:"
   ]
  },
  {
   "cell_type": "code",
   "execution_count": 3,
   "id": "31eb7b6b-e56c-4d2c-8f8e-21a26f54ffd1",
   "metadata": {},
   "outputs": [],
   "source": [
    "import numpy as np"
   ]
  },
  {
   "cell_type": "markdown",
   "id": "98f97d9c-e434-45db-897d-94b3241d419b",
   "metadata": {},
   "source": [
    "### Defining arrays, and datatypes:\n",
    "To define an array using Numpy, we will need to create a variable, let's call it 'array1' using numpy.array().</br>\n",
    "\n",
    "We must also assign the values from declaration, and we can specify the data type using the argument dtype = 'a', where a is our datatype. In the example below, the value 'i' is used to specify the integer datatype:"
   ]
  },
  {
   "cell_type": "code",
   "execution_count": 5,
   "id": "798a7b93-94fc-4e9f-9cbc-5b9fe0b48b5f",
   "metadata": {},
   "outputs": [],
   "source": [
    "import numpy as np\n",
    "array1 = np.array([0,1,2,3,4], dtype='i')"
   ]
  },
  {
   "cell_type": "markdown",
   "id": "aba396c5-8152-459a-82a4-5e88ed827f89",
   "metadata": {},
   "source": [
    "### Methods and functions using arrays:\n",
    "We can print all of the values in our array by using the print() function.</br>\n",
    "\n",
    "To get the datatype of our array we may use the dtype property, note that using type(array) will simply return 'numpy.ndarray'."
   ]
  },
  {
   "cell_type": "code",
   "execution_count": 7,
   "id": "82bd304f-3506-4747-8475-923398748c84",
   "metadata": {},
   "outputs": [],
   "source": [
    "import numpy as np\n",
    "array1 = np.array([0.1,0.2,0.3,0.4,0.5,0.6,0.7,0.8,0.9,1.0], dtype = 'f')"
   ]
  },
  {
   "cell_type": "code",
   "execution_count": 8,
   "id": "f3dfc868-cd9e-43c1-9d45-9ffeb69ecc1b",
   "metadata": {},
   "outputs": [
    {
     "name": "stdout",
     "output_type": "stream",
     "text": [
      "[0.1 0.2 0.3 0.4 0.5 0.6 0.7 0.8 0.9 1. ]\n"
     ]
    }
   ],
   "source": [
    "print(array1)"
   ]
  },
  {
   "cell_type": "code",
   "execution_count": 9,
   "id": "c0539faa-1672-4506-a51e-1e4747eeb44e",
   "metadata": {},
   "outputs": [
    {
     "data": {
      "text/plain": [
       "dtype('float32')"
      ]
     },
     "execution_count": 9,
     "metadata": {},
     "output_type": "execute_result"
    }
   ],
   "source": [
    "array1.dtype"
   ]
  },
  {
   "cell_type": "code",
   "execution_count": 10,
   "id": "aa6f4f88-3d8e-4cc9-b37d-1262facc7fb6",
   "metadata": {},
   "outputs": [
    {
     "data": {
      "text/plain": [
       "numpy.ndarray"
      ]
     },
     "execution_count": 10,
     "metadata": {},
     "output_type": "execute_result"
    }
   ],
   "source": [
    "type(array1)"
   ]
  },
  {
   "cell_type": "markdown",
   "id": "1eb0471b-a21b-493b-b7d8-b6ffd6ef80be",
   "metadata": {},
   "source": [
    "### Multidimensional arrays\n",
    "When defining an array, we can assign its dimensions by treating it as an array of arrays, up to the number of dimensions we have.</br>\n",
    "\n",
    "Using the ndim property to get the dimensionality of the array, we can then use this to access specific layers of the n-dimensional array.</br>\n",
    "\n",
    "Something important to note is that the dimensionality should be consistent across all the layers of the n-dimensional array."
   ]
  },
  {
   "cell_type": "code",
   "execution_count": 12,
   "id": "a7ff3730-46e9-4a3f-952a-c47c47bac36b",
   "metadata": {},
   "outputs": [],
   "source": [
    "import numpy as np\n",
    "array2d = np.array([[1, 2, 3], [4, 5, 6]])\n",
    "array3d = np.array([[[1, 2, 3],[4, 5, 6, ]],[[7, 8, 9],[10, 11, 12]]])"
   ]
  },
  {
   "cell_type": "code",
   "execution_count": 13,
   "id": "4c9245e4-0c3e-4689-8707-1793e3cda9fe",
   "metadata": {},
   "outputs": [
    {
     "data": {
      "text/plain": [
       "2"
      ]
     },
     "execution_count": 13,
     "metadata": {},
     "output_type": "execute_result"
    }
   ],
   "source": [
    "array2d.ndim"
   ]
  },
  {
   "cell_type": "code",
   "execution_count": 14,
   "id": "5d960912-b52c-431b-a01f-700fd97c588d",
   "metadata": {},
   "outputs": [
    {
     "data": {
      "text/plain": [
       "3"
      ]
     },
     "execution_count": 14,
     "metadata": {},
     "output_type": "execute_result"
    }
   ],
   "source": [
    "array3d.ndim"
   ]
  },
  {
   "cell_type": "code",
   "execution_count": 15,
   "id": "5179fcc9-244e-44eb-a94c-2498c4b8d29e",
   "metadata": {},
   "outputs": [
    {
     "name": "stdout",
     "output_type": "stream",
     "text": [
      "[1 2 3]\n"
     ]
    }
   ],
   "source": [
    "print(array2d[0])"
   ]
  },
  {
   "cell_type": "code",
   "execution_count": 16,
   "id": "6dda1446-da51-4ed6-81f2-65434ecaff3b",
   "metadata": {},
   "outputs": [
    {
     "name": "stdout",
     "output_type": "stream",
     "text": [
      "[10 11 12]\n"
     ]
    }
   ],
   "source": [
    "print(array3d[1, 1])"
   ]
  },
  {
   "cell_type": "code",
   "execution_count": 17,
   "id": "2fce2931-50c0-44a3-a8da-339b85944fef",
   "metadata": {},
   "outputs": [
    {
     "name": "stdout",
     "output_type": "stream",
     "text": [
      "1\n"
     ]
    }
   ],
   "source": [
    "print(array3d[0,0,0])"
   ]
  },
  {
   "cell_type": "code",
   "execution_count": 18,
   "id": "1f5339a1-ea9b-49e1-a98b-6da753cf3041",
   "metadata": {},
   "outputs": [
    {
     "data": {
      "text/plain": [
       "numpy.ndarray"
      ]
     },
     "execution_count": 18,
     "metadata": {},
     "output_type": "execute_result"
    }
   ],
   "source": [
    "type(array2d)"
   ]
  },
  {
   "cell_type": "code",
   "execution_count": 19,
   "id": "9083b0f6-7899-4355-84fe-dac8d24a9e6b",
   "metadata": {},
   "outputs": [
    {
     "data": {
      "text/plain": [
       "dtype('int32')"
      ]
     },
     "execution_count": 19,
     "metadata": {},
     "output_type": "execute_result"
    }
   ],
   "source": [
    "array3d.dtype"
   ]
  },
  {
   "cell_type": "code",
   "execution_count": 20,
   "id": "1f451cc8-1cca-4888-8d99-dcf42e3e5739",
   "metadata": {},
   "outputs": [
    {
     "data": {
      "text/plain": [
       "numpy.int32"
      ]
     },
     "execution_count": 20,
     "metadata": {},
     "output_type": "execute_result"
    }
   ],
   "source": [
    "type(array3d[0,0,0])"
   ]
  },
  {
   "cell_type": "markdown",
   "id": "133a18c7-d2f8-4c7a-9573-82e03d98f63f",
   "metadata": {},
   "source": [
    "#### Note:\n",
    "Something interesting to note, is that an array with an array defined inside, no matter the number of items within the array, will be a 1-dimensional array.</br>\n",
    "\n",
    "An array, however, defined with a single value within it, will be a zero-dimensional array."
   ]
  },
  {
   "cell_type": "code",
   "execution_count": 22,
   "id": "28d13de9-f83b-40a6-a928-a310dc02cbc0",
   "metadata": {},
   "outputs": [],
   "source": [
    "import numpy as np\n",
    "array1d = np.array([1])\n",
    "array0d = np.array(1)\n",
    "arrayEmpty = np.array([])"
   ]
  },
  {
   "cell_type": "code",
   "execution_count": 23,
   "id": "beb5aa42-81aa-43ca-a11d-cf79dfeb9daa",
   "metadata": {},
   "outputs": [
    {
     "data": {
      "text/plain": [
       "1"
      ]
     },
     "execution_count": 23,
     "metadata": {},
     "output_type": "execute_result"
    }
   ],
   "source": [
    "array1d.ndim"
   ]
  },
  {
   "cell_type": "code",
   "execution_count": 24,
   "id": "ed205d65-3524-4190-b23e-f0f9ae939a90",
   "metadata": {},
   "outputs": [
    {
     "data": {
      "text/plain": [
       "0"
      ]
     },
     "execution_count": 24,
     "metadata": {},
     "output_type": "execute_result"
    }
   ],
   "source": [
    "array0d.ndim"
   ]
  },
  {
   "cell_type": "code",
   "execution_count": 25,
   "id": "b35c8cd9-713a-47c2-803b-2f295b724364",
   "metadata": {},
   "outputs": [
    {
     "data": {
      "text/plain": [
       "1"
      ]
     },
     "execution_count": 25,
     "metadata": {},
     "output_type": "execute_result"
    }
   ],
   "source": [
    "arrayEmpty.ndim"
   ]
  },
  {
   "cell_type": "markdown",
   "id": "753a02a5-bdfe-45bc-be72-588a0a5fe9ce",
   "metadata": {},
   "source": [
    "## Additional functions and properties\n",
    "We can utilize 'size' to get the total number of elements in the array, and 'nbytes' to get the number of bytes the structure is taking up in memory.</br>\n",
    "\n",
    "If we want to see the 'shape' of the array, that is, how many elements per layer there are in the array, we can use the 'shape' property.</br>\n",
    "\n",
    "For example, a 3-dimensional array, with two 2-dimensional arrays inside, which each contain two arrays with 3 elements each will have a 'shape' of: 2, 2, 3.</br>\n",
    "\n",
    "We can also specify the specific dimension whose shape we wish to probe by using shape[dimension]."
   ]
  },
  {
   "cell_type": "code",
   "execution_count": 27,
   "id": "efff34bd-a34b-417c-b48a-d6415aab703f",
   "metadata": {},
   "outputs": [],
   "source": [
    "import numpy as np\n",
    "array3d = np.array([[[1, 2, 3],[4, 5, 6, ]],[[7, 8, 9],[10, 11, 12]]])"
   ]
  },
  {
   "cell_type": "code",
   "execution_count": 28,
   "id": "314cc9af-c587-4985-b766-87027efdcd5a",
   "metadata": {},
   "outputs": [
    {
     "data": {
      "text/plain": [
       "12"
      ]
     },
     "execution_count": 28,
     "metadata": {},
     "output_type": "execute_result"
    }
   ],
   "source": [
    "array3d.size"
   ]
  },
  {
   "cell_type": "code",
   "execution_count": 29,
   "id": "04767810-196e-448c-829d-d4bf9779c93b",
   "metadata": {},
   "outputs": [
    {
     "data": {
      "text/plain": [
       "48"
      ]
     },
     "execution_count": 29,
     "metadata": {},
     "output_type": "execute_result"
    }
   ],
   "source": [
    "array3d.nbytes"
   ]
  },
  {
   "cell_type": "code",
   "execution_count": 30,
   "id": "d8093453-ae40-44b6-803b-1dd25f6f326b",
   "metadata": {},
   "outputs": [
    {
     "data": {
      "text/plain": [
       "(2, 2, 3)"
      ]
     },
     "execution_count": 30,
     "metadata": {},
     "output_type": "execute_result"
    }
   ],
   "source": [
    "array3d.shape"
   ]
  },
  {
   "cell_type": "code",
   "execution_count": 31,
   "id": "5761d8b5-d367-492b-a057-f63dd43c93df",
   "metadata": {},
   "outputs": [
    {
     "data": {
      "text/plain": [
       "3"
      ]
     },
     "execution_count": 31,
     "metadata": {},
     "output_type": "execute_result"
    }
   ],
   "source": [
    "array3d.shape[2]"
   ]
  },
  {
   "cell_type": "markdown",
   "id": "536e3261-9309-48b3-b206-66db592c168f",
   "metadata": {},
   "source": [
    "### Array Definition methods and function\n",
    "Numpy provides many methods to create specific types of arrays quickly:\n",
    "1. numpy.zeros(n) → will create an array of n-size where each value is a zero.</br>\n",
    "\n",
    "2. numpy.arange(n, m, i) → will create an array of [m-n]-size where each value inside increments by i (default: 1) from n (default: 0) to [m-1].</br>\n",
    "\n",
    "3. numpy.random.permutation(array) → will randomly shuffle the elements in the given array. Uses the numpy.random package.</br>\n",
    "\n",
    "4. numpy.reshape(a, b, c..n) → will partition the array into a 'shape' which fits the parameters passed into the function, e.g: turning a one-dimensional array into a two-dimensional array. It is important to note that the original array must be subdivisible into the new parameters.</br>\n",
    "\n",
    "5. numpy.random.rand(n) → will create an n-sized array with random number values ranging from 0-1. It is important to note that you may also pass in a 'shape' as an argument for this function.</br>\n",
    "\n",
    "7. numpy.random.randn(n) → will create an n-sized array with special random number values, these values are generated using 'normal' or 'gausian' random numbers, whose distribution form a bell-shape. It is important to note that you may also pass in a 'shape' as an argument for this function."
   ]
  },
  {
   "cell_type": "markdown",
   "id": "cb8246f6-1be6-481a-aaba-297aa3cf7dc6",
   "metadata": {},
   "source": [
    "#### Zeros"
   ]
  },
  {
   "cell_type": "code",
   "execution_count": 34,
   "id": "2c524a4c-f6ef-4e16-81aa-8cfc40ffc0a4",
   "metadata": {},
   "outputs": [],
   "source": [
    "import numpy as np\n",
    "array1 = np.zeros(10)"
   ]
  },
  {
   "cell_type": "code",
   "execution_count": 35,
   "id": "bdb2f254-5d26-4e9a-8dbd-933a73e5d3ba",
   "metadata": {},
   "outputs": [
    {
     "name": "stdout",
     "output_type": "stream",
     "text": [
      "[0. 0. 0. 0. 0. 0. 0. 0. 0. 0.]\n"
     ]
    }
   ],
   "source": [
    "print(array1)"
   ]
  },
  {
   "cell_type": "markdown",
   "id": "4975d23d-42c2-4eea-ae6b-edff1805f382",
   "metadata": {},
   "source": [
    "#### Arange"
   ]
  },
  {
   "cell_type": "code",
   "execution_count": 37,
   "id": "0b843194-fd8f-4ad2-8c73-ffb6375709c5",
   "metadata": {},
   "outputs": [],
   "source": [
    "import numpy as np\n",
    "array1 = np.arange(10)"
   ]
  },
  {
   "cell_type": "code",
   "execution_count": 38,
   "id": "bff1d216-5b7c-4e6b-8397-13d54f08bf0d",
   "metadata": {},
   "outputs": [
    {
     "name": "stdout",
     "output_type": "stream",
     "text": [
      "[0 1 2 3 4 5 6 7 8 9]\n"
     ]
    }
   ],
   "source": [
    "print(array1)"
   ]
  },
  {
   "cell_type": "code",
   "execution_count": 39,
   "id": "0f596c2f-f52e-4c15-a093-7c975c41a21f",
   "metadata": {},
   "outputs": [
    {
     "name": "stdout",
     "output_type": "stream",
     "text": [
      "[0 3 6]\n"
     ]
    }
   ],
   "source": [
    "array2 = np.arange(0,7,3)\n",
    "print(array2)"
   ]
  },
  {
   "cell_type": "code",
   "execution_count": 40,
   "id": "f0c5bb51-aa9e-4cbb-bf74-8c10ea6a3244",
   "metadata": {},
   "outputs": [
    {
     "name": "stdout",
     "output_type": "stream",
     "text": [
      "[0, 3, 6]\n"
     ]
    }
   ],
   "source": [
    "#Similar result to the following function, which uses range(), an iterable [object which returns next item in range], to produce a list.\n",
    "print(list(range(0, 7, 3)))"
   ]
  },
  {
   "cell_type": "markdown",
   "id": "206b6891-e6bb-4b90-b182-abb8406292a9",
   "metadata": {},
   "source": [
    "#### Random.Permutation"
   ]
  },
  {
   "cell_type": "code",
   "execution_count": 42,
   "id": "27033873-f77c-4c67-92cd-dec0ad7e4266",
   "metadata": {},
   "outputs": [],
   "source": [
    "import numpy as np\n",
    "array1 = np.arange(10)"
   ]
  },
  {
   "cell_type": "code",
   "execution_count": 43,
   "id": "c6ea2e09-3496-4ad7-9ed3-b90557db8d2e",
   "metadata": {},
   "outputs": [
    {
     "name": "stdout",
     "output_type": "stream",
     "text": [
      "[0 1 2 3 4 5 6 7 8 9]\n"
     ]
    }
   ],
   "source": [
    "print(array1)"
   ]
  },
  {
   "cell_type": "code",
   "execution_count": 44,
   "id": "cf1c0be7-a656-4ba7-9c05-70fe02c910f4",
   "metadata": {},
   "outputs": [
    {
     "name": "stdout",
     "output_type": "stream",
     "text": [
      "[9 3 4 1 5 6 2 0 7 8]\n"
     ]
    }
   ],
   "source": [
    "array2 = np.random.permutation(array1)\n",
    "print(array2)"
   ]
  },
  {
   "cell_type": "markdown",
   "id": "3321e1b8-ddf8-41d3-bf5d-37781a879ac5",
   "metadata": {},
   "source": [
    "#### Reshape"
   ]
  },
  {
   "cell_type": "code",
   "execution_count": 46,
   "id": "133afe45-facb-4724-87dc-977ff816ec34",
   "metadata": {},
   "outputs": [],
   "source": [
    "import numpy as np\n",
    "array1 = np.arange(1,21)"
   ]
  },
  {
   "cell_type": "code",
   "execution_count": 47,
   "id": "a425f12b-45f4-449a-b768-a78c6a63417c",
   "metadata": {},
   "outputs": [
    {
     "name": "stdout",
     "output_type": "stream",
     "text": [
      "[ 1  2  3  4  5  6  7  8  9 10 11 12 13 14 15 16 17 18 19 20]\n"
     ]
    }
   ],
   "source": [
    "print(array1)"
   ]
  },
  {
   "cell_type": "code",
   "execution_count": 48,
   "id": "05dd2f86-c1b7-4655-9d36-47de75f46417",
   "metadata": {},
   "outputs": [],
   "source": [
    "array2 = array1.reshape(4,5)"
   ]
  },
  {
   "cell_type": "code",
   "execution_count": 49,
   "id": "a67232fa-3f01-41ad-9117-f7f87f1a9e2e",
   "metadata": {},
   "outputs": [
    {
     "data": {
      "text/plain": [
       "2"
      ]
     },
     "execution_count": 49,
     "metadata": {},
     "output_type": "execute_result"
    }
   ],
   "source": [
    "array2.ndim"
   ]
  },
  {
   "cell_type": "code",
   "execution_count": 50,
   "id": "2c2732bf-e685-4f46-8bd0-04504cf2dfd4",
   "metadata": {},
   "outputs": [
    {
     "data": {
      "text/plain": [
       "(4, 5)"
      ]
     },
     "execution_count": 50,
     "metadata": {},
     "output_type": "execute_result"
    }
   ],
   "source": [
    "array2.shape"
   ]
  },
  {
   "cell_type": "code",
   "execution_count": 51,
   "id": "bde9fdda-34b1-4d2f-9141-3d37ea517f22",
   "metadata": {},
   "outputs": [
    {
     "name": "stdout",
     "output_type": "stream",
     "text": [
      "[[ 1  2  3  4  5]\n",
      " [ 6  7  8  9 10]\n",
      " [11 12 13 14 15]\n",
      " [16 17 18 19 20]]\n"
     ]
    }
   ],
   "source": [
    "print(array2)"
   ]
  },
  {
   "cell_type": "code",
   "execution_count": 52,
   "id": "444fc5cb-6fda-4466-815a-baef54923e4b",
   "metadata": {},
   "outputs": [
    {
     "name": "stdout",
     "output_type": "stream",
     "text": [
      "[[ 0  1  2  3  4  5  6  7  8  9 10 11 12 13 14 15 16 17 18 19 20 21 22 23\n",
      "  24]\n",
      " [25 26 27 28 29 30 31 32 33 34 35 36 37 38 39 40 41 42 43 44 45 46 47 48\n",
      "  49]\n",
      " [50 51 52 53 54 55 56 57 58 59 60 61 62 63 64 65 66 67 68 69 70 71 72 73\n",
      "  74]\n",
      " [75 76 77 78 79 80 81 82 83 84 85 86 87 88 89 90 91 92 93 94 95 96 97 98\n",
      "  99]]\n"
     ]
    }
   ],
   "source": [
    "print(np.arange(100).reshape(4,25))"
   ]
  },
  {
   "cell_type": "markdown",
   "id": "c9a476a2-4a21-45ed-a2e2-375b916f485f",
   "metadata": {},
   "source": [
    "#### Random.rand"
   ]
  },
  {
   "cell_type": "code",
   "execution_count": 54,
   "id": "fbc656f2-b99c-473e-aaca-979a0ceba5fa",
   "metadata": {},
   "outputs": [],
   "source": [
    "import numpy as np\n",
    "array1 = np.random.rand(10)"
   ]
  },
  {
   "cell_type": "code",
   "execution_count": 55,
   "id": "765b4c0b-dffd-4991-b55b-0517b21225f0",
   "metadata": {},
   "outputs": [
    {
     "name": "stdout",
     "output_type": "stream",
     "text": [
      "[0.70431501 0.02496724 0.84804257 0.72298876 0.68605419 0.36587887\n",
      " 0.24140645 0.23449542 0.32035342 0.52933229]\n"
     ]
    }
   ],
   "source": [
    "print(array1)"
   ]
  },
  {
   "cell_type": "code",
   "execution_count": 56,
   "id": "3b9acc85-6133-4c16-893a-423ecfadb295",
   "metadata": {},
   "outputs": [
    {
     "name": "stdout",
     "output_type": "stream",
     "text": [
      "[[0.80434276 0.85481911 0.24402076 0.35951931 0.17944249]\n",
      " [0.42323    0.70890947 0.55035595 0.96709062 0.26241384]]\n"
     ]
    }
   ],
   "source": [
    "array2 = np.random.rand(2, 5)\n",
    "print(array2)"
   ]
  },
  {
   "cell_type": "code",
   "execution_count": 57,
   "id": "5f61a1d3-331c-4330-8bf5-89733cb1fa64",
   "metadata": {},
   "outputs": [
    {
     "data": {
      "text/plain": [
       "(array([13.,  6.,  9.,  9., 13., 12., 12.,  6.,  9.,  8., 10., 12.,  8.,\n",
       "        11., 10., 10.,  5., 12., 11., 13.,  8., 17.,  6.,  9.,  6.,  5.,\n",
       "         6., 11.,  9.,  9., 14., 11., 11., 13., 10., 10., 17.,  6., 12.,\n",
       "        12., 10., 12., 14.,  7., 12.,  9., 13.,  9., 10., 10., 10., 14.,\n",
       "        13., 13.,  7., 16.,  4.,  5.,  7., 10.,  5., 13., 10., 13.,  4.,\n",
       "        18., 16.,  9.,  9.,  7., 10.,  7.,  9., 12., 10., 14., 11., 13.,\n",
       "         8.,  6.,  9.,  4., 11., 12., 10., 12., 17., 10., 10.,  4., 10.,\n",
       "         7., 10., 10., 10., 11.,  9., 11.,  9.,  4.]),\n",
       " array([0.00107562, 0.0110645 , 0.02105337, 0.03104224, 0.04103112,\n",
       "        0.05101999, 0.06100886, 0.07099774, 0.08098661, 0.09097548,\n",
       "        0.10096436, 0.11095323, 0.1209421 , 0.13093098, 0.14091985,\n",
       "        0.15090872, 0.1608976 , 0.17088647, 0.18087534, 0.19086422,\n",
       "        0.20085309, 0.21084196, 0.22083084, 0.23081971, 0.24080858,\n",
       "        0.25079746, 0.26078633, 0.27077521, 0.28076408, 0.29075295,\n",
       "        0.30074183, 0.3107307 , 0.32071957, 0.33070845, 0.34069732,\n",
       "        0.35068619, 0.36067507, 0.37066394, 0.38065281, 0.39064169,\n",
       "        0.40063056, 0.41061943, 0.42060831, 0.43059718, 0.44058605,\n",
       "        0.45057493, 0.4605638 , 0.47055267, 0.48054155, 0.49053042,\n",
       "        0.5005193 , 0.51050817, 0.52049704, 0.53048592, 0.54047479,\n",
       "        0.55046366, 0.56045254, 0.57044141, 0.58043028, 0.59041916,\n",
       "        0.60040803, 0.6103969 , 0.62038578, 0.63037465, 0.64036352,\n",
       "        0.6503524 , 0.66034127, 0.67033014, 0.68031902, 0.69030789,\n",
       "        0.70029676, 0.71028564, 0.72027451, 0.73026338, 0.74025226,\n",
       "        0.75024113, 0.76023001, 0.77021888, 0.78020775, 0.79019663,\n",
       "        0.8001855 , 0.81017437, 0.82016325, 0.83015212, 0.84014099,\n",
       "        0.85012987, 0.86011874, 0.87010761, 0.88009649, 0.89008536,\n",
       "        0.90007423, 0.91006311, 0.92005198, 0.93004085, 0.94002973,\n",
       "        0.9500186 , 0.96000747, 0.96999635, 0.97998522, 0.9899741 ,\n",
       "        0.99996297]),\n",
       " <BarContainer object of 100 artists>)"
      ]
     },
     "execution_count": 57,
     "metadata": {},
     "output_type": "execute_result"
    },
    {
     "data": {
      "image/png": "[encoded data removed]",
      "text/plain": [
       "<Figure size 640x480 with 1 Axes>"
      ]
     },
     "metadata": {},
     "output_type": "display_data"
    }
   ],
   "source": [
    "import matplotlib.pyplot as plt\n",
    "plt.hist(np.random.rand(1000), bins=100)"
   ]
  },
  {
   "cell_type": "markdown",
   "id": "bdb5cfc7-1163-46f7-919c-03fcc67208d9",
   "metadata": {},
   "source": [
    "#### Random.Randn"
   ]
  },
  {
   "cell_type": "code",
   "execution_count": 59,
   "id": "860897a7-b459-441f-9276-7b94fda7dd9b",
   "metadata": {},
   "outputs": [],
   "source": [
    "import numpy as np\n",
    "array1 = np.random.randn(10)"
   ]
  },
  {
   "cell_type": "code",
   "execution_count": 60,
   "id": "890a44c3-bd1b-4dee-b0c5-ead612385b1d",
   "metadata": {},
   "outputs": [
    {
     "name": "stdout",
     "output_type": "stream",
     "text": [
      "[ 0.88279384  0.19914458 -0.08280085  0.54979901  0.27343058 -1.18734151\n",
      "  0.60967157  0.41908635 -3.16942085  0.61254633]\n"
     ]
    }
   ],
   "source": [
    "print(array1)"
   ]
  },
  {
   "cell_type": "code",
   "execution_count": 61,
   "id": "aa963f9f-df29-4a00-b3f8-ce12a5b77ae1",
   "metadata": {},
   "outputs": [
    {
     "name": "stdout",
     "output_type": "stream",
     "text": [
      "[[ 0.86425039  1.39853572 -0.33949451 -0.31071125 -0.13989929]\n",
      " [-1.14658055 -0.61737874  0.74511035  1.00306062 -0.86421864]]\n"
     ]
    }
   ],
   "source": [
    "array2 = np.random.randn(2, 5)\n",
    "print(array2)"
   ]
  },
  {
   "cell_type": "code",
   "execution_count": 62,
   "id": "01d2cf18-eed4-419f-9fdb-4177a3fea38b",
   "metadata": {},
   "outputs": [
    {
     "data": {
      "text/plain": [
       "(array([ 1.,  0.,  0.,  0.,  1.,  0.,  0.,  0.,  0.,  0.,  1.,  0.,  0.,\n",
       "         1.,  0.,  1.,  2.,  3.,  0.,  1.,  3.,  0.,  6.,  5.,  6.,  3.,\n",
       "         3., 14.,  6.,  2.,  8., 11., 11.,  8., 13., 10., 15., 13., 12.,\n",
       "        15., 17., 26., 19., 22., 24., 24., 23., 27., 25., 26., 35., 22.,\n",
       "        33., 37., 28., 26., 25., 18., 17., 24., 15., 26., 21., 16., 20.,\n",
       "        14., 15., 13., 13., 17., 12., 22., 13., 11., 13.,  8.,  5.,  3.,\n",
       "         7., 10.,  6.,  6.,  7.,  5.,  3.,  6.,  1.,  2.,  1.,  5.,  2.,\n",
       "         0.,  2.,  0.,  3.,  1.,  1.,  1.,  0.,  1.]),\n",
       " array([-3.43357866, -3.37031288, -3.3070471 , -3.24378131, -3.18051553,\n",
       "        -3.11724974, -3.05398396, -2.99071817, -2.92745239, -2.8641866 ,\n",
       "        -2.80092082, -2.73765503, -2.67438925, -2.61112347, -2.54785768,\n",
       "        -2.4845919 , -2.42132611, -2.35806033, -2.29479454, -2.23152876,\n",
       "        -2.16826297, -2.10499719, -2.04173141, -1.97846562, -1.91519984,\n",
       "        -1.85193405, -1.78866827, -1.72540248, -1.6621367 , -1.59887091,\n",
       "        -1.53560513, -1.47233935, -1.40907356, -1.34580778, -1.28254199,\n",
       "        -1.21927621, -1.15601042, -1.09274464, -1.02947885, -0.96621307,\n",
       "        -0.90294729, -0.8396815 , -0.77641572, -0.71314993, -0.64988415,\n",
       "        -0.58661836, -0.52335258, -0.46008679, -0.39682101, -0.33355523,\n",
       "        -0.27028944, -0.20702366, -0.14375787, -0.08049209, -0.0172263 ,\n",
       "         0.04603948,  0.10930527,  0.17257105,  0.23583683,  0.29910262,\n",
       "         0.3623684 ,  0.42563419,  0.48889997,  0.55216576,  0.61543154,\n",
       "         0.67869733,  0.74196311,  0.80522889,  0.86849468,  0.93176046,\n",
       "         0.99502625,  1.05829203,  1.12155782,  1.1848236 ,  1.24808939,\n",
       "         1.31135517,  1.37462095,  1.43788674,  1.50115252,  1.56441831,\n",
       "         1.62768409,  1.69094988,  1.75421566,  1.81748145,  1.88074723,\n",
       "         1.94401301,  2.0072788 ,  2.07054458,  2.13381037,  2.19707615,\n",
       "         2.26034194,  2.32360772,  2.38687351,  2.45013929,  2.51340507,\n",
       "         2.57667086,  2.63993664,  2.70320243,  2.76646821,  2.829734  ,\n",
       "         2.89299978]),\n",
       " <BarContainer object of 100 artists>)"
      ]
     },
     "execution_count": 62,
     "metadata": {},
     "output_type": "execute_result"
    },
    {
     "data": {
      "image/png": "[encoded data removed]",
      "text/plain": [
       "<Figure size 640x480 with 1 Axes>"
      ]
     },
     "metadata": {},
     "output_type": "display_data"
    }
   ],
   "source": [
    "import matplotlib.pyplot as plt\n",
    "plt.hist(np.random.randn(1000), bins=100)"
   ]
  },
  {
   "cell_type": "markdown",
   "id": "11770980-18c5-4d86-a2ab-86333197e067",
   "metadata": {},
   "source": [
    "### Array slicing\n",
    "* array[n:m] → every element from n up to, but not including m\n",
    "* array[:m] → every element up to, and not including, m\n",
    "* array[n:] → every element from n till the end of the array\n",
    "* array[::-1] → every element from the end of the array to the beginning (reversed)\n",
    "* array[::n] → every n-th element in the array from beginning to end"
   ]
  },
  {
   "cell_type": "markdown",
   "id": "73451e57-6065-427d-a042-3785f92c849f",
   "metadata": {},
   "source": [
    "#### Descrepency\n",
    "In Numpy, array slicing provides a reference to the memory of the array by default (viewing), to stop this behaviour from happening, we can call the 'copy' function.</br>\n",
    "\n",
    "Some specific indexing operations are actually copy operations and don't require us to use the 'copy' function. An example of this is fetching specific indicies of the array using the syntax array[a,b,c..,z]"
   ]
  },
  {
   "cell_type": "code",
   "execution_count": 175,
   "id": "e88d953a-8946-4177-b348-86c8302ec646",
   "metadata": {},
   "outputs": [],
   "source": [
    "import numpy as np\n",
    "array1 = np.arange(10)\n",
    "array2 = array1[3:8]"
   ]
  },
  {
   "cell_type": "code",
   "execution_count": 177,
   "id": "6835c5f0-7b77-4c07-aabe-99bab0f48efb",
   "metadata": {},
   "outputs": [
    {
     "name": "stdout",
     "output_type": "stream",
     "text": [
      "[3 4 5 6 7]\n"
     ]
    }
   ],
   "source": [
    "print(array2)"
   ]
  },
  {
   "cell_type": "code",
   "execution_count": 179,
   "id": "bc0a91cb-7db4-42bb-b585-74b8b58164b6",
   "metadata": {},
   "outputs": [
    {
     "name": "stdout",
     "output_type": "stream",
     "text": [
      "[17  4  5  6  7]\n"
     ]
    }
   ],
   "source": [
    "array2[0] = 17\n",
    "print(array2)"
   ]
  },
  {
   "cell_type": "code",
   "execution_count": 181,
   "id": "70cf2baa-43b6-458d-8de0-57d843fc8897",
   "metadata": {},
   "outputs": [
    {
     "name": "stdout",
     "output_type": "stream",
     "text": [
      "[ 0  1  2 17  4  5  6  7  8  9]\n"
     ]
    }
   ],
   "source": [
    "print(array1)"
   ]
  },
  {
   "cell_type": "code",
   "execution_count": 183,
   "id": "3df883dc-4fd4-4eca-b7f2-0bebe56c9d18",
   "metadata": {},
   "outputs": [
    {
     "name": "stdout",
     "output_type": "stream",
     "text": [
      "[17  4  5  6  7]\n"
     ]
    }
   ],
   "source": [
    "array3 = array1[3:8].copy()\n",
    "print(array3)"
   ]
  },
  {
   "cell_type": "code",
   "execution_count": 185,
   "id": "7e29d5d6-fe76-4efa-95b0-985819e80a00",
   "metadata": {},
   "outputs": [
    {
     "name": "stdout",
     "output_type": "stream",
     "text": [
      "[3 4 5 6 7]\n"
     ]
    }
   ],
   "source": [
    "array3[0] = 3\n",
    "print(array3)"
   ]
  },
  {
   "cell_type": "code",
   "execution_count": 187,
   "id": "05d20cd9-d575-4cb6-bf48-c4e2491c7b00",
   "metadata": {},
   "outputs": [
    {
     "name": "stdout",
     "output_type": "stream",
     "text": [
      "[ 0  1  2 17  4  5  6  7  8  9]\n"
     ]
    }
   ],
   "source": [
    "print(array1)"
   ]
  },
  {
   "cell_type": "markdown",
   "id": "08f1b43b-6d88-4672-8600-1f83c2f14c32",
   "metadata": {},
   "source": [
    "#### Slicing"
   ]
  },
  {
   "cell_type": "code",
   "execution_count": 241,
   "id": "467e3317-1e64-4939-8574-909c00d055d2",
   "metadata": {},
   "outputs": [],
   "source": [
    "import numpy as np\n",
    "array1 = np.arange(1,11)\n",
    "array2 = np.arange(11,21)\n",
    "array3 = np.arange(21, 31)"
   ]
  },
  {
   "cell_type": "code",
   "execution_count": 343,
   "id": "9f944862-d355-45f5-b2f3-497dfb8ef570",
   "metadata": {},
   "outputs": [
    {
     "data": {
      "text/plain": [
       "array([0, 2, 4])"
      ]
     },
     "execution_count": 343,
     "metadata": {},
     "output_type": "execute_result"
    }
   ],
   "source": [
    "array1[[0,2,4]]"
   ]
  },
  {
   "cell_type": "code",
   "execution_count": 345,
   "id": "19da3030-44bf-4a2a-8497-ab25f0ca9089",
   "metadata": {},
   "outputs": [
    {
     "data": {
      "text/plain": [
       "array([0, 2, 4, 6, 8])"
      ]
     },
     "execution_count": 345,
     "metadata": {},
     "output_type": "execute_result"
    }
   ],
   "source": [
    "array1[::2]"
   ]
  },
  {
   "cell_type": "code",
   "execution_count": 347,
   "id": "49c3df6b-cea4-4527-9dc3-260f6c4293d3",
   "metadata": {},
   "outputs": [
    {
     "data": {
      "text/plain": [
       "array([0, 3, 6, 9])"
      ]
     },
     "execution_count": 347,
     "metadata": {},
     "output_type": "execute_result"
    }
   ],
   "source": [
    "array1[::3]"
   ]
  },
  {
   "cell_type": "code",
   "execution_count": 349,
   "id": "8e4de1b7-d6cd-4ae7-a326-9e90c1f2a8c0",
   "metadata": {},
   "outputs": [
    {
     "data": {
      "text/plain": [
       "array([[[11, 12, 19, 10, 14],\n",
       "        [13, 16, 15, 17, 18]],\n",
       "\n",
       "       [[ 1,  4,  0,  2,  3],\n",
       "        [ 6,  9,  8,  5,  7]]])"
      ]
     },
     "execution_count": 349,
     "metadata": {},
     "output_type": "execute_result"
    }
   ],
   "source": [
    "array2[::-1]"
   ]
  },
  {
   "cell_type": "code",
   "execution_count": 351,
   "id": "79deaef1-5859-4366-b852-7d1d3244bea0",
   "metadata": {},
   "outputs": [
    {
     "data": {
      "text/plain": [
       "array([[[60, 86, 61, 39, 50, 58,  7, 16, 27,  9],\n",
       "        [44, 68,  1, 88, 84, 82, 89, 33, 36, 26],\n",
       "        [29, 56, 17, 10, 48, 45, 55, 32, 31, 46]],\n",
       "\n",
       "       [[62, 52, 85, 79, 73, 67, 43, 81, 49, 14],\n",
       "        [78, 65, 25, 24, 35, 37, 19, 15, 53, 87],\n",
       "        [ 6, 75, 57, 76, 30, 63,  5, 69, 41, 66]],\n",
       "\n",
       "       [[23, 74, 21, 83, 11, 28,  4, 54,  0, 13],\n",
       "        [59, 20,  3, 38, 77, 80,  8, 40, 42, 51],\n",
       "        [70, 34, 72, 12, 22, 47, 18, 64, 71,  2]]])"
      ]
     },
     "execution_count": 351,
     "metadata": {},
     "output_type": "execute_result"
    }
   ],
   "source": [
    "array3[:3]"
   ]
  },
  {
   "cell_type": "code",
   "execution_count": 353,
   "id": "32516226-b53a-47d8-b344-f65443b59be7",
   "metadata": {},
   "outputs": [
    {
     "data": {
      "text/plain": [
       "array([], shape=(0, 3, 10), dtype=int32)"
      ]
     },
     "execution_count": 353,
     "metadata": {},
     "output_type": "execute_result"
    }
   ],
   "source": [
    "array3[3:]"
   ]
  },
  {
   "cell_type": "code",
   "execution_count": 355,
   "id": "f3365975-2a91-4675-8973-a9fb833b82a7",
   "metadata": {},
   "outputs": [
    {
     "data": {
      "text/plain": [
       "array([[[11, 12, 19, 10, 14],\n",
       "        [13, 16, 15, 17, 18]]])"
      ]
     },
     "execution_count": 355,
     "metadata": {},
     "output_type": "execute_result"
    }
   ],
   "source": [
    "array2[::-2]"
   ]
  },
  {
   "cell_type": "markdown",
   "id": "e2dae84d-b14f-4122-bb99-a5251546d29d",
   "metadata": {},
   "source": [
    "#### Multi-dimensional array slicing"
   ]
  },
  {
   "cell_type": "code",
   "execution_count": 358,
   "id": "937a7ef3-96a0-4fd1-bf9e-70cf72a41f11",
   "metadata": {},
   "outputs": [
    {
     "data": {
      "text/plain": [
       "array([[ 0,  1,  2,  3,  4,  5,  6,  7,  8,  9],\n",
       "       [10, 11, 12, 13, 14, 15, 16, 17, 18, 19],\n",
       "       [20, 21, 22, 23, 24, 25, 26, 27, 28, 29],\n",
       "       [30, 31, 32, 33, 34, 35, 36, 37, 38, 39]])"
      ]
     },
     "execution_count": 358,
     "metadata": {},
     "output_type": "execute_result"
    }
   ],
   "source": [
    "import numpy as np\n",
    "array1 = np.arange(40).reshape(4, 10)\n",
    "array1"
   ]
  },
  {
   "cell_type": "code",
   "execution_count": 360,
   "id": "0b359f87-3981-4f11-b76b-6de8a34ebbb9",
   "metadata": {},
   "outputs": [
    {
     "data": {
      "text/plain": [
       "array([10, 11, 12, 13, 14, 15, 16, 17, 18, 19])"
      ]
     },
     "execution_count": 360,
     "metadata": {},
     "output_type": "execute_result"
    }
   ],
   "source": [
    "array1[1,:]"
   ]
  },
  {
   "cell_type": "code",
   "execution_count": 362,
   "id": "ef6b0151-a0c5-41b9-9b26-210153b26c0e",
   "metadata": {},
   "outputs": [
    {
     "data": {
      "text/plain": [
       "array([[10, 11, 12, 13, 14, 15],\n",
       "       [20, 21, 22, 23, 24, 25]])"
      ]
     },
     "execution_count": 362,
     "metadata": {},
     "output_type": "execute_result"
    }
   ],
   "source": [
    "array1[1:3, :6]"
   ]
  },
  {
   "cell_type": "markdown",
   "id": "4b6d8a80-d4a9-43c1-b00d-f72277a3c412",
   "metadata": {},
   "source": [
    "#### Challenge: find the inedx of an item in an array without the index function"
   ]
  },
  {
   "cell_type": "code",
   "execution_count": 365,
   "id": "c63141ef-4acf-4902-9334-b4dc6ea9f878",
   "metadata": {},
   "outputs": [
    {
     "data": {
      "text/plain": [
       "array([  1,   2,   3,   4,   5,   6,   7,   8,   9,  10,  11,  12,  13,\n",
       "        14,  15,  16,  17,  18,  19,  20,  21,  22,  23,  24,  25,  26,\n",
       "        27,  28,  29,  30,  31,  32,  33,  34,  35,  36,  37,  38,  39,\n",
       "        40,  41,  42,  43,  44,  45,  46,  47,  48,  49,  50,  51,  52,\n",
       "        53,  54,  55,  56,  57,  58,  59,  60,  61,  62,  63,  64,  65,\n",
       "        66,  67,  68,  69,  70,  71,  72,  73,  74,  75,  76,  77,  78,\n",
       "        79,  80,  81,  82,  83,  84,  85,  86,  87,  88,  89,  90,  91,\n",
       "        92,  93,  94,  95,  96,  97,  -1,  99, 100])"
      ]
     },
     "execution_count": 365,
     "metadata": {},
     "output_type": "execute_result"
    }
   ],
   "source": [
    "import numpy as np\n",
    "challenge = np.arange(1, 101)\n",
    "rng = np.random.default_rng(1234)#seed (will always give the same result)\n",
    "\n",
    "challenge[rng.integers(low = 1, high = 100, size = 1)] = -1\n",
    "# replace random position in array with a value that doesn't exist in the array\n",
    "# challange: find a way to locate challange[i] where i is the index of the new value\n",
    "\n",
    "challenge"
   ]
  },
  {
   "cell_type": "code",
   "execution_count": 404,
   "id": "c9c1a18d-0036-4218-b296-bd6f196fbb51",
   "metadata": {},
   "outputs": [
    {
     "data": {
      "text/plain": [
       "array([-1])"
      ]
     },
     "execution_count": 404,
     "metadata": {},
     "output_type": "execute_result"
    }
   ],
   "source": [
    "array2 = challenge[((challenge == -1) == True)]\n",
    "array2\n",
    "# not sure how to complete this challenge, solution found below:"
   ]
  },
  {
   "cell_type": "markdown",
   "id": "5c59f09d-5806-49cd-a0b1-18eb2b661c3a",
   "metadata": {},
   "source": [
    "### Finding index of item in arrays\n",
    "In Numpy, we can access the index of any item in the array by using the numpy.argwhere(condition) function.\n",
    "It will return the position in the array such that the item fulfills the condition."
   ]
  },
  {
   "cell_type": "code",
   "execution_count": 370,
   "id": "df53b603-2232-4aad-9b40-9d9ff2fd62ca",
   "metadata": {},
   "outputs": [],
   "source": [
    "import numpy as np\n",
    "array1 = np.arange(0, 100)\n",
    "array1[45] = -1\n",
    "index = np.argwhere(array1 == -1)"
   ]
  },
  {
   "cell_type": "code",
   "execution_count": 372,
   "id": "b01b6d3c-8413-465b-b25a-3b2bcb24525c",
   "metadata": {},
   "outputs": [
    {
     "data": {
      "text/plain": [
       "array([[45]], dtype=int64)"
      ]
     },
     "execution_count": 372,
     "metadata": {},
     "output_type": "execute_result"
    }
   ],
   "source": [
    "index"
   ]
  },
  {
   "cell_type": "code",
   "execution_count": 374,
   "id": "f15b59e9-689a-4216-b693-eceefc7c6cf3",
   "metadata": {},
   "outputs": [
    {
     "data": {
      "text/plain": [
       "45"
      ]
     },
     "execution_count": 374,
     "metadata": {},
     "output_type": "execute_result"
    }
   ],
   "source": [
    "# to get the value as an integer\n",
    "int_index = index[0,0]\n",
    "# int_index = index[0][0] also works\n",
    "int_index"
   ]
  },
  {
   "cell_type": "markdown",
   "id": "61611a85-9ff6-401e-b54d-e16c7f27abcb",
   "metadata": {},
   "source": [
    "### Sorting arrays using built in functions\n",
    "Numpy provides us with the ability to sort arrays on a specified axis (columns, rows, etc...) using the built in function sort(axis=n).\n",
    "In this case, 0 would be the first dimensional axis (columns), 1 would be the second dimensional axis (rows) and any higher number would corrispond with a higher dimensional axis."
   ]
  },
  {
   "cell_type": "code",
   "execution_count": 377,
   "id": "f2341076-1842-4bdc-9cca-75c88367c352",
   "metadata": {},
   "outputs": [],
   "source": [
    "import numpy as np\n",
    "array1 = np.random.permutation(np.arange(10))\n",
    "array2 = np.random.permutation((np.arange(20))).reshape(2, 2, 5)\n",
    "array3 = np.random.permutation((np.arange(90))).reshape(3, 3, 10)"
   ]
  },
  {
   "cell_type": "markdown",
   "id": "b076b218-6c13-42a1-91eb-04ce55b187e0",
   "metadata": {},
   "source": [
    "array1"
   ]
  },
  {
   "cell_type": "code",
   "execution_count": 381,
   "id": "5283127d-76a5-4be5-896d-2ab68c21c76b",
   "metadata": {},
   "outputs": [
    {
     "data": {
      "text/plain": [
       "array([[[18, 16,  6,  9,  1],\n",
       "        [ 7,  3,  4, 13,  0]],\n",
       "\n",
       "       [[12, 15,  8,  2, 19],\n",
       "        [14, 11, 10,  5, 17]]])"
      ]
     },
     "execution_count": 381,
     "metadata": {},
     "output_type": "execute_result"
    }
   ],
   "source": [
    "array2"
   ]
  },
  {
   "cell_type": "code",
   "execution_count": 383,
   "id": "05a42f57-8129-4147-881c-11b0e88fd802",
   "metadata": {},
   "outputs": [
    {
     "data": {
      "text/plain": [
       "array([[[23, 66, 17, 74, 25, 33, 41, 61, 58, 51],\n",
       "        [87,  2, 16, 63, 35, 31, 27, 76, 38, 72],\n",
       "        [53, 44, 71, 60, 12, 26, 89, 14, 40, 13]],\n",
       "\n",
       "       [[46, 80,  7, 86,  4, 43, 48, 18, 42, 70],\n",
       "        [ 0, 84, 54,  8, 65, 56, 59, 32, 50, 57],\n",
       "        [73, 55, 19, 79,  3, 83, 77, 78, 45, 20]],\n",
       "\n",
       "       [[22, 82,  9, 28,  5, 39, 29, 37, 49,  6],\n",
       "        [69, 21, 15, 85, 68, 24, 10,  1, 52, 81],\n",
       "        [62, 88, 75, 36, 30, 11, 47, 64, 67, 34]]])"
      ]
     },
     "execution_count": 383,
     "metadata": {},
     "output_type": "execute_result"
    }
   ],
   "source": [
    "array3"
   ]
  },
  {
   "cell_type": "code",
   "execution_count": 385,
   "id": "e11a68f9-6fe8-496d-8c10-8d58c5cc67a7",
   "metadata": {},
   "outputs": [
    {
     "data": {
      "text/plain": [
       "array([0, 1, 2, 3, 4, 5, 6, 7, 8, 9])"
      ]
     },
     "execution_count": 385,
     "metadata": {},
     "output_type": "execute_result"
    }
   ],
   "source": [
    "array1.sort(axis = 0)\n",
    "array1"
   ]
  },
  {
   "cell_type": "code",
   "execution_count": 387,
   "id": "03b6ee0e-46b9-4367-a651-5de612b81ffe",
   "metadata": {},
   "outputs": [
    {
     "data": {
      "text/plain": [
       "array([[[12, 15,  6,  2,  1],\n",
       "        [ 7,  3,  4,  5,  0]],\n",
       "\n",
       "       [[18, 16,  8,  9, 19],\n",
       "        [14, 11, 10, 13, 17]]])"
      ]
     },
     "execution_count": 387,
     "metadata": {},
     "output_type": "execute_result"
    }
   ],
   "source": [
    "array2.sort(axis = 0)\n",
    "array2"
   ]
  },
  {
   "cell_type": "markdown",
   "id": "a46570c8-44ac-4851-82a5-62e980d926b9",
   "metadata": {},
   "source": [
    "#### Sorting arrays with strings"
   ]
  },
  {
   "cell_type": "code",
   "execution_count": 92,
   "id": "3a0a9375-9fa9-474f-bb52-48080ae2dd57",
   "metadata": {},
   "outputs": [
    {
     "data": {
      "text/plain": [
       "['Constantonople',\n",
       " 'Hong kong',\n",
       " 'Istanbul',\n",
       " 'London',\n",
       " 'New Amsterdam',\n",
       " 'New york',\n",
       " 'Paris']"
      ]
     },
     "execution_count": 92,
     "metadata": {},
     "output_type": "execute_result"
    }
   ],
   "source": [
    "import numpy as np\n",
    "array1 = ['London', 'Paris', 'Hong kong', 'Istanbul', 'Constantinople', 'New Amsterdam', 'New york']\n",
    "array1.sort()\n",
    "array1"
   ]
  },
  {
   "cell_type": "markdown",
   "id": "f2f2e631-d157-4b55-8fa6-de6afc57a1fc",
   "metadata": {},
   "source": [
    "### Applying operations to arrays\n",
    "We can apply certain operations to arrays, allowing us to manipulate existing arrays or derive new ones.\n",
    "For example, we can create a 'boolean mask' of an array, that is, an array of all of the values in another array which fulfil a certain criteria.</br>\n",
    "'Masking', as opposed to 'slicing', actually creates a copy of the array values as opposed to referencing it. The syntax of this operation looks like this: array = (condition of array).</br>\n",
    "\n",
    "We can utilise this functionality to create a new array with only the values which fulfil the conditions. For this to function correctly, we can use the array[condition of array] syntax.</br>\n",
    "\n",
    "#### Broadcasting\n",
    "Numpy allows for an operation called 'broadcasting' which allows us to do the equivelent of applying an operation between two arrays, if one of the arrays was made up of only one value (i.e adding a number to every item in an array).\n",
    "This can be done by simply applying an operator to an array alongside an operand.</br>\n",
    "Broadcasting is not possible in all configurations, while broadcasting different shapes to an array is possiblem, they must be compatible, similarly to how the reshape function may only work in some configurations."
   ]
  },
  {
   "cell_type": "code",
   "execution_count": 419,
   "id": "9508ab7c-e475-4424-bf8b-7c0d4b77a80e",
   "metadata": {},
   "outputs": [
    {
     "data": {
      "text/plain": [
       "array([ True, False,  True, False,  True, False,  True, False,  True,\n",
       "       False])"
      ]
     },
     "execution_count": 419,
     "metadata": {},
     "output_type": "execute_result"
    }
   ],
   "source": [
    "import numpy as np\n",
    "array1 = np.arange(10)\n",
    "array2 = (array1 % 2 == 0)\n",
    "array2"
   ]
  },
  {
   "cell_type": "code",
   "execution_count": 421,
   "id": "0afd8cf0-5ac1-4a84-80e8-39f25f4925d3",
   "metadata": {},
   "outputs": [
    {
     "data": {
      "text/plain": [
       "array([0, 2, 4, 6, 8])"
      ]
     },
     "execution_count": 421,
     "metadata": {},
     "output_type": "execute_result"
    }
   ],
   "source": [
    "array3 = array1[array1 % 2 == 0]\n",
    "array3"
   ]
  },
  {
   "cell_type": "code",
   "execution_count": 427,
   "id": "df3d4294-9fdb-4da9-8e36-330ad88293e3",
   "metadata": {},
   "outputs": [
    {
     "data": {
      "text/plain": [
       "array([-1,  2,  4,  6,  8])"
      ]
     },
     "execution_count": 427,
     "metadata": {},
     "output_type": "execute_result"
    }
   ],
   "source": [
    "# checking for viewing vs copying\n",
    "array3[0] = -1\n",
    "array3"
   ]
  },
  {
   "cell_type": "code",
   "execution_count": 429,
   "id": "93838edc-916e-4c30-8d3e-2f5092f66933",
   "metadata": {},
   "outputs": [
    {
     "data": {
      "text/plain": [
       "array([0, 1, 2, 3, 4, 5, 6, 7, 8, 9])"
      ]
     },
     "execution_count": 429,
     "metadata": {},
     "output_type": "execute_result"
    }
   ],
   "source": [
    "array1"
   ]
  },
  {
   "cell_type": "code",
   "execution_count": 432,
   "id": "011735b8-0885-4ef1-bf64-89b638bed0fa",
   "metadata": {},
   "outputs": [
    {
     "data": {
      "text/plain": [
       "array([3, 4, 5, 6, 7])"
      ]
     },
     "execution_count": 432,
     "metadata": {},
     "output_type": "execute_result"
    }
   ],
   "source": [
    "array4 = array1[(array1 > 2) & (array1 < 8)]\n",
    "array4"
   ]
  },
  {
   "cell_type": "markdown",
   "id": "b157f4ec-0741-4453-ae35-023e0f80ea86",
   "metadata": {},
   "source": [
    "#### Discrepency: array vs. single-object selection\n",
    "When using selection statements, such as the one above, you might have noticed we used the '&' syntax rather than the 'and' syntax. This is because this newer syntax, '&', is actually used for selection statements dealing with arrays, and the 'and' syntax is used for single-object selection.</>\n",
    "\n",
    "##### List with different array selection operations:\n",
    "| Array | Single-object |\n",
    "| --- | --- |\n",
    "| & | and |\n",
    "| \\| | or |\n",
    "| ~ | not |"
   ]
  },
  {
   "cell_type": "code",
   "execution_count": 28,
   "id": "83a2f9e2-e8e0-41fb-94b7-66b30af5ed23",
   "metadata": {},
   "outputs": [],
   "source": [
    "import numpy as np\n",
    "array1 = np.arange(1, 21) # values from 1 - 20 (inclusive)\n",
    "array2 = array1[((array1 % 3 == 0) | (array1 % 5 == 0)) & ~(array1 == 0)] # divisible by 3 or 5 and not equal to 0"
   ]
  },
  {
   "cell_type": "code",
   "execution_count": 30,
   "id": "e6b083d7-e8d4-4e90-b4d7-41d712117b5a",
   "metadata": {},
   "outputs": [
    {
     "data": {
      "text/plain": [
       "array([ 3,  5,  6,  9, 10, 12, 15, 18, 20])"
      ]
     },
     "execution_count": 30,
     "metadata": {},
     "output_type": "execute_result"
    }
   ],
   "source": [
    "array2"
   ]
  },
  {
   "cell_type": "markdown",
   "id": "61bc11e7-5205-47d5-bd4c-6e050b429224",
   "metadata": {},
   "source": [
    "#### Broadcasting"
   ]
  },
  {
   "cell_type": "code",
   "execution_count": 35,
   "id": "cdde3ddd-a61f-405e-96d0-fa4320278ff0",
   "metadata": {},
   "outputs": [
    {
     "data": {
      "text/plain": [
       "array([ 6,  7,  8,  9, 10, 11, 12, 13, 14, 15, 16, 17, 18, 19, 20, 21, 22,\n",
       "       23, 24, 25])"
      ]
     },
     "execution_count": 35,
     "metadata": {},
     "output_type": "execute_result"
    }
   ],
   "source": [
    "import numpy as np\n",
    "array1 = np.arange(1, 21)\n",
    "array2 = array1 + 5\n",
    "array2"
   ]
  },
  {
   "cell_type": "code",
   "execution_count": 37,
   "id": "4f34b641-bc48-4dfe-b094-e7343f168091",
   "metadata": {},
   "outputs": [],
   "source": [
    "array3 = array1.reshape(2, 10)"
   ]
  },
  {
   "cell_type": "code",
   "execution_count": 41,
   "id": "3eade8d8-3c5c-4dc1-a79e-7a6c0e4f56f3",
   "metadata": {},
   "outputs": [
    {
     "data": {
      "text/plain": [
       "array([[ 2,  4,  6,  8, 10, 12, 14, 16, 18, 20],\n",
       "       [11, 12, 13, 14, 15, 16, 17, 18, 19, 20]])"
      ]
     },
     "execution_count": 41,
     "metadata": {},
     "output_type": "execute_result"
    }
   ],
   "source": [
    "operand1 = [[2], [1]]\n",
    "matrix1 = array3 * operand1\n",
    "matrix1"
   ]
  },
  {
   "cell_type": "code",
   "execution_count": 43,
   "id": "24cf14cf-653c-4261-8afe-65be08d8cb50",
   "metadata": {},
   "outputs": [
    {
     "data": {
      "text/plain": [
       "array([[11, 12, 13, 14, 15, 16, 17, 18, 19, 20],\n",
       "       [ 1,  2,  3,  4,  5,  6,  7,  8,  9, 10]])"
      ]
     },
     "execution_count": 43,
     "metadata": {},
     "output_type": "execute_result"
    }
   ],
   "source": [
    "operand2 = [[10], [-10]]\n",
    "matrix2 = array3 + operand2\n",
    "matrix2"
   ]
  },
  {
   "cell_type": "code",
   "execution_count": 67,
   "id": "f5f39980-38ab-4b9e-9be1-ce9c210ce55c",
   "metadata": {},
   "outputs": [
    {
     "data": {
      "text/plain": [
       "array([[  1.,   2.,   3.,   4.,   5.,   6.,   7.,   8.,   9.,  10.],\n",
       "       [  2.,   4.,   6.,   8.,  10.,  12.,  14.,  16.,  18.,  20.],\n",
       "       [  3.,   6.,   9.,  12.,  15.,  18.,  21.,  24.,  27.,  30.],\n",
       "       [  4.,   8.,  12.,  16.,  20.,  24.,  28.,  32.,  36.,  40.],\n",
       "       [  5.,  10.,  15.,  20.,  25.,  30.,  35.,  40.,  45.,  50.],\n",
       "       [  6.,  12.,  18.,  24.,  30.,  36.,  42.,  48.,  54.,  60.],\n",
       "       [  7.,  14.,  21.,  28.,  35.,  42.,  49.,  56.,  63.,  70.],\n",
       "       [  8.,  16.,  24.,  32.,  40.,  48.,  56.,  64.,  72.,  80.],\n",
       "       [  9.,  18.,  27.,  36.,  45.,  54.,  63.,  72.,  81.,  90.],\n",
       "       [ 10.,  20.,  30.,  40.,  50.,  60.,  70.,  80.,  90., 100.]])"
      ]
     },
     "execution_count": 67,
     "metadata": {},
     "output_type": "execute_result"
    }
   ],
   "source": [
    "# create a multiplication table of size 10\n",
    "matrix3 = np.ones(100).reshape(10,10) * array1[0:10]\n",
    "matrix4 = matrix3 * array1[0:10].reshape(10, 1)\n",
    "matrix4"
   ]
  },
  {
   "cell_type": "markdown",
   "id": "3b1155b0-eaa3-410d-8cc9-8813fbef35bb",
   "metadata": {},
   "source": [
    "### Concatenation of arrays in numpy\n",
    "Using the numpy.hstack() (horizontal) and numpy.vstack() (vertical) functions, we can concatenate arrays, including multi-dimensional arrays together.</br>\n",
    "\n",
    "It is important that there is a seperate, more general, numpy.concat(axis=n) function in which you can specify the axis upon which the concatenation takes place."
   ]
  },
  {
   "cell_type": "code",
   "execution_count": 81,
   "id": "face503c-f78b-4884-80d0-062ac5b8da2a",
   "metadata": {},
   "outputs": [
    {
     "data": {
      "text/plain": [
       "array([[3., 6., 2.],\n",
       "       [0., 5., 1.]])"
      ]
     },
     "execution_count": 81,
     "metadata": {},
     "output_type": "execute_result"
    }
   ],
   "source": [
    "array1 = np.round(10*np.random.rand(2,3))\n",
    "array1"
   ]
  },
  {
   "cell_type": "code",
   "execution_count": 83,
   "id": "2a87d473-2ba2-4c35-ba77-c07890a6bfdc",
   "metadata": {},
   "outputs": [
    {
     "data": {
      "text/plain": [
       "array([[2., 4.],\n",
       "       [4., 9.]])"
      ]
     },
     "execution_count": 83,
     "metadata": {},
     "output_type": "execute_result"
    }
   ],
   "source": [
    "array2 = np.round(10*np.random.rand(2,2))\n",
    "array2"
   ]
  },
  {
   "cell_type": "code",
   "execution_count": 85,
   "id": "9c080a21-5659-47d1-aea1-6ef66db6739c",
   "metadata": {},
   "outputs": [
    {
     "data": {
      "text/plain": [
       "array([[3., 6., 2., 2., 4.],\n",
       "       [0., 5., 1., 4., 9.]])"
      ]
     },
     "execution_count": 85,
     "metadata": {},
     "output_type": "execute_result"
    }
   ],
   "source": [
    "matrix1 = np.hstack((array1, array2))\n",
    "matrix1"
   ]
  },
  {
   "cell_type": "raw",
   "id": "19c7e59c-c159-429c-a6ae-64adbac015ef",
   "metadata": {},
   "source": [
    "array3 = np.arange(10)\n",
    "array4 = np.arange(10,20)\n",
    "matrix2 = np.vstack((array3, array4))\n",
    "matrix2"
   ]
  },
  {
   "cell_type": "code",
   "execution_count": null,
   "id": "5eb6449d-18c0-4654-ae4c-034c91ef70d7",
   "metadata": {},
   "outputs": [],
   "source": []
  }
 ],
 "metadata": {
  "kernelspec": {
   "display_name": "Python 3 (ipykernel)",
   "language": "python",
   "name": "python3"
  },
  "language_info": {
   "codemirror_mode": {
    "name": "ipython",
    "version": 3
   },
   "file_extension": ".py",
   "mimetype": "text/x-python",
   "name": "python",
   "nbconvert_exporter": "python",
   "pygments_lexer": "ipython3",
   "version": "3.12.7"
  }
 },
 "nbformat": 4,
 "nbformat_minor": 5
}
