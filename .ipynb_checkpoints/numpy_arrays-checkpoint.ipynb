{
 "cells": [
  {
   "cell_type": "markdown",
   "id": "c8cdc342-12c5-4ee9-b8d5-1f3a7360d2db",
   "metadata": {},
   "source": [
    "# Using numpy in python\n",
    "Numpy allows us to use efficient and fast arrays, matrices and apply mathematical functions such as sorting, fourier transforms and linear algebra upon them.\n",
    "\n",
    "The first step is to import numpy into our file:"
   ]
  },
  {
   "cell_type": "code",
   "execution_count": 19,
   "id": "31eb7b6b-e56c-4d2c-8f8e-21a26f54ffd1",
   "metadata": {},
   "outputs": [],
   "source": [
    "import numpy as np"
   ]
  },
  {
   "cell_type": "markdown",
   "id": "98f97d9c-e434-45db-897d-94b3241d419b",
   "metadata": {},
   "source": [
    "### Defining arrays, and datatypes:\n",
    "To define an array using NumPy, we will need to create a variable, let's call it 'array1' using numpy.array().</br>\n",
    "We must also assign the values from declaration, and we can specify the data type using the argument dtype = 'a', where a is our datatype. In the example below, the value 'i' is used to specify the integer datatype:"
   ]
  },
  {
   "cell_type": "code",
   "execution_count": 21,
   "id": "798a7b93-94fc-4e9f-9cbc-5b9fe0b48b5f",
   "metadata": {},
   "outputs": [],
   "source": [
    "import numpy as np\n",
    "array1 = np.array([0,1,2,3,4], dtype='i')"
   ]
  },
  {
   "cell_type": "markdown",
   "id": "aba396c5-8152-459a-82a4-5e88ed827f89",
   "metadata": {},
   "source": [
    "### Methods and functions using arrays:\n",
    "We can print all of the values in our array by using the print() function."
   ]
  },
  {
   "cell_type": "code",
   "execution_count": 27,
   "id": "82bd304f-3506-4747-8475-923398748c84",
   "metadata": {},
   "outputs": [
    {
     "name": "stdout",
     "output_type": "stream",
     "text": [
      "[0.1 0.2 0.3 0.4 0.5 0.6 0.7 0.8 0.9 1. ]\n"
     ]
    }
   ],
   "source": [
    "import numpy as np\n",
    "array1 = np.array([0.1,0.2,0.3,0.4,0.5,0.6,0.7,0.8,0.9,1.0], dtype = 'f')\n",
    "print(array1)"
   ]
  },
  {
   "cell_type": "code",
   "execution_count": null,
   "id": "f3dfc868-cd9e-43c1-9d45-9ffeb69ecc1b",
   "metadata": {},
   "outputs": [],
   "source": []
  }
 ],
 "metadata": {
  "kernelspec": {
   "display_name": "Python 3 (ipykernel)",
   "language": "python",
   "name": "python3"
  },
  "language_info": {
   "codemirror_mode": {
    "name": "ipython",
    "version": 3
   },
   "file_extension": ".py",
   "mimetype": "text/x-python",
   "name": "python",
   "nbconvert_exporter": "python",
   "pygments_lexer": "ipython3",
   "version": "3.12.7"
  }
 },
 "nbformat": 4,
 "nbformat_minor": 5
}
